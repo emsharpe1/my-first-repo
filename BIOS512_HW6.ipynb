{
 "cells": [
  {
   "cell_type": "markdown",
   "id": "e28ee416-9046-4d39-b791-da6d3145e95f",
   "metadata": {},
   "source": [
    "# Homework 6\n",
    "This homework builds on the effective visualization workshop with the Star Trek data. Below is what we completed in class. Output is suppressed for readability, but you can remove the supression on your code if you'd like."
   ]
  },
  {
   "cell_type": "code",
   "execution_count": 1,
   "id": "a99536e7-2021-47ad-8785-1593cbb01659",
   "metadata": {
    "trusted": true,
    "vscode": {
     "languageId": "r"
    }
   },
   "outputs": [],
   "source": [
    "invisible({\n",
    "suppressPackageStartupMessages(library(tidyverse))\n",
    "\n",
    "# Get the data.\n",
    "dialogs <- read_csv(\n",
    "  \"https://raw.githubusercontent.com/Vincent-Toups/bios512/fcbc65a2696c7cff80d0f6ed1dd5c97abf0ef800/effective-visualization/source_data/tng.csv\",\n",
    "  show_col_types = FALSE\n",
    ")\n",
    "head(dialogs, 10) # Showing first 10 observations\n",
    "\n",
    "# Checkout the data.\n",
    "names(dialogs)\n",
    "dialogs %>% group_by(character) %>% tally() %>% arrange(desc(n))\n",
    "dialogs %>% mutate(dialog_length=str_length(dialog)) %>% group_by(character) %>% summarize(mean_dialog_length = mean(dialog_length)) %>% arrange(desc(mean_dialog_length))\n",
    "\n",
    "# Fix weird data.\n",
    "dialogs %>% filter(character==\"BEVERLY'S\")\n",
    "\n",
    "dialogs_fixed <- dialogs %>%\n",
    "  mutate(\n",
    "    character = str_replace_all(character, \"'S.*$\", \"\"),\n",
    "    character = str_replace_all(character, \" VOICE\", \"\"),\n",
    "    character = str_replace_all(character, \"\\\\.\", \"\"),\n",
    "    character = str_replace_all(character, \"'\", \"\"),\n",
    "    character = str_replace_all(character, \"S COM\", \"\"),\n",
    "    character = str_replace_all(character, \" COM\", \"\"),\n",
    "    dialog_length = str_length(dialog)\n",
    "  ) %>%\n",
    "  filter(character %in% unlist(str_split(\"PICARD RIKER DATA TROI BEVERLY WORF WESLEY GEORDI\", \" \")))\n",
    "\n",
    "dialogs_fixed %>% group_by(character) %>% summarize(mean_dialog_length = mean(dialog_length), std_dialog_length=sd(dialog_length)) %>% arrange(desc(mean_dialog_length))\n",
    "\n",
    "dialog_len_per_ep <- dialogs_fixed %>% group_by(character, episode_number) %>% summarize(mean_dialog_length = mean(dialog_length), std_dialog_length=sd(dialog_length), .groups = \"drop\") %>% arrange(desc(mean_dialog_length))\n",
    "\n",
    "dialog_len_per_ep\n",
    "\n",
    "# Plot the data.\n",
    "ggplot(dialogs_fixed) + geom_density(aes(x=dialog_length))\n",
    "\n",
    "for_factor <- dialog_len_per_ep %>% group_by(character) %>% summarise(m=mean(mean_dialog_length)) %>% arrange(desc(m))\n",
    "ggplot(dialog_len_per_ep, aes(factor(character,for_factor$character), mean_dialog_length)) + geom_boxplot()\n",
    "\n",
    "dialog_len_per_ep <- dialogs_fixed %>% \n",
    "    group_by(character, episode_number) %>% \n",
    "    summarize(mean_dialog_length = mean(dialog_length), dialog_count=n(), .groups = \"drop\") %>% \n",
    "    arrange(desc(mean_dialog_length))\n",
    "\n",
    "ggplot(dialog_len_per_ep, aes(dialog_count, mean_dialog_length)) + geom_point(aes(color=character)) + facet_wrap(~character)\n",
    "})"
   ]
  },
  {
   "cell_type": "markdown",
   "id": "bea9c7e6",
   "metadata": {},
   "source": [
    "## Question 1\n",
    "In class, we left off on the plot below, which shows the distribution of dialog count by mean dialog length, where each point represents an episode. Interpret these results. How can we tell the character's role in the story by their plot?"
   ]
  },
  {
   "cell_type": "code",
   "execution_count": 2,
   "id": "981e6cdd",
   "metadata": {
    "trusted": true,
    "vscode": {
     "languageId": "r"
    }
   },
   "outputs": [
    {
     "data": {
      "image/png": "[encoded data removed]",
      "text/plain": [
       "plot without title"
      ]
     },
     "metadata": {
      "image/png": {
       "height": 420,
       "width": 420
      }
     },
     "output_type": "display_data"
    }
   ],
   "source": [
    "ggplot(dialog_len_per_ep, aes(dialog_count, mean_dialog_length)) + \n",
    "    geom_point(aes(color=character)) + \n",
    "    facet_wrap(~character)"
   ]
  },
  {
   "cell_type": "markdown",
   "id": "7eb49a51",
   "metadata": {},
   "source": [
    "These graphs demonstrate the ratios of dialog length to dialog count. We can see that some characters have fewer, longer dialogues (e.g., Troi), while others have more short dialogues (e.g., Picard). These graphs can demonstrate how some characters may be prominent, but have less depth because they speak frequently but not for long. Meanwhile, characters who have fewer long dialogues might fit the sage archetype. Characters who have both long and frequent dialogues are likely main characters in the show. Characters who do not have many dialogues or long dialogues are likely not prominent characters in the show. "
   ]
  },
  {
   "cell_type": "markdown",
   "id": "912f599e-75ee-4dc3-96a4-4ad8ddaeddfa",
   "metadata": {},
   "source": [
    "## Question 2\n",
    "#### a) Compare Beverly's mean dialog per episode vs. mean dialog count per episode from season 1 (episodes 102-126) to season 3 (episodes 149-174) in a table.  \n",
    "*Hints*:  \n",
    "-   First, use `filter()` to get - 1) the dialog from only Beverly's character and 2) the episodes within the ranges given.\n",
    "-   Then, add a season variable using `mutate()` with `case_when()`.\n",
    "-   To create the means per episode, after your `mutate()` step, you'll need to `group_by()` season and episode number, then you can do your `summarize()` step to get the means by episode. At the end of the `summary()` statement (inside the parenthesis), add `.groups=\"drop\"`. \n",
    "-   Then, to get the mean of means, you'll do the same as above, but only grouping by season. "
   ]
  },
  {
   "cell_type": "code",
   "execution_count": 27,
   "id": "9acc00c4",
   "metadata": {
    "vscode": {
     "languageId": "r"
    }
   },
   "outputs": [
    {
     "data": {
      "text/html": [
       "<table class=\"dataframe\">\n",
       "<caption>A tibble: 2 × 3</caption>\n",
       "<thead>\n",
       "\t<tr><th scope=col>season</th><th scope=col>mean(mean_dialog_length)</th><th scope=col>mean(dialog_count)</th></tr>\n",
       "\t<tr><th scope=col>&lt;chr&gt;</th><th scope=col>&lt;dbl&gt;</th><th scope=col>&lt;dbl&gt;</th></tr>\n",
       "</thead>\n",
       "<tbody>\n",
       "\t<tr><td>Season 1</td><td>56.48460</td><td>25.40</td></tr>\n",
       "\t<tr><td>Season 3</td><td>67.04817</td><td>19.64</td></tr>\n",
       "</tbody>\n",
       "</table>\n"
      ],
      "text/latex": [
       "A tibble: 2 × 3\n",
       "\\begin{tabular}{lll}\n",
       " season & mean(mean\\_dialog\\_length) & mean(dialog\\_count)\\\\\n",
       " <chr> & <dbl> & <dbl>\\\\\n",
       "\\hline\n",
       "\t Season 1 & 56.48460 & 25.40\\\\\n",
       "\t Season 3 & 67.04817 & 19.64\\\\\n",
       "\\end{tabular}\n"
      ],
      "text/markdown": [
       "\n",
       "A tibble: 2 × 3\n",
       "\n",
       "| season &lt;chr&gt; | mean(mean_dialog_length) &lt;dbl&gt; | mean(dialog_count) &lt;dbl&gt; |\n",
       "|---|---|---|\n",
       "| Season 1 | 56.48460 | 25.40 |\n",
       "| Season 3 | 67.04817 | 19.64 |\n",
       "\n"
      ],
      "text/plain": [
       "  season   mean(mean_dialog_length) mean(dialog_count)\n",
       "1 Season 1 56.48460                 25.40             \n",
       "2 Season 3 67.04817                 19.64             "
      ]
     },
     "metadata": {},
     "output_type": "display_data"
    }
   ],
   "source": [
    "beverly<- dialog_len_per_ep %>%\n",
    "    filter(character==\"BEVERLY\",  episode_number >= 102 & episode_number <= 126 | episode_number >= 149 & episode_number <= 174) %>%\n",
    "    mutate(season = case_when(\n",
    "    episode_number >= 102 & episode_number <= 126 ~ \"Season 1\",\n",
    "    episode_number >= 149 & episode_number <= 174 ~ \"Season 3\")) %>%\n",
    "    group_by(season, episode_number) %>% \n",
    "    summarize(mean_dialog_length, dialog_count, .groups=\"drop\") %>%\n",
    "    group_by(season) %>%\n",
    "    summarize(mean(mean_dialog_length), mean(dialog_count), .groups=\"drop\")\n",
    "beverly"
   ]
  },
  {
   "cell_type": "markdown",
   "id": "ed279253-496a-4663-af45-4e6f8dea8b2f",
   "metadata": {},
   "source": [
    "#### b) In class, we talked about this character saying the actress has stated that after she was fired and rehired, the writers began giving her storylines that made her feel like a male character. How is this reflected in our table?"
   ]
  },
  {
   "cell_type": "markdown",
   "id": "4262ba55",
   "metadata": {},
   "source": [
    "This change is reflected in a longer dialogue length and fewer instances of dialogues in season 3. These changes made her feel more like a male character because her character was given more depth. "
   ]
  },
  {
   "cell_type": "markdown",
   "id": "b7c71595-1076-46e1-8583-6f9089e38adb",
   "metadata": {},
   "source": [
    "## Question 3\n",
    "Let's compare the vocabulary richness (unique words / total words) of each character. \n",
    "#### a) Tokenize dialog into words, remove punctuation, convert to lowercase. Then filter out the stop words in the list below (from https://gist.github.com/sebleier/554280).\n",
    "*Hint*: Here's a template for that this step should look like:\n",
    "```\n",
    "tokens <- YOUR_DATASET %>%\n",
    "  # Split each dialog into words\n",
    "  mutate(word_list = str_split(DIALOG_COLUMN, \"\\\\s+\")) %>%\n",
    "  \n",
    "  # Unnest the list column so each word is a row\n",
    "  unnest(word_list) %>%\n",
    "  \n",
    "  # Clean words\n",
    "  mutate(\n",
    "    word = str_remove_all(word_list, \"[[:punct:]]\"),  # Remove punctuation\n",
    "    word = str_to_lower(word)                         # Convert to lowercase\n",
    "  ) %>%\n",
    "  \n",
    "  # Remove empty strings and stopwords\n",
    "  filter(word != \"\", !word %in% STOPWORDS)\n",
    "```"
   ]
  },
  {
   "cell_type": "code",
   "execution_count": 28,
   "id": "df525192-1206-4ae8-bc78-eb10f7a2cd5c",
   "metadata": {
    "trusted": true,
    "vscode": {
     "languageId": "r"
    }
   },
   "outputs": [],
   "source": [
    "stop_words <- c(\n",
    "  \"i\",\"me\",\"my\",\"myself\",\"we\",\"our\",\"ours\",\"ourselves\",\"you\",\"your\",\"yours\",\"yourself\",\n",
    "  \"yourselves\",\"he\",\"him\",\"his\",\"himself\",\"she\",\"her\",\"hers\",\"herself\",\"it\",\"its\",\"itself\",\n",
    "  \"they\",\"them\",\"their\",\"theirs\",\"themselves\",\"what\",\"which\",\"who\",\"whom\",\"this\",\"that\",\n",
    "  \"these\",\"those\",\"am\",\"is\",\"are\",\"was\",\"were\",\"be\",\"been\",\"being\",\"have\",\"has\",\"had\",\n",
    "  \"having\",\"do\",\"does\",\"did\",\"doing\",\"a\",\"an\",\"the\",\"and\",\"but\",\"if\",\"or\",\"because\",\"as\",\n",
    "  \"until\",\"while\",\"of\",\"at\",\"by\",\"for\",\"with\",\"about\",\"against\",\"between\",\"into\",\"through\",\n",
    "  \"during\",\"before\",\"after\",\"above\",\"below\",\"to\",\"from\",\"up\",\"down\",\"in\",\"out\",\"on\",\"off\",\n",
    "  \"over\",\"under\",\"again\",\"further\",\"then\",\"once\",\"here\",\"there\",\"when\",\"where\",\"why\",\"how\",\n",
    "  \"all\",\"any\",\"both\",\"each\",\"few\",\"more\",\"most\",\"other\",\"some\",\"such\",\"no\",\"nor\",\"not\",\n",
    "  \"only\",\"own\",\"same\",\"so\",\"than\",\"too\",\"very\",\"s\",\"t\",\"can\",\"will\",\"just\",\"don\",\"should\",\"now\"\n",
    ")"
   ]
  },
  {
   "cell_type": "code",
   "execution_count": 35,
   "id": "3c4c1cfe",
   "metadata": {
    "vscode": {
     "languageId": "r"
    }
   },
   "outputs": [
    {
     "data": {
      "text/html": [
       "<table class=\"dataframe\">\n",
       "<caption>A tibble: 6 × 6</caption>\n",
       "<thead>\n",
       "\t<tr><th scope=col>episode_number</th><th scope=col>character</th><th scope=col>dialog</th><th scope=col>dialog_length</th><th scope=col>word_list</th><th scope=col>word</th></tr>\n",
       "\t<tr><th scope=col>&lt;dbl&gt;</th><th scope=col>&lt;chr&gt;</th><th scope=col>&lt;chr&gt;</th><th scope=col>&lt;int&gt;</th><th scope=col>&lt;chr&gt;</th><th scope=col>&lt;chr&gt;</th></tr>\n",
       "</thead>\n",
       "<tbody>\n",
       "\t<tr><td>102</td><td>PICARD</td><td>Captain's log, stardate 42353.7. Our destination is planet Cygnus IV, beyond which lies the great unexplored mass of the galaxy.</td><td>128</td><td>Captain's  </td><td>captains   </td></tr>\n",
       "\t<tr><td>102</td><td>PICARD</td><td>Captain's log, stardate 42353.7. Our destination is planet Cygnus IV, beyond which lies the great unexplored mass of the galaxy.</td><td>128</td><td>log,       </td><td>log        </td></tr>\n",
       "\t<tr><td>102</td><td>PICARD</td><td>Captain's log, stardate 42353.7. Our destination is planet Cygnus IV, beyond which lies the great unexplored mass of the galaxy.</td><td>128</td><td>stardate   </td><td>stardate   </td></tr>\n",
       "\t<tr><td>102</td><td>PICARD</td><td>Captain's log, stardate 42353.7. Our destination is planet Cygnus IV, beyond which lies the great unexplored mass of the galaxy.</td><td>128</td><td>42353.7.   </td><td>423537     </td></tr>\n",
       "\t<tr><td>102</td><td>PICARD</td><td>Captain's log, stardate 42353.7. Our destination is planet Cygnus IV, beyond which lies the great unexplored mass of the galaxy.</td><td>128</td><td>destination</td><td>destination</td></tr>\n",
       "\t<tr><td>102</td><td>PICARD</td><td>Captain's log, stardate 42353.7. Our destination is planet Cygnus IV, beyond which lies the great unexplored mass of the galaxy.</td><td>128</td><td>planet     </td><td>planet     </td></tr>\n",
       "</tbody>\n",
       "</table>\n"
      ],
      "text/latex": [
       "A tibble: 6 × 6\n",
       "\\begin{tabular}{llllll}\n",
       " episode\\_number & character & dialog & dialog\\_length & word\\_list & word\\\\\n",
       " <dbl> & <chr> & <chr> & <int> & <chr> & <chr>\\\\\n",
       "\\hline\n",
       "\t 102 & PICARD & Captain's log, stardate 42353.7. Our destination is planet Cygnus IV, beyond which lies the great unexplored mass of the galaxy. & 128 & Captain's   & captains   \\\\\n",
       "\t 102 & PICARD & Captain's log, stardate 42353.7. Our destination is planet Cygnus IV, beyond which lies the great unexplored mass of the galaxy. & 128 & log,        & log        \\\\\n",
       "\t 102 & PICARD & Captain's log, stardate 42353.7. Our destination is planet Cygnus IV, beyond which lies the great unexplored mass of the galaxy. & 128 & stardate    & stardate   \\\\\n",
       "\t 102 & PICARD & Captain's log, stardate 42353.7. Our destination is planet Cygnus IV, beyond which lies the great unexplored mass of the galaxy. & 128 & 42353.7.    & 423537     \\\\\n",
       "\t 102 & PICARD & Captain's log, stardate 42353.7. Our destination is planet Cygnus IV, beyond which lies the great unexplored mass of the galaxy. & 128 & destination & destination\\\\\n",
       "\t 102 & PICARD & Captain's log, stardate 42353.7. Our destination is planet Cygnus IV, beyond which lies the great unexplored mass of the galaxy. & 128 & planet      & planet     \\\\\n",
       "\\end{tabular}\n"
      ],
      "text/markdown": [
       "\n",
       "A tibble: 6 × 6\n",
       "\n",
       "| episode_number &lt;dbl&gt; | character &lt;chr&gt; | dialog &lt;chr&gt; | dialog_length &lt;int&gt; | word_list &lt;chr&gt; | word &lt;chr&gt; |\n",
       "|---|---|---|---|---|---|\n",
       "| 102 | PICARD | Captain's log, stardate 42353.7. Our destination is planet Cygnus IV, beyond which lies the great unexplored mass of the galaxy. | 128 | Captain's   | captains    |\n",
       "| 102 | PICARD | Captain's log, stardate 42353.7. Our destination is planet Cygnus IV, beyond which lies the great unexplored mass of the galaxy. | 128 | log,        | log         |\n",
       "| 102 | PICARD | Captain's log, stardate 42353.7. Our destination is planet Cygnus IV, beyond which lies the great unexplored mass of the galaxy. | 128 | stardate    | stardate    |\n",
       "| 102 | PICARD | Captain's log, stardate 42353.7. Our destination is planet Cygnus IV, beyond which lies the great unexplored mass of the galaxy. | 128 | 42353.7.    | 423537      |\n",
       "| 102 | PICARD | Captain's log, stardate 42353.7. Our destination is planet Cygnus IV, beyond which lies the great unexplored mass of the galaxy. | 128 | destination | destination |\n",
       "| 102 | PICARD | Captain's log, stardate 42353.7. Our destination is planet Cygnus IV, beyond which lies the great unexplored mass of the galaxy. | 128 | planet      | planet      |\n",
       "\n"
      ],
      "text/plain": [
       "  episode_number character\n",
       "1 102            PICARD   \n",
       "2 102            PICARD   \n",
       "3 102            PICARD   \n",
       "4 102            PICARD   \n",
       "5 102            PICARD   \n",
       "6 102            PICARD   \n",
       "  dialog                                                                                                                          \n",
       "1 Captain's log, stardate 42353.7. Our destination is planet Cygnus IV, beyond which lies the great unexplored mass of the galaxy.\n",
       "2 Captain's log, stardate 42353.7. Our destination is planet Cygnus IV, beyond which lies the great unexplored mass of the galaxy.\n",
       "3 Captain's log, stardate 42353.7. Our destination is planet Cygnus IV, beyond which lies the great unexplored mass of the galaxy.\n",
       "4 Captain's log, stardate 42353.7. Our destination is planet Cygnus IV, beyond which lies the great unexplored mass of the galaxy.\n",
       "5 Captain's log, stardate 42353.7. Our destination is planet Cygnus IV, beyond which lies the great unexplored mass of the galaxy.\n",
       "6 Captain's log, stardate 42353.7. Our destination is planet Cygnus IV, beyond which lies the great unexplored mass of the galaxy.\n",
       "  dialog_length word_list   word       \n",
       "1 128           Captain's   captains   \n",
       "2 128           log,        log        \n",
       "3 128           stardate    stardate   \n",
       "4 128           42353.7.    423537     \n",
       "5 128           destination destination\n",
       "6 128           planet      planet     "
      ]
     },
     "metadata": {},
     "output_type": "display_data"
    }
   ],
   "source": [
    "tokens <- dialogs_fixed %>%\n",
    "  # Split each dialog into words\n",
    "  mutate(word_list = str_split(dialog, \"\\\\s+\")) %>%\n",
    "  \n",
    "  # Unnest the list column so each word is a row\n",
    "  unnest(word_list) %>%\n",
    "  \n",
    "  # Clean words\n",
    "  mutate(\n",
    "    word = str_remove_all(word_list, \"[[:punct:]]\"),  # Remove punctuation\n",
    "    word = str_to_lower(word)                         # Convert to lowercase\n",
    "  ) %>%\n",
    "  \n",
    "  # Remove empty strings and stopwords\n",
    "  filter(word != \"\", !word %in% stop_words)\n",
    "\n",
    "head(tokens)"
   ]
  },
  {
   "cell_type": "markdown",
   "id": "0614dd8b-bcf9-44f6-bebf-f4d58b78c5f0",
   "metadata": {},
   "source": [
    "#### b) Count unique words per character. Print a summary table with the following columns: character, total words, unique words, and vocabulary richness.  \n",
    "*Hint*: Group by character, then use `summarize()` to get what you want. You'll use `n_distinct()` to get the unique word counts. Arrange in descending value of vocabulary richness."
   ]
  },
  {
   "cell_type": "code",
   "execution_count": 39,
   "id": "fd5a2527",
   "metadata": {
    "vscode": {
     "languageId": "r"
    }
   },
   "outputs": [
    {
     "data": {
      "text/html": [
       "<table class=\"dataframe\">\n",
       "<caption>A tibble: 6 × 4</caption>\n",
       "<thead>\n",
       "\t<tr><th scope=col>character</th><th scope=col>total_words</th><th scope=col>unique_words</th><th scope=col>vocabulary_richness</th></tr>\n",
       "\t<tr><th scope=col>&lt;chr&gt;</th><th scope=col>&lt;int&gt;</th><th scope=col>&lt;int&gt;</th><th scope=col>&lt;dbl&gt;</th></tr>\n",
       "</thead>\n",
       "<tbody>\n",
       "\t<tr><td>WESLEY </td><td> 7601</td><td>2291</td><td>0.3014077</td></tr>\n",
       "\t<tr><td>WORF   </td><td>18820</td><td>4318</td><td>0.2294368</td></tr>\n",
       "\t<tr><td>TROI   </td><td>19450</td><td>4187</td><td>0.2152699</td></tr>\n",
       "\t<tr><td>BEVERLY</td><td>22900</td><td>4875</td><td>0.2128821</td></tr>\n",
       "\t<tr><td>DATA   </td><td>45462</td><td>8593</td><td>0.1890150</td></tr>\n",
       "\t<tr><td>GEORDI </td><td>31978</td><td>5465</td><td>0.1708987</td></tr>\n",
       "</tbody>\n",
       "</table>\n"
      ],
      "text/latex": [
       "A tibble: 6 × 4\n",
       "\\begin{tabular}{llll}\n",
       " character & total\\_words & unique\\_words & vocabulary\\_richness\\\\\n",
       " <chr> & <int> & <int> & <dbl>\\\\\n",
       "\\hline\n",
       "\t WESLEY  &  7601 & 2291 & 0.3014077\\\\\n",
       "\t WORF    & 18820 & 4318 & 0.2294368\\\\\n",
       "\t TROI    & 19450 & 4187 & 0.2152699\\\\\n",
       "\t BEVERLY & 22900 & 4875 & 0.2128821\\\\\n",
       "\t DATA    & 45462 & 8593 & 0.1890150\\\\\n",
       "\t GEORDI  & 31978 & 5465 & 0.1708987\\\\\n",
       "\\end{tabular}\n"
      ],
      "text/markdown": [
       "\n",
       "A tibble: 6 × 4\n",
       "\n",
       "| character &lt;chr&gt; | total_words &lt;int&gt; | unique_words &lt;int&gt; | vocabulary_richness &lt;dbl&gt; |\n",
       "|---|---|---|---|\n",
       "| WESLEY  |  7601 | 2291 | 0.3014077 |\n",
       "| WORF    | 18820 | 4318 | 0.2294368 |\n",
       "| TROI    | 19450 | 4187 | 0.2152699 |\n",
       "| BEVERLY | 22900 | 4875 | 0.2128821 |\n",
       "| DATA    | 45462 | 8593 | 0.1890150 |\n",
       "| GEORDI  | 31978 | 5465 | 0.1708987 |\n",
       "\n"
      ],
      "text/plain": [
       "  character total_words unique_words vocabulary_richness\n",
       "1 WESLEY     7601       2291         0.3014077          \n",
       "2 WORF      18820       4318         0.2294368          \n",
       "3 TROI      19450       4187         0.2152699          \n",
       "4 BEVERLY   22900       4875         0.2128821          \n",
       "5 DATA      45462       8593         0.1890150          \n",
       "6 GEORDI    31978       5465         0.1708987          "
      ]
     },
     "metadata": {},
     "output_type": "display_data"
    }
   ],
   "source": [
    "unique_words <- tokens %>%\n",
    "    group_by(character) %>%\n",
    "    summarize(\n",
    "    total_words = n(),\n",
    "    unique_words = n_distinct(word),\n",
    "    vocabulary_richness = unique_words / total_words\n",
    "  ) %>%\n",
    "  arrange(desc(vocabulary_richness))\n",
    "\n",
    "head(unique_words)"
   ]
  },
  {
   "cell_type": "markdown",
   "id": "308dabf8-33a4-49d3-8f03-c8cfbd4df8b8",
   "metadata": {},
   "source": [
    "#### c) Plot total words versus vocab richness. \n",
    "-   Use the character names as the \"points\".\n",
    "    -   *Hint*: Use `geom_text()` to add the character names as the points.\n",
    "-   Do not include a legend.\n",
    "    -   *Hint*: Use `theme()` to remove the legend.\n",
    "-   Add a title and axis titles.\n",
    "    -   *Hint*: Use `labs()` to add titles."
   ]
  },
  {
   "cell_type": "code",
   "execution_count": 43,
   "id": "5e0a083e",
   "metadata": {
    "vscode": {
     "languageId": "r"
    }
   },
   "outputs": [
    {
     "data": {
      "image/png": "[encoded data removed]",
      "text/plain": [
       "plot without title"
      ]
     },
     "metadata": {
      "image/png": {
       "height": 420,
       "width": 420
      }
     },
     "output_type": "display_data"
    }
   ],
   "source": [
    "ggplot(unique_words, aes(x = total_words, y = vocabulary_richness, label = character)) +\n",
    "  geom_text() +\n",
    "  labs(\n",
    "    title = \"Vocabulary Richness vs. Total Words per Character\",\n",
    "    x = \"Total Words\",\n",
    "    y = \"Vocabulary Richness\"\n",
    "  ) +\n",
    "  theme(legend.position = \"none\")"
   ]
  },
  {
   "cell_type": "markdown",
   "id": "5a3c7692-5515-4f70-a1f6-70ab7276e6b8",
   "metadata": {},
   "source": [
    "#### d) Interpret these results. "
   ]
  },
  {
   "cell_type": "markdown",
   "id": "0331a599",
   "metadata": {},
   "source": [
    "These results demonstrate that as total words increase, vocabulary richness decreases for the most part. Characters like Worf, Troi, and Beverly have a lower total word count, but their vocabularies are richer. On the other hand, Picard has a high word count, but a very low vocabulary richness. These results imply that Worf, Troi, and Beverly may have more depth as characters, while Picard seems to be a prominent yet unidimensional character. "
   ]
  },
  {
   "cell_type": "markdown",
   "id": "d3d9ed14-c575-4ab2-90c2-569db7db7db8",
   "metadata": {},
   "source": [
    "## Question 4\n",
    "#### a) Find what episode Wesley left the show as a main character and state it explicitly. Meaning, find the first significant gap where he is not found in more than two episodes in a row. \n",
    "*Hint*: It's after season 3 (ended at episode 174), so you can filter out seasons 1-3 and print Wesley's dialog count per episode. Then, scan the table for the gap. "
   ]
  },
  {
   "cell_type": "code",
   "execution_count": 49,
   "id": "2b3cd1c1",
   "metadata": {
    "vscode": {
     "languageId": "r"
    }
   },
   "outputs": [
    {
     "data": {
      "text/html": [
       "<table class=\"dataframe\">\n",
       "<caption>A tibble: 11 × 4</caption>\n",
       "<thead>\n",
       "\t<tr><th scope=col>character</th><th scope=col>episode_number</th><th scope=col>mean_dialog_length</th><th scope=col>dialog_count</th></tr>\n",
       "\t<tr><th scope=col>&lt;chr&gt;</th><th scope=col>&lt;dbl&gt;</th><th scope=col>&lt;dbl&gt;</th><th scope=col>&lt;int&gt;</th></tr>\n",
       "</thead>\n",
       "<tbody>\n",
       "\t<tr><td>WESLEY</td><td>175</td><td>36.38889</td><td> 18</td></tr>\n",
       "\t<tr><td>WESLEY</td><td>176</td><td>66.50000</td><td>  6</td></tr>\n",
       "\t<tr><td>WESLEY</td><td>177</td><td>53.55556</td><td>  9</td></tr>\n",
       "\t<tr><td>WESLEY</td><td>178</td><td>18.66667</td><td>  6</td></tr>\n",
       "\t<tr><td>WESLEY</td><td>179</td><td>49.97368</td><td> 38</td></tr>\n",
       "\t<tr><td>WESLEY</td><td>181</td><td>45.00000</td><td>  2</td></tr>\n",
       "\t<tr><td>WESLEY</td><td>183</td><td>52.17021</td><td> 94</td></tr>\n",
       "\t<tr><td>WESLEY</td><td>206</td><td>46.90076</td><td>131</td></tr>\n",
       "\t<tr><td>WESLEY</td><td>219</td><td>53.56338</td><td> 71</td></tr>\n",
       "\t<tr><td>WESLEY</td><td>263</td><td>66.33333</td><td> 18</td></tr>\n",
       "\t<tr><td>WESLEY</td><td>272</td><td>52.09278</td><td> 97</td></tr>\n",
       "</tbody>\n",
       "</table>\n"
      ],
      "text/latex": [
       "A tibble: 11 × 4\n",
       "\\begin{tabular}{llll}\n",
       " character & episode\\_number & mean\\_dialog\\_length & dialog\\_count\\\\\n",
       " <chr> & <dbl> & <dbl> & <int>\\\\\n",
       "\\hline\n",
       "\t WESLEY & 175 & 36.38889 &  18\\\\\n",
       "\t WESLEY & 176 & 66.50000 &   6\\\\\n",
       "\t WESLEY & 177 & 53.55556 &   9\\\\\n",
       "\t WESLEY & 178 & 18.66667 &   6\\\\\n",
       "\t WESLEY & 179 & 49.97368 &  38\\\\\n",
       "\t WESLEY & 181 & 45.00000 &   2\\\\\n",
       "\t WESLEY & 183 & 52.17021 &  94\\\\\n",
       "\t WESLEY & 206 & 46.90076 & 131\\\\\n",
       "\t WESLEY & 219 & 53.56338 &  71\\\\\n",
       "\t WESLEY & 263 & 66.33333 &  18\\\\\n",
       "\t WESLEY & 272 & 52.09278 &  97\\\\\n",
       "\\end{tabular}\n"
      ],
      "text/markdown": [
       "\n",
       "A tibble: 11 × 4\n",
       "\n",
       "| character &lt;chr&gt; | episode_number &lt;dbl&gt; | mean_dialog_length &lt;dbl&gt; | dialog_count &lt;int&gt; |\n",
       "|---|---|---|---|\n",
       "| WESLEY | 175 | 36.38889 |  18 |\n",
       "| WESLEY | 176 | 66.50000 |   6 |\n",
       "| WESLEY | 177 | 53.55556 |   9 |\n",
       "| WESLEY | 178 | 18.66667 |   6 |\n",
       "| WESLEY | 179 | 49.97368 |  38 |\n",
       "| WESLEY | 181 | 45.00000 |   2 |\n",
       "| WESLEY | 183 | 52.17021 |  94 |\n",
       "| WESLEY | 206 | 46.90076 | 131 |\n",
       "| WESLEY | 219 | 53.56338 |  71 |\n",
       "| WESLEY | 263 | 66.33333 |  18 |\n",
       "| WESLEY | 272 | 52.09278 |  97 |\n",
       "\n"
      ],
      "text/plain": [
       "   character episode_number mean_dialog_length dialog_count\n",
       "1  WESLEY    175            36.38889            18         \n",
       "2  WESLEY    176            66.50000             6         \n",
       "3  WESLEY    177            53.55556             9         \n",
       "4  WESLEY    178            18.66667             6         \n",
       "5  WESLEY    179            49.97368            38         \n",
       "6  WESLEY    181            45.00000             2         \n",
       "7  WESLEY    183            52.17021            94         \n",
       "8  WESLEY    206            46.90076           131         \n",
       "9  WESLEY    219            53.56338            71         \n",
       "10 WESLEY    263            66.33333            18         \n",
       "11 WESLEY    272            52.09278            97         "
      ]
     },
     "metadata": {},
     "output_type": "display_data"
    }
   ],
   "source": [
    "wesley<- dialog_len_per_ep %>%\n",
    "    filter(character==\"WESLEY\", episode_number > 174) %>%\n",
    "    arrange(episode_number)\n",
    "wesley"
   ]
  },
  {
   "cell_type": "markdown",
   "id": "62950fcf",
   "metadata": {},
   "source": [
    "Wesley left the show as a main character after episode 183. "
   ]
  },
  {
   "cell_type": "markdown",
   "id": "a4b055da-beaa-4574-869c-1b3074edc6a6",
   "metadata": {},
   "source": [
    "#### b) After Wesley leaves the main cast, in which episodes does he make cameo appearances?"
   ]
  },
  {
   "cell_type": "markdown",
   "id": "e12e427c",
   "metadata": {},
   "source": [
    "Wesley makes cameo appearances in episodes 206, 219, 263, and 272 after he left the show as a main character following episode 183. "
   ]
  },
  {
   "cell_type": "markdown",
   "id": "7f4a7e4a-5b37-461a-a92f-829d77af1597",
   "metadata": {},
   "source": [
    "#### c) Dig back into the data. Print:\n",
    "-   Wesley's last piece of dialog before he left the main cast.\n",
    "-   Wesley's last piece of dialog ever.  \n",
    "  \n",
    "*Hint*: To do this, you'll need to filter the `dialogs_fixed` data set to Welsey's lines and the episode number, and use `slice_tail(n = 1)` to get the last observation."
   ]
  },
  {
   "cell_type": "code",
   "execution_count": 58,
   "id": "e41de542",
   "metadata": {
    "vscode": {
     "languageId": "r"
    }
   },
   "outputs": [
    {
     "data": {
      "text/html": [
       "<table class=\"dataframe\">\n",
       "<caption>A tibble: 1 × 4</caption>\n",
       "<thead>\n",
       "\t<tr><th scope=col>episode_number</th><th scope=col>character</th><th scope=col>dialog</th><th scope=col>dialog_length</th></tr>\n",
       "\t<tr><th scope=col>&lt;dbl&gt;</th><th scope=col>&lt;chr&gt;</th><th scope=col>&lt;chr&gt;</th><th scope=col>&lt;int&gt;</th></tr>\n",
       "</thead>\n",
       "<tbody>\n",
       "\t<tr><td>183</td><td>WESLEY</td><td>I can walk.</td><td>11</td></tr>\n",
       "</tbody>\n",
       "</table>\n"
      ],
      "text/latex": [
       "A tibble: 1 × 4\n",
       "\\begin{tabular}{llll}\n",
       " episode\\_number & character & dialog & dialog\\_length\\\\\n",
       " <dbl> & <chr> & <chr> & <int>\\\\\n",
       "\\hline\n",
       "\t 183 & WESLEY & I can walk. & 11\\\\\n",
       "\\end{tabular}\n"
      ],
      "text/markdown": [
       "\n",
       "A tibble: 1 × 4\n",
       "\n",
       "| episode_number &lt;dbl&gt; | character &lt;chr&gt; | dialog &lt;chr&gt; | dialog_length &lt;int&gt; |\n",
       "|---|---|---|---|\n",
       "| 183 | WESLEY | I can walk. | 11 |\n",
       "\n"
      ],
      "text/plain": [
       "  episode_number character dialog      dialog_length\n",
       "1 183            WESLEY    I can walk. 11           "
      ]
     },
     "metadata": {},
     "output_type": "display_data"
    }
   ],
   "source": [
    "wesley_dialog_main <- dialogs_fixed %>%\n",
    "    filter(character==\"WESLEY\", episode_number == 183)%>%\n",
    "    slice_tail(n=1)\n",
    "wesley_dialog_main"
   ]
  },
  {
   "cell_type": "code",
   "execution_count": 59,
   "id": "6b9f4d71",
   "metadata": {
    "vscode": {
     "languageId": "r"
    }
   },
   "outputs": [
    {
     "data": {
      "text/html": [
       "<table class=\"dataframe\">\n",
       "<caption>A tibble: 1 × 4</caption>\n",
       "<thead>\n",
       "\t<tr><th scope=col>episode_number</th><th scope=col>character</th><th scope=col>dialog</th><th scope=col>dialog_length</th></tr>\n",
       "\t<tr><th scope=col>&lt;dbl&gt;</th><th scope=col>&lt;chr&gt;</th><th scope=col>&lt;chr&gt;</th><th scope=col>&lt;int&gt;</th></tr>\n",
       "</thead>\n",
       "<tbody>\n",
       "\t<tr><td>272</td><td>WESLEY</td><td>Good-bye, Mom.</td><td>14</td></tr>\n",
       "</tbody>\n",
       "</table>\n"
      ],
      "text/latex": [
       "A tibble: 1 × 4\n",
       "\\begin{tabular}{llll}\n",
       " episode\\_number & character & dialog & dialog\\_length\\\\\n",
       " <dbl> & <chr> & <chr> & <int>\\\\\n",
       "\\hline\n",
       "\t 272 & WESLEY & Good-bye, Mom. & 14\\\\\n",
       "\\end{tabular}\n"
      ],
      "text/markdown": [
       "\n",
       "A tibble: 1 × 4\n",
       "\n",
       "| episode_number &lt;dbl&gt; | character &lt;chr&gt; | dialog &lt;chr&gt; | dialog_length &lt;int&gt; |\n",
       "|---|---|---|---|\n",
       "| 272 | WESLEY | Good-bye, Mom. | 14 |\n",
       "\n"
      ],
      "text/plain": [
       "  episode_number character dialog         dialog_length\n",
       "1 272            WESLEY    Good-bye, Mom. 14           "
      ]
     },
     "metadata": {},
     "output_type": "display_data"
    }
   ],
   "source": [
    "wesley_dialog_last <- dialogs_fixed %>%\n",
    "    filter(character==\"WESLEY\", episode_number == 272)%>%\n",
    "    slice_tail(n=1)\n",
    "wesley_dialog_last"
   ]
  },
  {
   "cell_type": "markdown",
   "id": "c7724703-d038-4852-b149-41ea10dea45b",
   "metadata": {},
   "source": [
    "## Question 5\n",
    "Create a heatmap with `dialog_len_per_ep` showing mean dialog length per episode for each character. Sort the characters on the y-axis by their overall mean dialog length, with the lowest on top using a factor. Add a title and an axis title. \n",
    "*Hints*:\n",
    "For the factor:\n",
    "1. Compute overall mean (mean of mean) dialog length per character (`group_by()` then `summarize()`), and arrange the overall mean in ascending order. Add `pull(character)` to the end of this step so that you can use character as a factor in the next step. Store all of this in a new tibble.\n",
    "2. Convert character to factor with this order. On `dialog_len_per_ep`, you'll use a mutate statement to add the factor `(mutate(character = factor(character, levels = DATAFROMHINT1))`.\n",
    "3. Create heatmap using `geom_tile()`.\n",
    "4. If you want nicer colors, you can add `scale_fill_viridis_c()` (or another color scale) to your ggplot statement. **Not required**, but fun to mess around with!"
   ]
  },
  {
   "cell_type": "code",
   "execution_count": 67,
   "id": "cfc28483",
   "metadata": {
    "vscode": {
     "languageId": "r"
    }
   },
   "outputs": [
    {
     "data": {
      "text/html": [
       "<style>\n",
       ".list-inline {list-style: none; margin:0; padding: 0}\n",
       ".list-inline>li {display: inline-block}\n",
       ".list-inline>li:not(:last-child)::after {content: \"\\00b7\"; padding: 0 .5ex}\n",
       "</style>\n",
       "<ol class=list-inline><li>'WESLEY'</li><li>'WORF'</li><li>'RIKER'</li><li>'PICARD'</li><li>'TROI'</li><li>'GEORDI'</li><li>'BEVERLY'</li><li>'DATA'</li></ol>\n"
      ],
      "text/latex": [
       "\\begin{enumerate*}\n",
       "\\item 'WESLEY'\n",
       "\\item 'WORF'\n",
       "\\item 'RIKER'\n",
       "\\item 'PICARD'\n",
       "\\item 'TROI'\n",
       "\\item 'GEORDI'\n",
       "\\item 'BEVERLY'\n",
       "\\item 'DATA'\n",
       "\\end{enumerate*}\n"
      ],
      "text/markdown": [
       "1. 'WESLEY'\n",
       "2. 'WORF'\n",
       "3. 'RIKER'\n",
       "4. 'PICARD'\n",
       "5. 'TROI'\n",
       "6. 'GEORDI'\n",
       "7. 'BEVERLY'\n",
       "8. 'DATA'\n",
       "\n",
       "\n"
      ],
      "text/plain": [
       "[1] \"WESLEY\"  \"WORF\"    \"RIKER\"   \"PICARD\"  \"TROI\"    \"GEORDI\"  \"BEVERLY\"\n",
       "[8] \"DATA\"   "
      ]
     },
     "metadata": {},
     "output_type": "display_data"
    }
   ],
   "source": [
    "character_means <- dialog_len_per_ep %>%\n",
    "    group_by(character) %>%\n",
    "    summarize(mean=mean(mean_dialog_length)) %>%\n",
    "    arrange(mean) %>%\n",
    "    pull(character)\n",
    "\n",
    "character_means"
   ]
  },
  {
   "cell_type": "code",
   "execution_count": 72,
   "id": "a3ce057a",
   "metadata": {
    "vscode": {
     "languageId": "r"
    }
   },
   "outputs": [
    {
     "data": {
      "text/html": [
       "<table class=\"dataframe\">\n",
       "<caption>A tibble: 6 × 4</caption>\n",
       "<thead>\n",
       "\t<tr><th scope=col>character</th><th scope=col>episode_number</th><th scope=col>mean_dialog_length</th><th scope=col>dialog_count</th></tr>\n",
       "\t<tr><th scope=col>&lt;fct&gt;</th><th scope=col>&lt;dbl&gt;</th><th scope=col>&lt;dbl&gt;</th><th scope=col>&lt;int&gt;</th></tr>\n",
       "</thead>\n",
       "<tbody>\n",
       "\t<tr><td>TROI   </td><td>129</td><td>185.5000</td><td>2</td></tr>\n",
       "\t<tr><td>GEORDI </td><td>249</td><td>179.0000</td><td>1</td></tr>\n",
       "\t<tr><td>BEVERLY</td><td>242</td><td>158.0000</td><td>2</td></tr>\n",
       "\t<tr><td>BEVERLY</td><td>159</td><td>146.5000</td><td>2</td></tr>\n",
       "\t<tr><td>BEVERLY</td><td>261</td><td>133.5000</td><td>2</td></tr>\n",
       "\t<tr><td>BEVERLY</td><td>116</td><td>129.7143</td><td>7</td></tr>\n",
       "</tbody>\n",
       "</table>\n"
      ],
      "text/latex": [
       "A tibble: 6 × 4\n",
       "\\begin{tabular}{llll}\n",
       " character & episode\\_number & mean\\_dialog\\_length & dialog\\_count\\\\\n",
       " <fct> & <dbl> & <dbl> & <int>\\\\\n",
       "\\hline\n",
       "\t TROI    & 129 & 185.5000 & 2\\\\\n",
       "\t GEORDI  & 249 & 179.0000 & 1\\\\\n",
       "\t BEVERLY & 242 & 158.0000 & 2\\\\\n",
       "\t BEVERLY & 159 & 146.5000 & 2\\\\\n",
       "\t BEVERLY & 261 & 133.5000 & 2\\\\\n",
       "\t BEVERLY & 116 & 129.7143 & 7\\\\\n",
       "\\end{tabular}\n"
      ],
      "text/markdown": [
       "\n",
       "A tibble: 6 × 4\n",
       "\n",
       "| character &lt;fct&gt; | episode_number &lt;dbl&gt; | mean_dialog_length &lt;dbl&gt; | dialog_count &lt;int&gt; |\n",
       "|---|---|---|---|\n",
       "| TROI    | 129 | 185.5000 | 2 |\n",
       "| GEORDI  | 249 | 179.0000 | 1 |\n",
       "| BEVERLY | 242 | 158.0000 | 2 |\n",
       "| BEVERLY | 159 | 146.5000 | 2 |\n",
       "| BEVERLY | 261 | 133.5000 | 2 |\n",
       "| BEVERLY | 116 | 129.7143 | 7 |\n",
       "\n"
      ],
      "text/plain": [
       "  character episode_number mean_dialog_length dialog_count\n",
       "1 TROI      129            185.5000           2           \n",
       "2 GEORDI    249            179.0000           1           \n",
       "3 BEVERLY   242            158.0000           2           \n",
       "4 BEVERLY   159            146.5000           2           \n",
       "5 BEVERLY   261            133.5000           2           \n",
       "6 BEVERLY   116            129.7143           7           "
      ]
     },
     "metadata": {},
     "output_type": "display_data"
    }
   ],
   "source": [
    "heatmap <- dialog_len_per_ep %>%\n",
    "    mutate(character= factor(character, levels = character_means))\n",
    "head(heatmap)"
   ]
  },
  {
   "cell_type": "code",
   "execution_count": 75,
   "id": "1cce32b4",
   "metadata": {
    "vscode": {
     "languageId": "r"
    }
   },
   "outputs": [
    {
     "data": {
      "image/png": "[encoded data removed]",
      "text/plain": [
       "plot without title"
      ]
     },
     "metadata": {
      "image/png": {
       "height": 420,
       "width": 420
      }
     },
     "output_type": "display_data"
    }
   ],
   "source": [
    "\n",
    "ggplot(heatmap, aes(x=episode_number, y=character, fill=mean_dialog_length)) +\n",
    "    geom_tile() +\n",
    "    scale_fill_viridis_c(option = \"plasma\", name = \"Mean Dialog Length\") + \n",
    "  labs(\n",
    "    title = \"Mean Dialog Length per Episode per Character\",\n",
    "    x = \"Episode\",\n",
    "    y = \"Character\"\n",
    "  ) +\n",
    "  theme_minimal()"
   ]
  }
 ],
 "metadata": {
  "kernelspec": {
   "display_name": "R",
   "language": "R",
   "name": "ir"
  },
  "language_info": {
   "codemirror_mode": "r",
   "file_extension": ".r",
   "mimetype": "text/x-r-source",
   "name": "R",
   "pygments_lexer": "r",
   "version": "4.5.1"
  }
 },
 "nbformat": 4,
 "nbformat_minor": 5
}
