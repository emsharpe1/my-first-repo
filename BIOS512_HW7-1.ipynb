{
 "cells": [
  {
   "cell_type": "markdown",
   "id": "766a4c53-5596-4e39-9082-8e97c8e59c41",
   "metadata": {},
   "source": [
    "# Homework 7\n",
    "This homework is based on the advanced Git lectures. "
   ]
  },
  {
   "cell_type": "markdown",
   "id": "bbb6e943-d49a-4d2e-81f3-59c2d1a3be31",
   "metadata": {},
   "source": [
    "## Question 1\n",
    "#### What is the holy trinity of Git? (Just name the parts.)"
   ]
  },
  {
   "cell_type": "markdown",
   "id": "844add4e",
   "metadata": {},
   "source": [
    "The branch/head/history, working copy/tree, and staging area. "
   ]
  },
  {
   "cell_type": "markdown",
   "id": "47bc27c0-290e-4e94-a071-a37ff613a7c8",
   "metadata": {},
   "source": [
    "## Question 2\n",
    "#### Explain how patches relate to the idea of committing a change to the history of your code?"
   ]
  },
  {
   "cell_type": "markdown",
   "id": "d9eb36ff",
   "metadata": {},
   "source": [
    "Patches tranform one file into another by adding the differences between the first and the second. Therefore, when you make changes to the history of your code, patches make up the differences between each version. "
   ]
  },
  {
   "cell_type": "markdown",
   "id": "9aa99e0b-8fbe-4ccc-a728-b39b1fda153c",
   "metadata": {},
   "source": [
    "## Question 3\n",
    "#### What is the difference between a branch and a fork?"
   ]
  },
  {
   "cell_type": "markdown",
   "id": "74e0a982",
   "metadata": {},
   "source": [
    "A branch is a commit within the history of the code. A fork is a copy of the entire repository that remains separate from the original repository. "
   ]
  },
  {
   "cell_type": "markdown",
   "id": "c6ac98c7-e4ea-4274-a88d-398cb739fab9",
   "metadata": {},
   "source": [
    "## Question 4\n",
    "#### How are diff and patch related? What’s the difference?"
   ]
  },
  {
   "cell_type": "markdown",
   "id": "1d4609e3",
   "metadata": {},
   "source": [
    "Diff is used to compare files and find the differences while patch applies the differences to update the file. Therefore, for a file to be patched, we need to find the diff. "
   ]
  },
  {
   "cell_type": "markdown",
   "id": "02988321-54d5-4086-a62f-d6f7a5961c22",
   "metadata": {},
   "source": [
    "## Question 5\n",
    "#### See the diagram below.\n",
    "```\n",
    "alice            *-*-*-*-d-e     \n",
    "bob              *-*-*-*-a-b-c\n",
    "origin/main      *-*-*-*-a-b-c\n",
    "```\n",
    "#### a) What part of the Git trininty does each line represent?"
   ]
  },
  {
   "cell_type": "markdown",
   "id": "39dfa99b",
   "metadata": {},
   "source": [
    "alice represents the working copy/tree, bob represents the staging area, and the origin/main represents the head.  "
   ]
  },
  {
   "cell_type": "markdown",
   "metadata": {},
   "source": [
    "#### b) What would the result be if Alice performed a rebase? Edit the diagram. What would she type in the terminal to rebase, then push?"
   ]
  },
  {
   "cell_type": "markdown",
   "id": "730d73d5",
   "metadata": {},
   "source": [
    "If Alice performed a rebase, she will add her local commits to the current origin/main (*-*-*-*-a-b-c). \n",
    "She would type: \n",
    "```\n",
    "git fetch origin\n",
    "git rebase origin/main\n",
    "git push --force\n",
    "```\n",
    "\n",
    "Which would yield: \n",
    "```\n",
    "alice            *-*-*-*-a-b-c-d'-e'     \n",
    "bob              *-*-*-*-a-b-c\n",
    "origin/main      *-*-*-*-a-b-c-d'-e'\n",
    "```"
   ]
  },
  {
   "cell_type": "markdown",
   "id": "a8ce8bef",
   "metadata": {},
   "source": [
    "#### c) What would the result be if Alice performed a merge? Edit the diagram. What would she type in the terminal to merge, then push?"
   ]
  },
  {
   "cell_type": "markdown",
   "metadata": {},
   "source": [
    "If Alice performed a merge, she would take a-b-c from the main branch and put it on top of d-e. \n",
    "She would type: \n",
    "```\n",
    "git fetch origin\n",
    "git merge origin/main\n",
    "git push\n",
    "```\n",
    "\n",
    "Which would yield: \n",
    "```\n",
    "alice            *-*-*-*-d-e-a-b-c \n",
    "bob              *-*-*-*-a-b-c\n",
    "origin/main      *-*-*-*-d-e-a-b-c\n",
    "```"
   ]
  },
  {
   "cell_type": "markdown",
   "id": "ae434ad3",
   "metadata": {},
   "source": [
    "#### d) Which would be the better option (rebase vs. merge)? Why?"
   ]
  },
  {
   "cell_type": "markdown",
   "id": "6c2e775e",
   "metadata": {},
   "source": [
    "Git rebase would be the better option because the history will look nicer and it will not change what Bob did. "
   ]
  },
  {
   "cell_type": "markdown",
   "id": "65b5eb8a-cee0-4a97-b89c-8746c37669ea",
   "metadata": {},
   "source": [
    "## Question 6\n",
    "#### Match the command/vocab word to the description.\n",
    "You can edit the table!\n",
    "\n",
    "| Command / Vocab     | Answer | Description |\n",
    "|---------------------|------------|------------|\n",
    "| git stash          | B | A.  Gives project history |\n",
    "| git push           | J | B.  Takes any changes that haven't been committed and puts them in a dust bin |\n",
    "| git clone          | N | C.  Shows who last modified each line of a file and in which commit |\n",
    "| git commit         | M | D.  Retrieves any commits on the remote branch that you don’t yet have locally and integrates them into your current branch |\n",
    "| git log            | A | E.  Moves something from the branch to the working copy |\n",
    "| git add -i         | K| F.  Lists which files are staged, unstaged, and untracked |\n",
    "| git rebase         | P | G.  Displays information about a specific commit |\n",
    "| git init           | Q | H.  Combines two branches together in a way that is not ideal for your collaborators |\n",
    "| git checkout       | E | I.  Adds changes from the working directory to the staging area |\n",
    "| git status         | F | J.  Pushes the new commits to the main branch |\n",
    "| git diff           | O | K.  Interactive staging! |\n",
    "| git merge          | H | L.  Text file that contains names of files Git should not track |\n",
    "| git add            | I | M.  Saves file changes to the main branch |\n",
    "| git pull           | D | N.  Makes a copy of an existing repo at in a new directory at another location |\n",
    "| git show           | G | O.  Compares current, unsaved changes to the main branch |\n",
    "| git blame          | C | P.  Combines branches by moving commits onto the tip of another branch, creating a linear history |\n",
    "| .gitignore         | L | Q. Creates a new git repository |"
   ]
  },
  {
   "cell_type": "markdown",
   "id": "36663f18-7e8a-4400-86ef-1cbda6b508c1",
   "metadata": {},
   "source": [
    "## Question 7\n",
    "#### Walk me through how you would do interactive staging.\n",
    "#### a) Firstly, what situation would interactive staging be useful in?"
   ]
  },
  {
   "cell_type": "markdown",
   "id": "9c2788b8",
   "metadata": {},
   "source": [
    "Interactive staging would be useful if there are two file versions and you've made significant changes. It is useful so that you can make smaller commit messages instead of one big push. It is often used on collaborative projects as well. "
   ]
  },
  {
   "cell_type": "markdown",
   "id": "ae1bee43",
   "metadata": {},
   "source": [
    "#### b) What command(s) help you prepare for what you'll see while interactive staging? \n",
    "*Hint*: Check the TA notes."
   ]
  },
  {
   "cell_type": "markdown",
   "metadata": {},
   "source": [
    "```\n",
    "cd ~/<repo>\n",
    "git status\n",
    "git diff \n",
    "```"
   ]
  },
  {
   "cell_type": "markdown",
   "id": "17439be4",
   "metadata": {},
   "source": [
    "#### b) What git command would you use to start interactive staging?"
   ]
  },
  {
   "cell_type": "markdown",
   "metadata": {},
   "source": [
    "```\n",
    "git add -i\n",
    "```"
   ]
  },
  {
   "cell_type": "markdown",
   "id": "0454b109",
   "metadata": {},
   "source": [
    "#### c) On the text-based interactive menu, what option do you use?"
   ]
  },
  {
   "cell_type": "markdown",
   "id": "eca8fb37",
   "metadata": {},
   "source": [
    "p (for patch)"
   ]
  },
  {
   "cell_type": "markdown",
   "id": "036892ce",
   "metadata": {},
   "source": [
    "#### d) After pressing that option, how do you select the file you want to stage?"
   ]
  },
  {
   "cell_type": "markdown",
   "id": "8b0fe51f",
   "metadata": {},
   "source": [
    "You type the number of the file after it appears in the list and click enter. "
   ]
  },
  {
   "cell_type": "markdown",
   "id": "d3ec372b",
   "metadata": {},
   "source": [
    "#### e) What option do you type if you do not want to stage a hunk?"
   ]
  },
  {
   "cell_type": "markdown",
   "id": "07d0fe26",
   "metadata": {},
   "source": [
    "n (if you do not want to stage this particular hunk), d (if you do not want to stage any hunk), or q (to exit staging altogether)"
   ]
  },
  {
   "cell_type": "markdown",
   "id": "4d825134",
   "metadata": {},
   "source": [
    "#### f) Once you get to a hunk you want to stage, what do you do?"
   ]
  },
  {
   "cell_type": "markdown",
   "id": "2e94f41d",
   "metadata": {},
   "source": [
    "You select y to stage it. "
   ]
  },
  {
   "cell_type": "markdown",
   "id": "adb742bf",
   "metadata": {},
   "source": [
    "#### g) What if we have more hunks we want to stage?\n"
   ]
  },
  {
   "cell_type": "markdown",
   "id": "645ba144",
   "metadata": {},
   "source": [
    "We can continue staging in a new interative session by starting the process over from the interactive menu. After all of the remaining chunks are staged, we can push the changes using \"git push -u origin main.\""
   ]
  }
 ],
 "metadata": {
  "kernelspec": {
   "display_name": "Python 3 (ipykernel)",
   "language": "python",
   "name": "python3"
  },
  "language_info": {
   "codemirror_mode": {
    "name": "ipython",
    "version": 3
   },
   "file_extension": ".py",
   "mimetype": "text/x-python",
   "name": "python",
   "nbconvert_exporter": "python",
   "pygments_lexer": "ipython3",
   "version": "3.10.16"
  }
 },
 "nbformat": 4,
 "nbformat_minor": 5
}
