{
 "cells": [
  {
   "cell_type": "markdown",
   "id": "45ef956f",
   "metadata": {},
   "source": [
    "# Homework 03 - Nonstandard Evaluation and Git\n",
    "\n",
    "## Nonstandard Evaluation\n"
   ]
  },
  {
   "cell_type": "markdown",
   "id": "7cd69759",
   "metadata": {
    "vscode": {
     "languageId": "r"
    }
   },
   "source": [
    "### Question 1\n",
    "Imagine we have a data frame called `data`, with a `type` column. Which one works and why?\\\n",
    "Function 1:\n",
    "```\n",
    "group_and_tally <- function(df, column){\n",
    "    df %>% group_by({{ column }}) %>% tally();\n",
    "}\n",
    "group_and_tally(data, type);\n",
    "```\n",
    "\n",
    "Function 2:\n",
    "```\n",
    "group_and_tally <- function(df, column){\n",
    "    df %>% group_by(column) %>% tally();\n",
    "}\n",
    "group_and_tally(data, type);\n",
    "```"
   ]
  },
  {
   "cell_type": "markdown",
   "id": "d1520d7a",
   "metadata": {},
   "source": [
    "Function 1 works because the double brackets allow tidyverse to recognize that the function is referring to all columns, not a literal column with the name \"column.\""
   ]
  },
  {
   "cell_type": "markdown",
   "id": "d0653501",
   "metadata": {},
   "source": [
    "## Git\n",
    "For the questions below, please add the commands you used to complete these steps.\n",
    "\n",
    "### Question 2\n",
    "Set up your git repo on your local computer. If you already make a git repo on GitHub, but it isn’t on your local computer - clone it."
   ]
  },
  {
   "cell_type": "markdown",
   "id": "ce3304c6",
   "metadata": {},
   "source": [
    "First, I right clicked in my BIOS 512 folder to open it in Git Bash. Then, I gave the command \"git clone \n",
    "https://github.com/emsharpe1/my-first-repo.git\" and then opened it by giving it the command \"cd my-first-repo.\""
   ]
  },
  {
   "cell_type": "markdown",
   "id": "9639ba6c",
   "metadata": {
    "vscode": {
     "languageId": "shellscript"
    }
   },
   "source": [
    "### Question 3\n",
    "Set up your SSH key."
   ]
  },
  {
   "cell_type": "markdown",
   "id": "edc5acd5",
   "metadata": {},
   "source": [
    "To set up my SSH key, I input the following commands to git bash: \n",
    "ls -al ~/.ssh\n",
    "ssh-keygen -t ed25519 -C \"emsharpe1@gmail.com\"\n",
    "(selected default settings)\n",
    "eval \"$(ssh-agent -s)\"\n",
    "ssh-add ~/.ssh/id_ed25519\n",
    "clip < ~/.ssh/id_ed25519.pub\n",
    "(input the ID into github)\n",
    "ssh -T git@github.com\n",
    "Then I recloned my repository using the command:\n",
    "git clone git@github.com:emsharpe1/my-first-repo.git"
   ]
  },
  {
   "cell_type": "markdown",
   "id": "ffe33264",
   "metadata": {},
   "source": [
    "# Homework 03 - Nonstandard Evaluation and Git\n",
    "\n",
    "## Nonstandard Evaluation\n"
   ]
  },
  {
   "cell_type": "markdown",
   "id": "9ac28e0a",
   "metadata": {},
   "source": [
    "### Question 1\n",
    "Imagine we have a data frame called `data`, with a `type` column. Which one works and why?\\\n",
    "Function 1:\n",
    "```\n",
    "group_and_tally <- function(df, column){\n",
    "    df %>% group_by({{ column }}) %>% tally();\n",
    "}\n",
    "group_and_tally(data, type);\n",
    "```\n",
    "\n",
    "Function 2:\n",
    "```\n",
    "group_and_tally <- function(df, column){\n",
    "    df %>% group_by(column) %>% tally();\n",
    "}\n",
    "group_and_tally(data, type);\n",
    "```"
   ]
  },
  {
   "cell_type": "markdown",
   "id": "7d29f649",
   "metadata": {},
   "source": [
    "Function 1 works because the double brackets allow tidyverse to recognize that the function is referring to all columns, not a literal column with the name \"column.\""
   ]
  },
  {
   "cell_type": "markdown",
   "id": "9d6f1afb",
   "metadata": {},
   "source": [
    "## Git\n",
    "For the questions below, please add the commands you used to complete these steps.\n",
    "\n",
    "### Question 2\n",
    "Set up your git repo on your local computer. If you already make a git repo on GitHub, but it isn’t on your local computer - clone it."
   ]
  },
  {
   "cell_type": "markdown",
   "id": "a619fb59",
   "metadata": {},
   "source": [
    "First, I right clicked in my BIOS 512 folder to open it in Git Bash. Then, I gave the command \"git clone \n",
    "https://github.com/emsharpe1/my-first-repo.git\" and then opened it by giving it the command \"cd my-first-repo.\""
   ]
  },
  {
   "cell_type": "markdown",
   "id": "ddd41e25",
   "metadata": {},
   "source": [
    "### Question 3\n",
    "Set up your SSH key."
   ]
  },
  {
   "cell_type": "markdown",
   "id": "cdfc57b2",
   "metadata": {},
   "source": [
    "To set up my SSH key, I input the following commands to git bash: \n",
    "ls -al ~/.ssh\n",
    "ssh-keygen -t ed25519 -C \"emsharpe1@gmail.com\"\n",
    "(selected default settings)\n",
    "eval \"$(ssh-agent -s)\"\n",
    "ssh-add ~/.ssh/id_ed25519\n",
    "clip < ~/.ssh/id_ed25519.pub\n",
    "(input the ID into github)\n",
    "ssh -T git@github.com\n",
    "Then I recloned my repository using the command:\n",
    "git clone git@github.com:emsharpe1/my-first-repo.git"
   ]
  },
  {
   "cell_type": "markdown",
   "id": "771ef23f",
   "metadata": {},
   "source": [
    "### Question 4\n",
    "a) Add a HW2 directory to your git repo through the terminal with a HW.md file that says \"This is for homework 2.\"\n"
   ]
  },
  {
   "cell_type": "markdown",
   "id": "7bb2881e",
   "metadata": {},
   "source": [
    "To add the HW2 directory to my git repo with a HW.md file, I input the following commands into git bash: mkdir HW2; echo \"This is for homework 2.\" > HW2/HW.md; ls HW2 (to check the file);  git add HW2/HW.md; git commit -m \"Adding HW2 directory with HW.md\"; git push. "
   ]
  },
  {
   "cell_type": "markdown",
   "id": "0a8694f3",
   "metadata": {},
   "source": [
    "b) *Add* HW2.md to the staging area. Then, use the command to see which files have been modified, staged for commit, or are untracked. What does it show?\n",
    "They should copy paste the terminal response after git status, and show that key used the commands below."
   ]
  },
  {
   "cell_type": "markdown",
   "id": "fae28420",
   "metadata": {},
   "source": [
    "I used the command \"git add HW2/HW.md\" to add the file to the staging area. After checking \"git status\" the terminal yielded this result: \n",
    "$ git status\n",
    "On branch main\n",
    "Your branch is up to date with 'origin/main'.\n",
    "\n",
    "Changes not staged for commit:\n",
    "  (use \"git add/rm <file>...\" to update what will be committed)\n",
    "  (use \"git restore <file>...\" to discard changes in working directory)\n",
    "        deleted:    BIOS512_HW3.ipynb\n",
    "        deleted:    README.md\n",
    "        deleted:    hello.R\n",
    "        deleted:    install.R\n",
    "        deleted:    patient_names.csv\n",
    "        deleted:    patient_properties.csv\n",
    "        deleted:    runtime.txt\n",
    "\n",
    "Untracked files:\n",
    "  (use \"git add <file>...\" to include in what will be committed)\n",
    "        my-first-repo/\n",
    "\n",
    "no changes added to commit (use \"git add\" and/or \"git commit -a\")\n",
    "\n",
    "(I ended up cloning the repository multiple times, so the deleted files are appearing here.)\n",
    "This result shows that I deleted files in the working directory but git has not staged them to be deleted yet. It also found the folder \"my-first-repo\" in the larger folder and git hasn't started tracking those files yet. "
   ]
  },
  {
   "cell_type": "markdown",
   "id": "1ff29205",
   "metadata": {},
   "source": [
    "c) Save file changes to the main branch."
   ]
  },
  {
   "cell_type": "markdown",
   "id": "da81c9bf",
   "metadata": {},
   "source": [
    "I used the following commands: \n",
    "git add .\n",
    "git commit -m \"Save file changes for HW2 to the main branch\"\n",
    "git push origin main"
   ]
  },
  {
   "cell_type": "markdown",
   "id": "d65a976e",
   "metadata": {},
   "source": [
    "d) Now, edit the HW2.md file to give it a title."
   ]
  },
  {
   "cell_type": "markdown",
   "id": "09ddcb14",
   "metadata": {},
   "source": [
    "I opened the file in VS code using the following command: code HW2/HW.md\n",
    "Then, I added a title: \"# Homework 2\"\n",
    "Then I saved the file and used the following commands to push the change: \n",
    "git add HW2/HW.md\n",
    "git commit -m \"Added title to HW.md\"\n",
    "git push"
   ]
  },
  {
   "cell_type": "markdown",
   "id": "169d68b9",
   "metadata": {},
   "source": [
    "e) Use the command that compares current, unsaved changes to the main branch. What does it say?\n"
   ]
  },
  {
   "cell_type": "markdown",
   "id": "9fc155f3",
   "metadata": {},
   "source": [
    "I used the \"git diff\" command to compare changes. It did not say anything because I had already saved all changes to the main branch. \n"
   ]
  },
  {
   "cell_type": "markdown",
   "id": "18170d8e",
   "metadata": {},
   "source": [
    "\n",
    "f) Use the command that checks the status of the working directory and the staging area *again*. What does it say?\n"
   ]
  },
  {
   "cell_type": "markdown",
   "id": "ce762969",
   "metadata": {},
   "source": [
    "I used the \"git status\" command. This was the result: \n",
    "$ git status\n",
    "On branch main\n",
    "Your branch is up to date with 'origin/main'.\n",
    "\n",
    "nothing to commit, working tree clean\n"
   ]
  },
  {
   "cell_type": "markdown",
   "id": "e9897a1c",
   "metadata": {},
   "source": [
    "\n",
    "g) Once again, add HW2.md to the staging area and save the file changes to the main branch. Then, get use the command that gives you project history and paste the output in your homework.\n"
   ]
  },
  {
   "cell_type": "markdown",
   "id": "9f157682",
   "metadata": {},
   "source": [
    "$ git log --oneline\n",
    "b95295f (HEAD -> main, origin/main, origin/HEAD) Added title to HW.md\n",
    "6c1165c Save file changes for HW2 to the main branch\n",
    "e7e3bbc Adding HW2 directory with HW.md\n",
    "4017e34 Homework 3\n",
    "116cd60 Create hello.R\n",
    "990cc23 Create install.R\n",
    "872c32a Create runtime.txt\n",
    "cc699ef initial commit\n"
   ]
  },
  {
   "cell_type": "markdown",
   "id": "16bee098",
   "metadata": {},
   "source": [
    "h) Do some searching... What `git` command will provide you documentation on other commands? Use that command to find documentation on `git log` and `git show`. What does `--since` mean in regards to `git log`? Copy and paste what is written in the documentation.\n"
   ]
  },
  {
   "cell_type": "markdown",
   "id": "b36ed513",
   "metadata": {},
   "source": [
    "The git command to find documentation on other commands is \"git help <command>\"\n",
    "Using more options generally further limits the output (e.g. --since=<date1> limits to commits newer than <date1>, and using it with --grep=<pattern> further limits to commits whose log message has a line that matches <pattern>), unless otherwise noted.\n",
    "--since=<date>\n",
    "--after=<date>\n",
    "Show commits more recent than <date>.\n",
    "\n",
    "--since-as-filter=<date>\n",
    "Show all commits more recent than <date>. This visits all commits in the range, rather than stopping at the first commit which is older than <date>."
   ]
  },
  {
   "cell_type": "markdown",
   "id": "9c32783c",
   "metadata": {},
   "source": [
    "## Tidyverse\n",
    "\n",
    "Note: Please make sure Binder is set up correctly to run this section. You can follow the instructions here: https://github.com/rjenki/BIOS512. "
   ]
  },
  {
   "cell_type": "markdown",
   "id": "e7de9f4c",
   "metadata": {},
   "source": [
    "**Please show your code for this section!** Before completing this section, please run the following."
   ]
  },
  {
   "cell_type": "code",
   "execution_count": 18,
   "id": "8035f64a",
   "metadata": {
    "vscode": {
     "languageId": "r"
    }
   },
   "outputs": [],
   "source": [
    "library(tidyverse)\n",
    "if (!dir.exists(\"intermediate\")) dir.create(\"intermediate\", recursive = TRUE)\n",
    "if (!exists(\"mdpre\")) mdpre <- function(x) { print(x) }\n",
    "if (!exists(\"ggmd\"))  ggmd  <- function(p) { print(p) }"
   ]
  },
  {
   "cell_type": "code",
   "execution_count": 19,
   "id": "498e5249",
   "metadata": {
    "vscode": {
     "languageId": "r"
    }
   },
   "outputs": [],
   "source": [
    "library(lubridate)"
   ]
  },
  {
   "cell_type": "markdown",
   "id": "6875a6ce",
   "metadata": {},
   "source": [
    "### Question 5\n",
    "\n",
    "Download the patient_names.csv and patient_properties.csv files from Canvas and read them into R. Manually set the date columns to be date variables. Print the first 10 observations of each."
   ]
  },
  {
   "cell_type": "code",
   "execution_count": 20,
   "id": "5a4cdf6f",
   "metadata": {
    "vscode": {
     "languageId": "r"
    }
   },
   "outputs": [
    {
     "name": "stderr",
     "output_type": "stream",
     "text": [
      "\u001b[1mRows: \u001b[22m\u001b[34m974\u001b[39m \u001b[1mColumns: \u001b[22m\u001b[34m7\u001b[39m\n",
      "\u001b[36m──\u001b[39m \u001b[1mColumn specification\u001b[22m \u001b[36m────────────────────────────────────────────────────────\u001b[39m\n",
      "\u001b[1mDelimiter:\u001b[22m \",\"\n",
      "\u001b[31mchr\u001b[39m (7): ID, BIRTHDATE, DEATHDATE, FIRST, LAST, CITY, STATE\n",
      "\n",
      "\u001b[36mℹ\u001b[39m Use `spec()` to retrieve the full column specification for this data.\n",
      "\u001b[36mℹ\u001b[39m Specify the column types or set `show_col_types = FALSE` to quiet this message.\n",
      "\u001b[1mRows: \u001b[22m\u001b[34m3896\u001b[39m \u001b[1mColumns: \u001b[22m\u001b[34m3\u001b[39m\n",
      "\u001b[36m──\u001b[39m \u001b[1mColumn specification\u001b[22m \u001b[36m────────────────────────────────────────────────────────\u001b[39m\n",
      "\u001b[1mDelimiter:\u001b[22m \",\"\n",
      "\u001b[31mchr\u001b[39m (3): ID, property, value\n",
      "\n",
      "\u001b[36mℹ\u001b[39m Use `spec()` to retrieve the full column specification for this data.\n",
      "\u001b[36mℹ\u001b[39m Specify the column types or set `show_col_types = FALSE` to quiet this message.\n"
     ]
    }
   ],
   "source": [
    "patient_names <- read_csv(\"patient_names.csv\")\n",
    "patient_properties <- read_csv(\"patient_properties.csv\")"
   ]
  },
  {
   "cell_type": "code",
   "execution_count": 21,
   "id": "cdc8344e",
   "metadata": {
    "vscode": {
     "languageId": "r"
    }
   },
   "outputs": [],
   "source": [
    "patient_names <- patient_names %>%\n",
    "  mutate(\n",
    "    BIRTHDATE = as.Date(as.character(BIRTHDATE), format = \"%m/%d/%y\"),\n",
    "    DEATHDATE = as.Date(as.character(DEATHDATE), format = \"%m/%d/%y\")\n",
    "  )"
   ]
  },
  {
   "cell_type": "code",
   "execution_count": 22,
   "id": "217cf444",
   "metadata": {
    "vscode": {
     "languageId": "r"
    }
   },
   "outputs": [
    {
     "name": "stdout",
     "output_type": "stream",
     "text": [
      "\u001b[90m# A tibble: 974 × 7\u001b[39m\n",
      "   ID                              BIRTHDATE  DEATHDATE  FIRST LAST  CITY  STATE\n",
      "   \u001b[3m\u001b[90m<chr>\u001b[39m\u001b[23m                           \u001b[3m\u001b[90m<date>\u001b[39m\u001b[23m     \u001b[3m\u001b[90m<date>\u001b[39m\u001b[23m     \u001b[3m\u001b[90m<chr>\u001b[39m\u001b[23m \u001b[3m\u001b[90m<chr>\u001b[39m\u001b[23m \u001b[3m\u001b[90m<chr>\u001b[39m\u001b[23m \u001b[3m\u001b[90m<chr>\u001b[39m\u001b[23m\n",
      "\u001b[90m 1\u001b[39m 5605b66b-e92d-c16c-1b83-b8bf70… 1977-03-19 \u001b[31mNA\u001b[39m         Niki… Erdm… Quin… Mass…\n",
      "\u001b[90m 2\u001b[39m 6e5ae27c-8038-7988-e2c0-25a103… 2040-02-19 \u001b[31mNA\u001b[39m         Zane… Hodk… Bost… Mass…\n",
      "\u001b[90m 3\u001b[39m 8123d076-0886-9007-e956-d5864a… 2058-06-04 \u001b[31mNA\u001b[39m         Quin… Marq… Quin… Mass…\n",
      "\u001b[90m 4\u001b[39m 770518e4-6133-648e-60c9-071eb2… 2028-12-25 2017-09-29 Abel… Smit… Bost… Mass…\n",
      "\u001b[90m 5\u001b[39m f96addf5-81b9-0aab-7855-d208d3… 2028-12-25 2014-02-23 Edwi… Laba… Bost… Mass…\n",
      "\u001b[90m 6\u001b[39m 8e9650d1-788a-78f9-4a28-d08f7f… 2028-12-25 \u001b[31mNA\u001b[39m         Fran… Ober… Bost… Mass…\n",
      "\u001b[90m 7\u001b[39m 183df435-4190-060e-8f8e-bf63c5… 2057-11-08 \u001b[31mNA\u001b[39m         Eile… Wals… Camb… Mass…\n",
      "\u001b[90m 8\u001b[39m 720560d4-51da-c38c-ee90-c15935… 1972-06-27 \u001b[31mNA\u001b[39m         Lowe… Pric… Quin… Mass…\n",
      "\u001b[90m 9\u001b[39m 217851b0-5f47-d376-18b9-0fe4ba… 2054-03-06 \u001b[31mNA\u001b[39m         Adri… Glea… Bost… Mass…\n",
      "\u001b[90m10\u001b[39m ff331e5c-ab16-e218-f39a-63e11d… 2027-07-10 \u001b[31mNA\u001b[39m         Euge… Aber… Bost… Mass…\n",
      "\u001b[90m# ℹ 964 more rows\u001b[39m\n"
     ]
    }
   ],
   "source": [
    "print(patient_names)"
   ]
  },
  {
   "cell_type": "code",
   "execution_count": 23,
   "id": "bbf4a07f",
   "metadata": {
    "vscode": {
     "languageId": "r"
    }
   },
   "outputs": [
    {
     "name": "stdout",
     "output_type": "stream",
     "text": [
      "\u001b[90m# A tibble: 3,896 × 3\u001b[39m\n",
      "   ID                                   property  value      \n",
      "   \u001b[3m\u001b[90m<chr>\u001b[39m\u001b[23m                                \u001b[3m\u001b[90m<chr>\u001b[39m\u001b[23m     \u001b[3m\u001b[90m<chr>\u001b[39m\u001b[23m      \n",
      "\u001b[90m 1\u001b[39m 5605b66b-e92d-c16c-1b83-b8bf7040d51f MARITAL   M          \n",
      "\u001b[90m 2\u001b[39m 5605b66b-e92d-c16c-1b83-b8bf7040d51f RACE      white      \n",
      "\u001b[90m 3\u001b[39m 5605b66b-e92d-c16c-1b83-b8bf7040d51f ETHNICITY nonhispanic\n",
      "\u001b[90m 4\u001b[39m 5605b66b-e92d-c16c-1b83-b8bf7040d51f GENDER    F          \n",
      "\u001b[90m 5\u001b[39m 6e5ae27c-8038-7988-e2c0-25a103f01bfa MARITAL   M          \n",
      "\u001b[90m 6\u001b[39m 6e5ae27c-8038-7988-e2c0-25a103f01bfa RACE      white      \n",
      "\u001b[90m 7\u001b[39m 6e5ae27c-8038-7988-e2c0-25a103f01bfa ETHNICITY nonhispanic\n",
      "\u001b[90m 8\u001b[39m 6e5ae27c-8038-7988-e2c0-25a103f01bfa GENDER    M          \n",
      "\u001b[90m 9\u001b[39m 8123d076-0886-9007-e956-d5864aa121a7 MARITAL   M          \n",
      "\u001b[90m10\u001b[39m 8123d076-0886-9007-e956-d5864aa121a7 RACE      white      \n",
      "\u001b[90m# ℹ 3,886 more rows\u001b[39m\n"
     ]
    }
   ],
   "source": [
    "print(patient_properties)"
   ]
  },
  {
   "cell_type": "markdown",
   "id": "b2d8a280",
   "metadata": {},
   "source": [
    "### Question 6\n",
    "In the data frame pulled from patient_properties, you'll notice that the data is long, not wide. Do a pivot to make the properties their own columns. Print the first 10 observations after you do so."
   ]
  },
  {
   "cell_type": "code",
   "execution_count": 24,
   "id": "7911b354",
   "metadata": {
    "vscode": {
     "languageId": "r"
    }
   },
   "outputs": [
    {
     "name": "stdout",
     "output_type": "stream",
     "text": [
      "\u001b[90m# A tibble: 974 × 5\u001b[39m\n",
      "   ID                                   MARITAL RACE   ETHNICITY   GENDER\n",
      "   \u001b[3m\u001b[90m<chr>\u001b[39m\u001b[23m                                \u001b[3m\u001b[90m<chr>\u001b[39m\u001b[23m   \u001b[3m\u001b[90m<chr>\u001b[39m\u001b[23m  \u001b[3m\u001b[90m<chr>\u001b[39m\u001b[23m       \u001b[3m\u001b[90m<chr>\u001b[39m\u001b[23m \n",
      "\u001b[90m 1\u001b[39m 5605b66b-e92d-c16c-1b83-b8bf7040d51f M       white  nonhispanic F     \n",
      "\u001b[90m 2\u001b[39m 6e5ae27c-8038-7988-e2c0-25a103f01bfa M       white  nonhispanic M     \n",
      "\u001b[90m 3\u001b[39m 8123d076-0886-9007-e956-d5864aa121a7 M       white  nonhispanic M     \n",
      "\u001b[90m 4\u001b[39m 770518e4-6133-648e-60c9-071eb2f0e2ce M       white  hispanic    M     \n",
      "\u001b[90m 5\u001b[39m f96addf5-81b9-0aab-7855-d208d3d352c5 M       white  hispanic    M     \n",
      "\u001b[90m 6\u001b[39m 8e9650d1-788a-78f9-4a28-d08f7f95354a M       white  hispanic    M     \n",
      "\u001b[90m 7\u001b[39m 183df435-4190-060e-8f8e-bf63c572b266 M       asian  nonhispanic F     \n",
      "\u001b[90m 8\u001b[39m 720560d4-51da-c38c-ee90-c15935278df1 M       white  nonhispanic M     \n",
      "\u001b[90m 9\u001b[39m 217851b0-5f47-d376-18b9-0fe4ba77207e S       black  hispanic    M     \n",
      "\u001b[90m10\u001b[39m ff331e5c-ab16-e218-f39a-63e11de1ed75 M       native hispanic    M     \n",
      "\u001b[90m# ℹ 964 more rows\u001b[39m\n"
     ]
    }
   ],
   "source": [
    "patient_properties_pivot <- patient_properties %>%\n",
    "  pivot_wider(\n",
    "    names_from = property,\n",
    "    values_from = value\n",
    "  )\n",
    "print(patient_properties_pivot)"
   ]
  },
  {
   "cell_type": "markdown",
   "id": "e2fde5ba",
   "metadata": {},
   "source": [
    "### Question 7\n",
    "Perform a left join of the names and properties_wide data frames by the ID column and print the first 10 rows."
   ]
  },
  {
   "cell_type": "code",
   "execution_count": 25,
   "id": "c67e05a8",
   "metadata": {
    "vscode": {
     "languageId": "r"
    }
   },
   "outputs": [
    {
     "data": {
      "text/html": [
       "<table class=\"dataframe\">\n",
       "<caption>A tibble: 6 × 11</caption>\n",
       "<thead>\n",
       "\t<tr><th scope=col>ID</th><th scope=col>BIRTHDATE</th><th scope=col>DEATHDATE</th><th scope=col>FIRST</th><th scope=col>LAST</th><th scope=col>CITY</th><th scope=col>STATE</th><th scope=col>MARITAL</th><th scope=col>RACE</th><th scope=col>ETHNICITY</th><th scope=col>GENDER</th></tr>\n",
       "\t<tr><th scope=col>&lt;chr&gt;</th><th scope=col>&lt;date&gt;</th><th scope=col>&lt;date&gt;</th><th scope=col>&lt;chr&gt;</th><th scope=col>&lt;chr&gt;</th><th scope=col>&lt;chr&gt;</th><th scope=col>&lt;chr&gt;</th><th scope=col>&lt;chr&gt;</th><th scope=col>&lt;chr&gt;</th><th scope=col>&lt;chr&gt;</th><th scope=col>&lt;chr&gt;</th></tr>\n",
       "</thead>\n",
       "<tbody>\n",
       "\t<tr><td>5605b66b-e92d-c16c-1b83-b8bf7040d51f</td><td>1977-03-19</td><td>NA</td><td>Nikita578 </td><td>Erdman779     </td><td>Quincy</td><td>Massachusetts</td><td>M</td><td>white</td><td>nonhispanic</td><td>F</td></tr>\n",
       "\t<tr><td>6e5ae27c-8038-7988-e2c0-25a103f01bfa</td><td>2040-02-19</td><td>NA</td><td>Zane918   </td><td>Hodkiewicz467 </td><td>Boston</td><td>Massachusetts</td><td>M</td><td>white</td><td>nonhispanic</td><td>M</td></tr>\n",
       "\t<tr><td>8123d076-0886-9007-e956-d5864aa121a7</td><td>2058-06-04</td><td>NA</td><td>Quinn173  </td><td>Marquardt819  </td><td>Quincy</td><td>Massachusetts</td><td>M</td><td>white</td><td>nonhispanic</td><td>M</td></tr>\n",
       "\t<tr><td>770518e4-6133-648e-60c9-071eb2f0e2ce</td><td>2028-12-25</td><td>2017-09-29</td><td>Abel832   </td><td>Smitham825    </td><td>Boston</td><td>Massachusetts</td><td>M</td><td>white</td><td>hispanic   </td><td>M</td></tr>\n",
       "\t<tr><td>f96addf5-81b9-0aab-7855-d208d3d352c5</td><td>2028-12-25</td><td>2014-02-23</td><td>Edwin773  </td><td>Labadie908    </td><td>Boston</td><td>Massachusetts</td><td>M</td><td>white</td><td>hispanic   </td><td>M</td></tr>\n",
       "\t<tr><td>8e9650d1-788a-78f9-4a28-d08f7f95354a</td><td>2028-12-25</td><td>NA</td><td>Frankie174</td><td>Oberbrunner298</td><td>Boston</td><td>Massachusetts</td><td>M</td><td>white</td><td>hispanic   </td><td>M</td></tr>\n",
       "</tbody>\n",
       "</table>\n"
      ],
      "text/latex": [
       "A tibble: 6 × 11\n",
       "\\begin{tabular}{lllllllllll}\n",
       " ID & BIRTHDATE & DEATHDATE & FIRST & LAST & CITY & STATE & MARITAL & RACE & ETHNICITY & GENDER\\\\\n",
       " <chr> & <date> & <date> & <chr> & <chr> & <chr> & <chr> & <chr> & <chr> & <chr> & <chr>\\\\\n",
       "\\hline\n",
       "\t 5605b66b-e92d-c16c-1b83-b8bf7040d51f & 1977-03-19 & NA & Nikita578  & Erdman779      & Quincy & Massachusetts & M & white & nonhispanic & F\\\\\n",
       "\t 6e5ae27c-8038-7988-e2c0-25a103f01bfa & 2040-02-19 & NA & Zane918    & Hodkiewicz467  & Boston & Massachusetts & M & white & nonhispanic & M\\\\\n",
       "\t 8123d076-0886-9007-e956-d5864aa121a7 & 2058-06-04 & NA & Quinn173   & Marquardt819   & Quincy & Massachusetts & M & white & nonhispanic & M\\\\\n",
       "\t 770518e4-6133-648e-60c9-071eb2f0e2ce & 2028-12-25 & 2017-09-29 & Abel832    & Smitham825     & Boston & Massachusetts & M & white & hispanic    & M\\\\\n",
       "\t f96addf5-81b9-0aab-7855-d208d3d352c5 & 2028-12-25 & 2014-02-23 & Edwin773   & Labadie908     & Boston & Massachusetts & M & white & hispanic    & M\\\\\n",
       "\t 8e9650d1-788a-78f9-4a28-d08f7f95354a & 2028-12-25 & NA & Frankie174 & Oberbrunner298 & Boston & Massachusetts & M & white & hispanic    & M\\\\\n",
       "\\end{tabular}\n"
      ],
      "text/markdown": [
       "\n",
       "A tibble: 6 × 11\n",
       "\n",
       "| ID &lt;chr&gt; | BIRTHDATE &lt;date&gt; | DEATHDATE &lt;date&gt; | FIRST &lt;chr&gt; | LAST &lt;chr&gt; | CITY &lt;chr&gt; | STATE &lt;chr&gt; | MARITAL &lt;chr&gt; | RACE &lt;chr&gt; | ETHNICITY &lt;chr&gt; | GENDER &lt;chr&gt; |\n",
       "|---|---|---|---|---|---|---|---|---|---|---|\n",
       "| 5605b66b-e92d-c16c-1b83-b8bf7040d51f | 1977-03-19 | NA | Nikita578  | Erdman779      | Quincy | Massachusetts | M | white | nonhispanic | F |\n",
       "| 6e5ae27c-8038-7988-e2c0-25a103f01bfa | 2040-02-19 | NA | Zane918    | Hodkiewicz467  | Boston | Massachusetts | M | white | nonhispanic | M |\n",
       "| 8123d076-0886-9007-e956-d5864aa121a7 | 2058-06-04 | NA | Quinn173   | Marquardt819   | Quincy | Massachusetts | M | white | nonhispanic | M |\n",
       "| 770518e4-6133-648e-60c9-071eb2f0e2ce | 2028-12-25 | 2017-09-29 | Abel832    | Smitham825     | Boston | Massachusetts | M | white | hispanic    | M |\n",
       "| f96addf5-81b9-0aab-7855-d208d3d352c5 | 2028-12-25 | 2014-02-23 | Edwin773   | Labadie908     | Boston | Massachusetts | M | white | hispanic    | M |\n",
       "| 8e9650d1-788a-78f9-4a28-d08f7f95354a | 2028-12-25 | NA | Frankie174 | Oberbrunner298 | Boston | Massachusetts | M | white | hispanic    | M |\n",
       "\n"
      ],
      "text/plain": [
       "  ID                                   BIRTHDATE  DEATHDATE  FIRST     \n",
       "1 5605b66b-e92d-c16c-1b83-b8bf7040d51f 1977-03-19 <NA>       Nikita578 \n",
       "2 6e5ae27c-8038-7988-e2c0-25a103f01bfa 2040-02-19 <NA>       Zane918   \n",
       "3 8123d076-0886-9007-e956-d5864aa121a7 2058-06-04 <NA>       Quinn173  \n",
       "4 770518e4-6133-648e-60c9-071eb2f0e2ce 2028-12-25 2017-09-29 Abel832   \n",
       "5 f96addf5-81b9-0aab-7855-d208d3d352c5 2028-12-25 2014-02-23 Edwin773  \n",
       "6 8e9650d1-788a-78f9-4a28-d08f7f95354a 2028-12-25 <NA>       Frankie174\n",
       "  LAST           CITY   STATE         MARITAL RACE  ETHNICITY   GENDER\n",
       "1 Erdman779      Quincy Massachusetts M       white nonhispanic F     \n",
       "2 Hodkiewicz467  Boston Massachusetts M       white nonhispanic M     \n",
       "3 Marquardt819   Quincy Massachusetts M       white nonhispanic M     \n",
       "4 Smitham825     Boston Massachusetts M       white hispanic    M     \n",
       "5 Labadie908     Boston Massachusetts M       white hispanic    M     \n",
       "6 Oberbrunner298 Boston Massachusetts M       white hispanic    M     "
      ]
     },
     "metadata": {},
     "output_type": "display_data"
    }
   ],
   "source": [
    "patients <- left_join(patient_names, patient_properties_pivot, by = \"ID\")\n",
    "head(patients)"
   ]
  },
  {
   "cell_type": "markdown",
   "id": "dd7c57bf",
   "metadata": {},
   "source": [
    "### Question 8\n",
    "Notice something interesting about the names in our data set. Fix the name formatting and print the first 10 observations."
   ]
  },
  {
   "cell_type": "code",
   "execution_count": 26,
   "id": "2689728b",
   "metadata": {
    "vscode": {
     "languageId": "r"
    }
   },
   "outputs": [
    {
     "data": {
      "text/html": [
       "<table class=\"dataframe\">\n",
       "<caption>A tibble: 10 × 2</caption>\n",
       "<thead>\n",
       "\t<tr><th scope=col>FIRST</th><th scope=col>LAST</th></tr>\n",
       "\t<tr><th scope=col>&lt;chr&gt;</th><th scope=col>&lt;chr&gt;</th></tr>\n",
       "</thead>\n",
       "<tbody>\n",
       "\t<tr><td>Nikita578 </td><td>Erdman779     </td></tr>\n",
       "\t<tr><td>Zane918   </td><td>Hodkiewicz467 </td></tr>\n",
       "\t<tr><td>Quinn173  </td><td>Marquardt819  </td></tr>\n",
       "\t<tr><td>Abel832   </td><td>Smitham825    </td></tr>\n",
       "\t<tr><td>Edwin773  </td><td>Labadie908    </td></tr>\n",
       "\t<tr><td>Frankie174</td><td>Oberbrunner298</td></tr>\n",
       "\t<tr><td>Eilene124 </td><td>Walsh511      </td></tr>\n",
       "\t<tr><td>Lowell343 </td><td>Price929      </td></tr>\n",
       "\t<tr><td>Adrian111 </td><td>Gleason633    </td></tr>\n",
       "\t<tr><td>Eugene421 </td><td>Abernathy524  </td></tr>\n",
       "</tbody>\n",
       "</table>\n"
      ],
      "text/latex": [
       "A tibble: 10 × 2\n",
       "\\begin{tabular}{ll}\n",
       " FIRST & LAST\\\\\n",
       " <chr> & <chr>\\\\\n",
       "\\hline\n",
       "\t Nikita578  & Erdman779     \\\\\n",
       "\t Zane918    & Hodkiewicz467 \\\\\n",
       "\t Quinn173   & Marquardt819  \\\\\n",
       "\t Abel832    & Smitham825    \\\\\n",
       "\t Edwin773   & Labadie908    \\\\\n",
       "\t Frankie174 & Oberbrunner298\\\\\n",
       "\t Eilene124  & Walsh511      \\\\\n",
       "\t Lowell343  & Price929      \\\\\n",
       "\t Adrian111  & Gleason633    \\\\\n",
       "\t Eugene421  & Abernathy524  \\\\\n",
       "\\end{tabular}\n"
      ],
      "text/markdown": [
       "\n",
       "A tibble: 10 × 2\n",
       "\n",
       "| FIRST &lt;chr&gt; | LAST &lt;chr&gt; |\n",
       "|---|---|\n",
       "| Nikita578  | Erdman779      |\n",
       "| Zane918    | Hodkiewicz467  |\n",
       "| Quinn173   | Marquardt819   |\n",
       "| Abel832    | Smitham825     |\n",
       "| Edwin773   | Labadie908     |\n",
       "| Frankie174 | Oberbrunner298 |\n",
       "| Eilene124  | Walsh511       |\n",
       "| Lowell343  | Price929       |\n",
       "| Adrian111  | Gleason633     |\n",
       "| Eugene421  | Abernathy524   |\n",
       "\n"
      ],
      "text/plain": [
       "   FIRST      LAST          \n",
       "1  Nikita578  Erdman779     \n",
       "2  Zane918    Hodkiewicz467 \n",
       "3  Quinn173   Marquardt819  \n",
       "4  Abel832    Smitham825    \n",
       "5  Edwin773   Labadie908    \n",
       "6  Frankie174 Oberbrunner298\n",
       "7  Eilene124  Walsh511      \n",
       "8  Lowell343  Price929      \n",
       "9  Adrian111  Gleason633    \n",
       "10 Eugene421  Abernathy524  "
      ]
     },
     "metadata": {},
     "output_type": "display_data"
    }
   ],
   "source": [
    "head(patients[, c(\"FIRST\", \"LAST\")], 10)"
   ]
  },
  {
   "cell_type": "code",
   "execution_count": 27,
   "id": "5a241679",
   "metadata": {
    "vscode": {
     "languageId": "r"
    }
   },
   "outputs": [
    {
     "data": {
      "text/html": [
       "<table class=\"dataframe\">\n",
       "<caption>A tibble: 10 × 2</caption>\n",
       "<thead>\n",
       "\t<tr><th scope=col>FIRST</th><th scope=col>LAST</th></tr>\n",
       "\t<tr><th scope=col>&lt;chr&gt;</th><th scope=col>&lt;chr&gt;</th></tr>\n",
       "</thead>\n",
       "<tbody>\n",
       "\t<tr><td>Nikita </td><td>Erdman     </td></tr>\n",
       "\t<tr><td>Zane   </td><td>Hodkiewicz </td></tr>\n",
       "\t<tr><td>Quinn  </td><td>Marquardt  </td></tr>\n",
       "\t<tr><td>Abel   </td><td>Smitham    </td></tr>\n",
       "\t<tr><td>Edwin  </td><td>Labadie    </td></tr>\n",
       "\t<tr><td>Frankie</td><td>Oberbrunner</td></tr>\n",
       "\t<tr><td>Eilene </td><td>Walsh      </td></tr>\n",
       "\t<tr><td>Lowell </td><td>Price      </td></tr>\n",
       "\t<tr><td>Adrian </td><td>Gleason    </td></tr>\n",
       "\t<tr><td>Eugene </td><td>Abernathy  </td></tr>\n",
       "</tbody>\n",
       "</table>\n"
      ],
      "text/latex": [
       "A tibble: 10 × 2\n",
       "\\begin{tabular}{ll}\n",
       " FIRST & LAST\\\\\n",
       " <chr> & <chr>\\\\\n",
       "\\hline\n",
       "\t Nikita  & Erdman     \\\\\n",
       "\t Zane    & Hodkiewicz \\\\\n",
       "\t Quinn   & Marquardt  \\\\\n",
       "\t Abel    & Smitham    \\\\\n",
       "\t Edwin   & Labadie    \\\\\n",
       "\t Frankie & Oberbrunner\\\\\n",
       "\t Eilene  & Walsh      \\\\\n",
       "\t Lowell  & Price      \\\\\n",
       "\t Adrian  & Gleason    \\\\\n",
       "\t Eugene  & Abernathy  \\\\\n",
       "\\end{tabular}\n"
      ],
      "text/markdown": [
       "\n",
       "A tibble: 10 × 2\n",
       "\n",
       "| FIRST &lt;chr&gt; | LAST &lt;chr&gt; |\n",
       "|---|---|\n",
       "| Nikita  | Erdman      |\n",
       "| Zane    | Hodkiewicz  |\n",
       "| Quinn   | Marquardt   |\n",
       "| Abel    | Smitham     |\n",
       "| Edwin   | Labadie     |\n",
       "| Frankie | Oberbrunner |\n",
       "| Eilene  | Walsh       |\n",
       "| Lowell  | Price       |\n",
       "| Adrian  | Gleason     |\n",
       "| Eugene  | Abernathy   |\n",
       "\n"
      ],
      "text/plain": [
       "   FIRST   LAST       \n",
       "1  Nikita  Erdman     \n",
       "2  Zane    Hodkiewicz \n",
       "3  Quinn   Marquardt  \n",
       "4  Abel    Smitham    \n",
       "5  Edwin   Labadie    \n",
       "6  Frankie Oberbrunner\n",
       "7  Eilene  Walsh      \n",
       "8  Lowell  Price      \n",
       "9  Adrian  Gleason    \n",
       "10 Eugene  Abernathy  "
      ]
     },
     "metadata": {},
     "output_type": "display_data"
    }
   ],
   "source": [
    "patients <- patients %>%\n",
    "mutate(FIRST=gsub(\"[0-9]\", \"\", FIRST),\n",
    "    LAST = gsub(\"[0-9]\", \"\", LAST))\n",
    "head(patients[, c(\"FIRST\", \"LAST\")], 10)"
   ]
  },
  {
   "cell_type": "markdown",
   "id": "6a978888",
   "metadata": {},
   "source": [
    "### Question 9\n",
    "Using a for statement to loop through the categorical variables (excluding name and ID), print the counts of each unique value in descending order, using the mdpre() function for formatting."
   ]
  },
  {
   "cell_type": "code",
   "execution_count": 28,
   "id": "a89e8b5f",
   "metadata": {
    "vscode": {
     "languageId": "r"
    }
   },
   "outputs": [
    {
     "name": "stdout",
     "output_type": "stream",
     "text": [
      "### Counts for BIRTHDATE\n",
      "[1] \"2025-11-17: 4\\n2027-04-22: 4\\n2029-01-28: 4\\n2029-05-15: 4\\n2036-01-12: 4\\n2025-08-10: 3\\n2025-11-16: 3\\n2026-08-07: 3\\n2027-02-05: 3\\n2028-11-04: 3\\n2028-12-25: 3\\n2030-11-03: 3\\n2033-08-24: 3\\n1972-04-25: 2\\n1973-10-28: 2\\n1973-11-17: 2\\n1976-12-11: 2\\n1977-01-10: 2\\n1982-08-09: 2\\n1984-06-14: 2\\n2022-05-31: 2\\n2023-09-22: 2\\n2025-01-15: 2\\n2025-02-09: 2\\n2025-05-10: 2\\n2025-06-01: 2\\n2025-11-20: 2\\n2026-07-14: 2\\n2026-12-27: 2\\n2027-06-04: 2\\n2027-09-08: 2\\n2027-10-16: 2\\n2029-06-30: 2\\n2029-10-14: 2\\n2030-04-25: 2\\n2030-12-14: 2\\n2031-02-27: 2\\n2031-05-04: 2\\n2032-09-12: 2\\n2032-11-06: 2\\n2033-05-23: 2\\n2033-08-13: 2\\n2033-09-02: 2\\n2034-10-28: 2\\n2035-02-15: 2\\n2035-04-16: 2\\n2035-06-25: 2\\n2036-02-07: 2\\n2036-06-11: 2\\n2036-06-26: 2\\n2036-11-08: 2\\n2037-09-04: 2\\n2038-02-26: 2\\n2039-07-05: 2\\n2039-09-23: 2\\n2041-12-18: 2\\n2042-05-18: 2\\n2042-06-18: 2\\n2042-08-03: 2\\n2046-01-09: 2\\n2046-08-05: 2\\n2048-03-05: 2\\n2050-12-23: 2\\n2051-03-01: 2\\n2051-05-03: 2\\n2052-04-01: 2\\n2052-11-02: 2\\n2054-01-14: 2\\n2054-08-26: 2\\n2057-01-19: 2\\n2058-06-29: 2\\n2060-09-13: 2\\n2063-09-24: 2\\n2064-01-05: 2\\n2064-07-01: 2\\n2066-11-09: 2\\n1969-01-11: 1\\n1969-01-26: 1\\n1969-02-10: 1\\n1969-02-14: 1\\n1969-02-17: 1\\n1969-03-21: 1\\n1969-05-06: 1\\n1969-05-15: 1\\n1969-07-12: 1\\n1969-11-20: 1\\n1969-12-27: 1\\n1969-12-30: 1\\n1970-04-08: 1\\n1970-04-16: 1\\n1970-06-03: 1\\n1970-09-08: 1\\n1970-09-17: 1\\n1970-11-26: 1\\n1970-12-02: 1\\n1971-01-26: 1\\n1971-01-30: 1\\n1971-03-31: 1\\n1971-05-10: 1\\n1971-05-16: 1\\n1971-06-19: 1\\n1971-07-05: 1\\n1971-07-08: 1\\n1971-08-19: 1\\n1971-08-26: 1\\n1971-10-27: 1\\n1971-11-06: 1\\n1972-01-15: 1\\n1972-01-25: 1\\n1972-04-15: 1\\n1972-06-10: 1\\n1972-06-27: 1\\n1972-06-29: 1\\n1972-07-30: 1\\n1972-10-24: 1\\n1973-01-06: 1\\n1973-01-24: 1\\n1973-02-16: 1\\n1973-02-26: 1\\n1973-03-12: 1\\n1973-04-19: 1\\n1973-05-16: 1\\n1973-05-25: 1\\n1973-06-12: 1\\n1973-08-28: 1\\n1973-09-01: 1\\n1973-09-09: 1\\n1974-01-20: 1\\n1974-01-30: 1\\n1974-04-21: 1\\n1974-04-22: 1\\n1974-04-27: 1\\n1974-05-12: 1\\n1974-06-19: 1\\n1974-07-09: 1\\n1974-07-15: 1\\n1974-07-29: 1\\n1974-10-03: 1\\n1974-12-06: 1\\n1974-12-22: 1\\n1975-01-24: 1\\n1975-02-05: 1\\n1975-02-22: 1\\n1975-03-13: 1\\n1975-04-29: 1\\n1975-05-07: 1\\n1975-05-20: 1\\n1975-05-31: 1\\n1975-06-27: 1\\n1975-07-27: 1\\n1975-09-12: 1\\n1975-09-19: 1\\n1975-11-14: 1\\n1975-12-06: 1\\n1975-12-30: 1\\n1976-01-07: 1\\n1976-01-22: 1\\n1976-02-27: 1\\n1976-04-04: 1\\n1976-04-10: 1\\n1976-05-18: 1\\n1976-05-26: 1\\n1976-08-01: 1\\n1976-08-18: 1\\n1976-09-02: 1\\n1976-10-13: 1\\n1976-10-18: 1\\n1976-10-31: 1\\n1976-12-01: 1\\n1977-01-02: 1\\n1977-01-30: 1\\n1977-02-05: 1\\n1977-02-08: 1\\n1977-03-19: 1\\n1977-04-05: 1\\n1977-04-19: 1\\n1977-04-29: 1\\n1977-05-16: 1\\n1977-05-28: 1\\n1977-06-29: 1\\n1977-07-23: 1\\n1977-07-31: 1\\n1977-10-04: 1\\n1978-01-04: 1\\n1978-04-06: 1\\n1978-05-27: 1\\n1978-06-08: 1\\n1978-08-04: 1\\n1978-10-03: 1\\n1978-12-15: 1\\n1978-12-17: 1\\n1979-01-31: 1\\n1979-05-07: 1\\n1979-06-16: 1\\n1979-06-24: 1\\n1979-07-14: 1\\n1979-08-29: 1\\n1979-09-17: 1\\n1979-09-20: 1\\n1979-09-22: 1\\n1979-10-28: 1\\n1979-12-25: 1\\n1979-12-29: 1\\n1980-01-05: 1\\n1980-02-11: 1\\n1980-02-28: 1\\n1980-03-08: 1\\n1980-03-14: 1\\n1980-04-01: 1\\n1980-08-10: 1\\n1980-09-23: 1\\n1980-11-12: 1\\n1980-11-16: 1\\n1980-11-19: 1\\n1980-11-29: 1\\n1980-12-24: 1\\n1981-01-24: 1\\n1981-02-17: 1\\n1981-04-09: 1\\n1981-05-22: 1\\n1981-06-09: 1\\n1981-08-03: 1\\n1981-08-05: 1\\n1981-09-26: 1\\n1981-10-08: 1\\n1981-10-26: 1\\n1981-10-29: 1\\n1982-03-02: 1\\n1982-04-11: 1\\n1982-06-08: 1\\n1982-08-19: 1\\n1982-08-31: 1\\n1982-09-10: 1\\n1982-10-19: 1\\n1982-12-16: 1\\n1983-03-18: 1\\n1983-04-11: 1\\n1983-07-29: 1\\n1983-10-19: 1\\n1983-11-01: 1\\n1983-11-02: 1\\n1984-01-27: 1\\n1984-03-22: 1\\n1984-05-28: 1\\n1984-07-16: 1\\n1984-07-24: 1\\n1984-10-05: 1\\n1984-10-29: 1\\n1984-11-13: 1\\n1984-12-11: 1\\n1984-12-28: 1\\n1985-01-10: 1\\n1985-01-17: 1\\n1985-02-12: 1\\n1985-02-27: 1\\n1985-03-05: 1\\n1985-03-22: 1\\n1985-09-12: 1\\n1985-09-16: 1\\n1985-12-19: 1\\n1985-12-28: 1\\n1986-01-02: 1\\n1986-02-23: 1\\n1986-03-21: 1\\n1986-03-31: 1\\n1986-04-22: 1\\n1986-08-13: 1\\n1986-11-14: 1\\n1986-11-15: 1\\n1986-12-25: 1\\n1987-03-04: 1\\n1987-05-13: 1\\n1987-05-18: 1\\n1987-07-03: 1\\n1987-09-19: 1\\n1987-10-23: 1\\n1987-10-26: 1\\n1987-11-23: 1\\n1987-11-24: 1\\n1988-04-02: 1\\n1988-04-13: 1\\n1988-05-02: 1\\n1988-05-19: 1\\n1988-07-10: 1\\n1988-08-17: 1\\n1988-09-12: 1\\n1988-09-17: 1\\n1988-10-05: 1\\n1988-11-13: 1\\n1988-12-08: 1\\n1989-02-15: 1\\n1989-03-16: 1\\n1989-07-14: 1\\n1990-01-06: 1\\n1990-01-18: 1\\n1990-02-05: 1\\n1990-02-06: 1\\n1990-03-15: 1\\n1990-04-17: 1\\n1990-04-26: 1\\n1990-05-21: 1\\n1990-07-05: 1\\n1990-08-07: 1\\n1990-09-22: 1\\n1990-10-26: 1\\n1990-12-12: 1\\n1990-12-13: 1\\n1991-01-05: 1\\n1991-02-24: 1\\n1991-04-09: 1\\n1991-04-21: 1\\n1991-05-01: 1\\n1991-06-22: 1\\n1991-08-03: 1\\n1991-09-23: 1\\n1991-10-01: 1\\n1991-10-04: 1\\n1991-11-27: 1\\n2022-03-24: 1\\n2022-03-30: 1\\n2022-04-13: 1\\n2022-04-15: 1\\n2022-06-18: 1\\n2022-08-12: 1\\n2022-10-09: 1\\n2022-10-13: 1\\n2022-12-06: 1\\n2022-12-15: 1\\n2023-01-03: 1\\n2023-01-13: 1\\n2023-01-18: 1\\n2023-01-30: 1\\n2023-02-01: 1\\n2023-02-14: 1\\n2023-02-19: 1\\n2023-03-12: 1\\n2023-03-16: 1\\n2023-04-11: 1\\n2023-05-21: 1\\n2023-06-21: 1\\n2023-07-24: 1\\n2023-08-08: 1\\n2023-09-07: 1\\n2023-09-25: 1\\n2023-09-26: 1\\n2023-10-03: 1\\n2023-10-06: 1\\n2023-11-10: 1\\n2023-12-07: 1\\n2024-01-08: 1\\n2024-01-13: 1\\n2024-01-23: 1\\n2024-02-23: 1\\n2024-03-15: 1\\n2024-04-13: 1\\n2024-06-11: 1\\n2024-06-21: 1\\n2024-06-30: 1\\n2024-07-19: 1\\n2024-07-23: 1\\n2024-08-31: 1\\n2024-09-17: 1\\n2024-10-07: 1\\n2024-10-25: 1\\n2024-11-19: 1\\n2024-12-08: 1\\n2024-12-13: 1\\n2024-12-18: 1\\n2025-01-28: 1\\n2025-03-11: 1\\n2025-05-04: 1\\n2025-08-12: 1\\n2026-05-28: 1\\n2026-07-11: 1\\n2026-07-19: 1\\n2026-08-05: 1\\n2026-08-24: 1\\n2026-08-27: 1\\n2026-09-17: 1\\n2026-09-27: 1\\n2026-10-18: 1\\n2026-11-10: 1\\n2026-11-18: 1\\n2026-11-20: 1\\n2026-11-23: 1\\n2027-02-04: 1\\n2027-03-03: 1\\n2027-03-05: 1\\n2027-04-06: 1\\n2027-04-16: 1\\n2027-04-20: 1\\n2027-04-27: 1\\n2027-05-14: 1\\n2027-07-10: 1\\n2027-09-12: 1\\n2027-11-04: 1\\n2027-11-06: 1\\n2027-12-28: 1\\n2028-01-04: 1\\n2028-01-12: 1\\n2028-01-19: 1\\n2028-02-25: 1\\n2028-03-03: 1\\n2028-03-18: 1\\n2028-03-20: 1\\n2028-03-22: 1\\n2028-03-28: 1\\n2028-04-09: 1\\n2028-05-14: 1\\n2028-07-03: 1\\n2028-07-25: 1\\n2028-08-25: 1\\n2028-08-26: 1\\n2028-09-24: 1\\n2028-11-23: 1\\n2029-01-06: 1\\n2029-01-19: 1\\n2029-02-25: 1\\n2029-04-01: 1\\n2029-06-02: 1\\n2029-06-10: 1\\n2029-07-05: 1\\n2029-07-07: 1\\n2029-08-23: 1\\n2029-08-28: 1\\n2029-09-18: 1\\n2029-09-30: 1\\n2029-10-25: 1\\n2029-10-29: 1\\n2029-12-30: 1\\n2030-01-15: 1\\n2030-02-09: 1\\n2030-03-06: 1\\n2030-05-20: 1\\n2030-05-24: 1\\n2030-07-24: 1\\n2030-08-17: 1\\n2030-09-07: 1\\n2030-09-20: 1\\n2030-10-12: 1\\n2030-10-14: 1\\n2030-10-31: 1\\n2031-01-01: 1\\n2031-01-12: 1\\n2031-01-28: 1\\n2031-02-10: 1\\n2031-02-12: 1\\n2031-03-27: 1\\n2031-04-10: 1\\n2031-04-21: 1\\n2031-06-01: 1\\n2031-06-22: 1\\n2031-07-05: 1\\n2031-08-26: 1\\n2031-09-05: 1\\n2031-10-21: 1\\n2031-12-04: 1\\n2031-12-13: 1\\n2031-12-15: 1\\n2031-12-18: 1\\n2031-12-28: 1\\n2032-01-16: 1\\n2032-03-06: 1\\n2032-03-08: 1\\n2032-03-23: 1\\n2032-03-31: 1\\n2032-05-25: 1\\n2032-06-14: 1\\n2032-06-17: 1\\n2032-07-11: 1\\n2032-07-15: 1\\n2032-09-03: 1\\n2032-09-07: 1\\n2032-09-17: 1\\n2032-10-14: 1\\n2032-10-24: 1\\n2032-10-27: 1\\n2032-11-22: 1\\n2033-01-07: 1\\n2033-01-31: 1\\n2033-03-27: 1\\n2033-05-08: 1\\n2033-05-10: 1\\n2033-05-15: 1\\n2033-07-01: 1\\n2033-07-14: 1\\n2033-09-12: 1\\n2033-10-28: 1\\n2033-11-04: 1\\n2033-11-25: 1\\n2033-12-09: 1\\n2033-12-16: 1\\n2034-01-05: 1\\n2034-03-27: 1\\n2034-06-06: 1\\n2034-06-09: 1\\n2034-07-15: 1\\n2034-10-07: 1\\n2034-12-24: 1\\n2035-01-16: 1\\n2035-01-20: 1\\n2035-01-21: 1\\n2035-02-03: 1\\n2035-02-20: 1\\n2035-03-04: 1\\n2035-03-11: 1\\n2035-03-29: 1\\n2035-04-13: 1\\n2035-05-18: 1\\n2035-06-14: 1\\n2035-06-17: 1\\n2035-07-05: 1\\n2035-08-09: 1\\n2035-09-12: 1\\n2035-09-25: 1\\n2035-10-01: 1\\n2035-10-10: 1\\n2035-10-16: 1\\n2035-11-03: 1\\n2035-11-10: 1\\n2036-02-18: 1\\n2036-04-01: 1\\n2036-05-25: 1\\n2036-07-21: 1\\n2036-10-27: 1\\n2036-11-01: 1\\n2037-01-05: 1\\n2037-03-02: 1\\n2037-03-05: 1\\n2037-03-27: 1\\n2037-08-25: 1\\n2037-10-09: 1\\n2037-12-25: 1\\n2037-12-30: 1\\n2038-01-02: 1\\n2038-03-26: 1\\n2038-04-24: 1\\n2038-07-05: 1\\n2038-07-14: 1\\n2038-07-21: 1\\n2038-08-31: 1\\n2038-10-05: 1\\n2038-10-17: 1\\n2038-11-24: 1\\n2039-03-15: 1\\n2039-04-02: 1\\n2039-05-07: 1\\n2039-05-16: 1\\n2039-06-02: 1\\n2039-09-08: 1\\n2039-09-21: 1\\n2039-09-28: 1\\n2039-10-18: 1\\n2039-10-24: 1\\n2039-10-30: 1\\n2039-11-04: 1\\n2040-01-01: 1\\n2040-02-14: 1\\n2040-02-19: 1\\n2040-02-20: 1\\n2040-03-28: 1\\n2040-04-01: 1\\n2040-04-10: 1\\n2040-05-13: 1\\n2040-06-04: 1\\n2040-07-06: 1\\n2040-07-23: 1\\n2040-09-11: 1\\n2040-10-13: 1\\n2040-10-16: 1\\n2040-10-27: 1\\n2040-10-31: 1\\n2041-02-02: 1\\n2041-02-18: 1\\n2041-02-20: 1\\n2041-02-27: 1\\n2041-03-18: 1\\n2041-04-01: 1\\n2041-04-07: 1\\n2041-04-25: 1\\n2041-04-28: 1\\n2041-05-09: 1\\n2041-05-10: 1\\n2041-06-19: 1\\n2041-08-04: 1\\n2041-08-31: 1\\n2041-09-27: 1\\n2041-11-10: 1\\n2041-11-28: 1\\n2041-12-08: 1\\n2041-12-20: 1\\n2042-04-06: 1\\n2042-06-01: 1\\n2042-06-11: 1\\n2042-06-16: 1\\n2042-07-27: 1\\n2042-08-27: 1\\n2042-11-09: 1\\n2043-04-13: 1\\n2043-04-18: 1\\n2043-05-27: 1\\n2043-07-03: 1\\n2043-07-28: 1\\n2043-09-12: 1\\n2043-09-14: 1\\n2043-09-30: 1\\n2043-10-04: 1\\n2043-11-24: 1\\n2043-12-12: 1\\n2044-01-21: 1\\n2044-02-21: 1\\n2044-03-08: 1\\n2044-04-14: 1\\n2044-06-22: 1\\n2044-07-22: 1\\n2044-08-10: 1\\n2044-09-12: 1\\n2044-10-01: 1\\n2044-10-16: 1\\n2044-11-14: 1\\n2045-03-04: 1\\n2045-03-24: 1\\n2045-04-25: 1\\n2045-04-28: 1\\n2045-06-22: 1\\n2045-07-31: 1\\n2045-08-26: 1\\n2045-09-03: 1\\n2045-09-10: 1\\n2045-10-15: 1\\n2045-11-12: 1\\n2045-12-06: 1\\n2045-12-13: 1\\n2045-12-27: 1\\n2046-01-13: 1\\n2046-01-16: 1\\n2046-02-01: 1\\n2046-03-06: 1\\n2046-03-14: 1\\n2046-04-02: 1\\n2046-04-25: 1\\n2046-05-16: 1\\n2046-06-06: 1\\n2046-06-22: 1\\n2046-08-21: 1\\n2046-09-12: 1\\n2047-01-02: 1\\n2047-02-04: 1\\n2047-02-07: 1\\n2047-03-30: 1\\n2047-04-25: 1\\n2047-05-13: 1\\n2047-05-22: 1\\n2047-07-07: 1\\n2047-08-09: 1\\n2047-08-18: 1\\n2047-10-17: 1\\n2047-11-03: 1\\n2047-11-11: 1\\n2047-11-25: 1\\n2047-12-10: 1\\n2048-02-28: 1\\n2048-03-28: 1\\n2048-04-05: 1\\n2048-05-30: 1\\n2048-08-21: 1\\n2048-11-10: 1\\n2048-12-17: 1\\n2049-02-16: 1\\n2049-02-27: 1\\n2049-04-10: 1\\n2049-04-23: 1\\n2049-09-12: 1\\n2050-02-16: 1\\n2050-04-05: 1\\n2050-04-14: 1\\n2050-04-29: 1\\n2050-06-15: 1\\n2050-07-28: 1\\n2050-08-19: 1\\n2050-11-19: 1\\n2050-12-26: 1\\n2051-03-24: 1\\n2051-03-31: 1\\n2051-04-04: 1\\n2051-04-12: 1\\n2051-06-04: 1\\n2051-06-11: 1\\n2051-06-24: 1\\n2051-09-18: 1\\n2051-09-24: 1\\n2051-11-22: 1\\n2052-01-15: 1\\n2052-01-23: 1\\n2052-02-22: 1\\n2052-02-25: 1\\n2052-04-05: 1\\n2052-05-17: 1\\n2052-06-28: 1\\n2052-06-30: 1\\n2052-08-31: 1\\n2052-09-11: 1\\n2052-10-31: 1\\n2052-11-10: 1\\n2052-11-12: 1\\n2052-12-06: 1\\n2052-12-08: 1\\n2053-03-14: 1\\n2053-03-18: 1\\n2053-04-04: 1\\n2053-04-17: 1\\n2053-04-21: 1\\n2053-05-03: 1\\n2053-06-06: 1\\n2053-10-13: 1\\n2053-10-25: 1\\n2053-11-09: 1\\n2053-11-12: 1\\n2053-11-23: 1\\n2053-12-04: 1\\n2053-12-25: 1\\n2053-12-27: 1\\n2054-02-03: 1\\n2054-03-06: 1\\n2054-03-27: 1\\n2054-04-14: 1\\n2054-05-01: 1\\n2054-07-17: 1\\n2054-07-23: 1\\n2054-09-25: 1\\n2054-10-04: 1\\n2054-10-16: 1\\n2055-01-05: 1\\n2055-01-26: 1\\n2055-04-10: 1\\n2055-04-13: 1\\n2055-09-04: 1\\n2055-10-09: 1\\n2055-10-11: 1\\n2055-12-04: 1\\n2055-12-13: 1\\n2056-01-19: 1\\n2056-01-30: 1\\n2056-02-12: 1\\n2056-03-13: 1\\n2056-03-18: 1\\n2056-07-05: 1\\n2056-07-09: 1\\n2056-07-18: 1\\n2056-10-26: 1\\n2056-12-28: 1\\n2056-12-29: 1\\n2057-01-14: 1\\n2057-03-17: 1\\n2057-06-28: 1\\n2057-07-21: 1\\n2057-08-21: 1\\n2057-10-14: 1\\n2057-11-08: 1\\n2057-11-15: 1\\n2057-12-27: 1\\n2058-02-16: 1\\n2058-03-21: 1\\n2058-03-25: 1\\n2058-04-07: 1\\n2058-05-08: 1\\n2058-06-04: 1\\n2058-07-13: 1\\n2058-08-03: 1\\n2058-08-29: 1\\n2058-11-10: 1\\n2058-11-12: 1\\n2059-01-12: 1\\n2059-02-14: 1\\n2059-02-24: 1\\n2059-03-04: 1\\n2059-05-13: 1\\n2059-06-08: 1\\n2059-06-14: 1\\n2059-07-04: 1\\n2059-07-28: 1\\n2059-10-10: 1\\n2059-11-09: 1\\n2059-11-15: 1\\n2059-11-24: 1\\n2059-11-28: 1\\n2059-12-02: 1\\n2060-01-18: 1\\n2060-02-20: 1\\n2060-03-17: 1\\n2060-03-19: 1\\n2060-03-25: 1\\n2060-06-18: 1\\n2060-07-26: 1\\n2060-08-20: 1\\n2060-10-11: 1\\n2060-10-23: 1\\n2060-11-16: 1\\n2060-12-19: 1\\n2061-01-04: 1\\n2061-03-03: 1\\n2061-03-28: 1\\n2061-03-30: 1\\n2061-06-05: 1\\n2061-06-17: 1\\n2061-07-07: 1\\n2061-08-06: 1\\n2061-10-28: 1\\n2062-02-12: 1\\n2062-02-17: 1\\n2062-06-09: 1\\n2062-08-08: 1\\n2062-11-25: 1\\n2062-12-05: 1\\n2062-12-11: 1\\n2063-01-20: 1\\n2063-02-10: 1\\n2063-03-09: 1\\n2063-05-01: 1\\n2063-05-08: 1\\n2063-08-15: 1\\n2063-08-27: 1\\n2063-11-20: 1\\n2064-03-15: 1\\n2064-04-12: 1\\n2064-04-22: 1\\n2064-04-23: 1\\n2064-04-24: 1\\n2064-05-05: 1\\n2064-06-01: 1\\n2064-06-15: 1\\n2064-07-19: 1\\n2064-07-26: 1\\n2064-07-28: 1\\n2064-08-21: 1\\n2064-09-16: 1\\n2064-10-06: 1\\n2064-10-15: 1\\n2065-02-25: 1\\n2065-04-22: 1\\n2065-05-07: 1\\n2065-05-15: 1\\n2065-08-19: 1\\n2065-09-12: 1\\n2065-12-08: 1\\n2066-01-05: 1\\n2066-04-01: 1\\n2066-04-04: 1\\n2066-04-08: 1\\n2066-04-18: 1\\n2066-06-01: 1\\n2066-08-18: 1\\n2066-09-23: 1\\n2066-09-25: 1\\n2066-10-20: 1\\n2066-11-11: 1\\n2066-11-21: 1\\n2066-11-29: 1\\n2066-12-08: 1\\n2066-12-30: 1\\n2066-12-31: 1\\n2067-02-02: 1\\n2067-03-24: 1\\n2067-04-03: 1\\n2067-05-02: 1\\n2067-05-08: 1\\n2067-06-14: 1\\n2067-07-21: 1\\n2067-08-20: 1\\n2067-09-06: 1\\n2067-10-22: 1\\n2067-11-21: 1\\n2068-01-08: 1\\n2068-01-27: 1\\n2068-05-16: 1\\n2068-05-21: 1\\n2068-07-17: 1\\n2068-08-05: 1\\n2068-09-15: 1\\n2068-10-08: 1\"\n",
      "\n",
      "\n",
      "### Counts for DEATHDATE\n",
      "[1] \"2012-01-26: 2\\n2014-10-19: 2\\n2016-01-31: 2\\n2017-09-29: 2\\n2019-07-31: 2\\n2021-01-05: 2\\n2011-02-03: 1\\n2011-02-17: 1\\n2011-07-12: 1\\n2011-10-10: 1\\n2011-11-29: 1\\n2011-12-08: 1\\n2012-01-22: 1\\n2012-02-02: 1\\n2012-03-08: 1\\n2012-05-01: 1\\n2012-05-15: 1\\n2012-07-03: 1\\n2012-07-11: 1\\n2012-09-29: 1\\n2012-10-17: 1\\n2012-11-22: 1\\n2012-12-09: 1\\n2012-12-23: 1\\n2012-12-29: 1\\n2013-04-29: 1\\n2013-05-14: 1\\n2013-06-02: 1\\n2013-06-10: 1\\n2013-06-26: 1\\n2013-07-04: 1\\n2013-07-25: 1\\n2013-08-29: 1\\n2013-10-27: 1\\n2013-11-12: 1\\n2013-11-28: 1\\n2013-12-11: 1\\n2014-01-13: 1\\n2014-01-14: 1\\n2014-02-11: 1\\n2014-02-13: 1\\n2014-02-14: 1\\n2014-02-23: 1\\n2014-04-21: 1\\n2014-07-19: 1\\n2014-07-29: 1\\n2014-11-10: 1\\n2014-11-16: 1\\n2014-11-27: 1\\n2014-12-21: 1\\n2015-02-02: 1\\n2015-02-19: 1\\n2015-03-31: 1\\n2015-04-30: 1\\n2015-05-05: 1\\n2015-07-29: 1\\n2016-01-02: 1\\n2016-04-04: 1\\n2016-04-09: 1\\n2016-04-22: 1\\n2016-07-17: 1\\n2016-08-31: 1\\n2016-10-03: 1\\n2016-10-06: 1\\n2016-10-21: 1\\n2016-11-06: 1\\n2016-12-17: 1\\n2016-12-30: 1\\n2017-01-19: 1\\n2017-02-04: 1\\n2017-02-13: 1\\n2017-03-01: 1\\n2017-04-03: 1\\n2017-04-10: 1\\n2017-04-12: 1\\n2017-04-27: 1\\n2017-07-16: 1\\n2017-07-25: 1\\n2017-08-07: 1\\n2017-09-07: 1\\n2017-09-19: 1\\n2017-09-20: 1\\n2017-12-16: 1\\n2018-02-18: 1\\n2018-03-06: 1\\n2018-03-29: 1\\n2018-04-06: 1\\n2018-04-08: 1\\n2018-05-01: 1\\n2018-05-04: 1\\n2018-05-05: 1\\n2018-05-16: 1\\n2018-05-24: 1\\n2018-05-27: 1\\n2018-06-05: 1\\n2018-06-24: 1\\n2018-07-14: 1\\n2018-07-21: 1\\n2018-08-17: 1\\n2018-09-25: 1\\n2018-10-05: 1\\n2018-10-31: 1\\n2018-12-17: 1\\n2018-12-28: 1\\n2019-02-06: 1\\n2019-02-12: 1\\n2019-03-17: 1\\n2019-03-18: 1\\n2019-03-22: 1\\n2019-03-26: 1\\n2019-05-21: 1\\n2019-05-31: 1\\n2019-08-22: 1\\n2019-08-28: 1\\n2019-09-23: 1\\n2019-10-06: 1\\n2019-10-28: 1\\n2019-11-08: 1\\n2019-11-25: 1\\n2019-11-30: 1\\n2020-01-31: 1\\n2020-04-25: 1\\n2020-05-06: 1\\n2020-06-02: 1\\n2020-07-09: 1\\n2020-08-02: 1\\n2020-08-29: 1\\n2020-10-15: 1\\n2020-10-27: 1\\n2020-11-15: 1\\n2020-11-28: 1\\n2020-12-07: 1\\n2020-12-09: 1\\n2021-01-02: 1\\n2021-01-04: 1\\n2021-01-13: 1\\n2021-01-19: 1\\n2021-01-22: 1\\n2021-01-27: 1\\n2021-03-08: 1\\n2021-03-11: 1\\n2021-03-26: 1\\n2021-05-01: 1\\n2021-05-04: 1\\n2021-05-15: 1\\n2021-10-17: 1\\n2021-12-26: 1\\n2022-01-27: 1\"\n",
      "\n",
      "\n",
      "### Counts for CITY\n",
      "[1] \"Boston: 541\\nQuincy: 80\\nCambridge: 45\\nRevere: 42\\nChelsea: 39\\nWeymouth: 37\\nSomerville: 25\\nHingham: 22\\nWinthrop: 22\\nBrookline: 17\\nEverett: 16\\nHull: 15\\nMedford: 13\\nBraintree: 10\\nCohasset: 10\\nMalden: 8\\nScituate: 8\\nNewton: 6\\nStoneham: 5\\nNorth Scituate: 3\\nReading: 2\\nBelmont: 1\\nLynnfield: 1\\nMelrose: 1\\nMilton: 1\\nNorwell: 1\\nWaltham: 1\\nWatertown: 1\\nWinchester: 1\"\n",
      "\n",
      "\n",
      "### Counts for STATE\n",
      "[1] \"Massachusetts: 974\"\n",
      "\n",
      "\n",
      "### Counts for MARITAL\n",
      "[1] \"M: 782\\nS: 189\\nFine: 1\\nmale: 1\"\n",
      "\n",
      "\n",
      "### Counts for RACE\n",
      "[1] \"white: 680\\nblack: 163\\nasian: 90\\nother: 16\\nhawaiian: 13\\nnative: 11\\nasiann: 1\"\n",
      "\n",
      "\n",
      "### Counts for ETHNICITY\n",
      "[1] \"nonhispanic: 781\\nhispanic: 190\\nnonhispani: 2\\nhispani: 1\"\n",
      "\n",
      "\n",
      "### Counts for GENDER\n",
      "[1] \"M: 493\\nF: 478\\nfemale: 1\\nFemale: 1\\nMale: 1\"\n",
      "\n",
      "\n"
     ]
    }
   ],
   "source": [
    "categorical<-setdiff(names(patients), c(\"FIRST\",\"LAST\",\"ID\"))\n",
    "\n",
    "for (col in categorical){\n",
    "    cat(paste0(\"### Counts for \", col, \"\\n\"))\n",
    "    counts <- sort(table(patients[[col]]), decreasing = TRUE)\n",
    "    output <- paste(names(counts), counts, sep = \": \", collapse = \"\\n\")\n",
    "    mdpre(output)\n",
    "    cat(\"\\n\\n\")\n",
    "}"
   ]
  },
  {
   "cell_type": "markdown",
   "id": "e41782f5",
   "metadata": {},
   "source": [
    "### Question 10\n",
    "If you see any weird values, get rid of the ones that don't make sense, and combine the ones that are formatted wrong. Don't forget to check the dates! Print the new tables for categorical values, and print the date ranges."
   ]
  },
  {
   "cell_type": "code",
   "execution_count": 29,
   "id": "23ad1288",
   "metadata": {
    "vscode": {
     "languageId": "r"
    }
   },
   "outputs": [
    {
     "data": {
      "text/html": [
       "<table class=\"dataframe\">\n",
       "<caption>A tibble: 6 × 11</caption>\n",
       "<thead>\n",
       "\t<tr><th scope=col>ID</th><th scope=col>BIRTHDATE</th><th scope=col>DEATHDATE</th><th scope=col>FIRST</th><th scope=col>LAST</th><th scope=col>CITY</th><th scope=col>STATE</th><th scope=col>MARITAL</th><th scope=col>RACE</th><th scope=col>ETHNICITY</th><th scope=col>GENDER</th></tr>\n",
       "\t<tr><th scope=col>&lt;chr&gt;</th><th scope=col>&lt;date&gt;</th><th scope=col>&lt;date&gt;</th><th scope=col>&lt;chr&gt;</th><th scope=col>&lt;chr&gt;</th><th scope=col>&lt;chr&gt;</th><th scope=col>&lt;chr&gt;</th><th scope=col>&lt;chr&gt;</th><th scope=col>&lt;chr&gt;</th><th scope=col>&lt;chr&gt;</th><th scope=col>&lt;chr&gt;</th></tr>\n",
       "</thead>\n",
       "<tbody>\n",
       "\t<tr><td>5605b66b-e92d-c16c-1b83-b8bf7040d51f</td><td>1977-03-19</td><td>NA</td><td>Nikita </td><td>Erdman     </td><td>Quincy</td><td>Massachusetts</td><td>M</td><td>white</td><td>nonhispanic</td><td>F</td></tr>\n",
       "\t<tr><td>6e5ae27c-8038-7988-e2c0-25a103f01bfa</td><td>2040-02-19</td><td>NA</td><td>Zane   </td><td>Hodkiewicz </td><td>Boston</td><td>Massachusetts</td><td>M</td><td>white</td><td>nonhispanic</td><td>M</td></tr>\n",
       "\t<tr><td>8123d076-0886-9007-e956-d5864aa121a7</td><td>2058-06-04</td><td>NA</td><td>Quinn  </td><td>Marquardt  </td><td>Quincy</td><td>Massachusetts</td><td>M</td><td>white</td><td>nonhispanic</td><td>M</td></tr>\n",
       "\t<tr><td>770518e4-6133-648e-60c9-071eb2f0e2ce</td><td>2028-12-25</td><td>2017-09-29</td><td>Abel   </td><td>Smitham    </td><td>Boston</td><td>Massachusetts</td><td>M</td><td>white</td><td>hispanic   </td><td>M</td></tr>\n",
       "\t<tr><td>f96addf5-81b9-0aab-7855-d208d3d352c5</td><td>2028-12-25</td><td>2014-02-23</td><td>Edwin  </td><td>Labadie    </td><td>Boston</td><td>Massachusetts</td><td>M</td><td>white</td><td>hispanic   </td><td>M</td></tr>\n",
       "\t<tr><td>8e9650d1-788a-78f9-4a28-d08f7f95354a</td><td>2028-12-25</td><td>NA</td><td>Frankie</td><td>Oberbrunner</td><td>Boston</td><td>Massachusetts</td><td>M</td><td>white</td><td>hispanic   </td><td>M</td></tr>\n",
       "</tbody>\n",
       "</table>\n"
      ],
      "text/latex": [
       "A tibble: 6 × 11\n",
       "\\begin{tabular}{lllllllllll}\n",
       " ID & BIRTHDATE & DEATHDATE & FIRST & LAST & CITY & STATE & MARITAL & RACE & ETHNICITY & GENDER\\\\\n",
       " <chr> & <date> & <date> & <chr> & <chr> & <chr> & <chr> & <chr> & <chr> & <chr> & <chr>\\\\\n",
       "\\hline\n",
       "\t 5605b66b-e92d-c16c-1b83-b8bf7040d51f & 1977-03-19 & NA & Nikita  & Erdman      & Quincy & Massachusetts & M & white & nonhispanic & F\\\\\n",
       "\t 6e5ae27c-8038-7988-e2c0-25a103f01bfa & 2040-02-19 & NA & Zane    & Hodkiewicz  & Boston & Massachusetts & M & white & nonhispanic & M\\\\\n",
       "\t 8123d076-0886-9007-e956-d5864aa121a7 & 2058-06-04 & NA & Quinn   & Marquardt   & Quincy & Massachusetts & M & white & nonhispanic & M\\\\\n",
       "\t 770518e4-6133-648e-60c9-071eb2f0e2ce & 2028-12-25 & 2017-09-29 & Abel    & Smitham     & Boston & Massachusetts & M & white & hispanic    & M\\\\\n",
       "\t f96addf5-81b9-0aab-7855-d208d3d352c5 & 2028-12-25 & 2014-02-23 & Edwin   & Labadie     & Boston & Massachusetts & M & white & hispanic    & M\\\\\n",
       "\t 8e9650d1-788a-78f9-4a28-d08f7f95354a & 2028-12-25 & NA & Frankie & Oberbrunner & Boston & Massachusetts & M & white & hispanic    & M\\\\\n",
       "\\end{tabular}\n"
      ],
      "text/markdown": [
       "\n",
       "A tibble: 6 × 11\n",
       "\n",
       "| ID &lt;chr&gt; | BIRTHDATE &lt;date&gt; | DEATHDATE &lt;date&gt; | FIRST &lt;chr&gt; | LAST &lt;chr&gt; | CITY &lt;chr&gt; | STATE &lt;chr&gt; | MARITAL &lt;chr&gt; | RACE &lt;chr&gt; | ETHNICITY &lt;chr&gt; | GENDER &lt;chr&gt; |\n",
       "|---|---|---|---|---|---|---|---|---|---|---|\n",
       "| 5605b66b-e92d-c16c-1b83-b8bf7040d51f | 1977-03-19 | NA | Nikita  | Erdman      | Quincy | Massachusetts | M | white | nonhispanic | F |\n",
       "| 6e5ae27c-8038-7988-e2c0-25a103f01bfa | 2040-02-19 | NA | Zane    | Hodkiewicz  | Boston | Massachusetts | M | white | nonhispanic | M |\n",
       "| 8123d076-0886-9007-e956-d5864aa121a7 | 2058-06-04 | NA | Quinn   | Marquardt   | Quincy | Massachusetts | M | white | nonhispanic | M |\n",
       "| 770518e4-6133-648e-60c9-071eb2f0e2ce | 2028-12-25 | 2017-09-29 | Abel    | Smitham     | Boston | Massachusetts | M | white | hispanic    | M |\n",
       "| f96addf5-81b9-0aab-7855-d208d3d352c5 | 2028-12-25 | 2014-02-23 | Edwin   | Labadie     | Boston | Massachusetts | M | white | hispanic    | M |\n",
       "| 8e9650d1-788a-78f9-4a28-d08f7f95354a | 2028-12-25 | NA | Frankie | Oberbrunner | Boston | Massachusetts | M | white | hispanic    | M |\n",
       "\n"
      ],
      "text/plain": [
       "  ID                                   BIRTHDATE  DEATHDATE  FIRST  \n",
       "1 5605b66b-e92d-c16c-1b83-b8bf7040d51f 1977-03-19 <NA>       Nikita \n",
       "2 6e5ae27c-8038-7988-e2c0-25a103f01bfa 2040-02-19 <NA>       Zane   \n",
       "3 8123d076-0886-9007-e956-d5864aa121a7 2058-06-04 <NA>       Quinn  \n",
       "4 770518e4-6133-648e-60c9-071eb2f0e2ce 2028-12-25 2017-09-29 Abel   \n",
       "5 f96addf5-81b9-0aab-7855-d208d3d352c5 2028-12-25 2014-02-23 Edwin  \n",
       "6 8e9650d1-788a-78f9-4a28-d08f7f95354a 2028-12-25 <NA>       Frankie\n",
       "  LAST        CITY   STATE         MARITAL RACE  ETHNICITY   GENDER\n",
       "1 Erdman      Quincy Massachusetts M       white nonhispanic F     \n",
       "2 Hodkiewicz  Boston Massachusetts M       white nonhispanic M     \n",
       "3 Marquardt   Quincy Massachusetts M       white nonhispanic M     \n",
       "4 Smitham     Boston Massachusetts M       white hispanic    M     \n",
       "5 Labadie     Boston Massachusetts M       white hispanic    M     \n",
       "6 Oberbrunner Boston Massachusetts M       white hispanic    M     "
      ]
     },
     "metadata": {},
     "output_type": "display_data"
    }
   ],
   "source": [
    "patients$GENDER[patients$GENDER == \"Male\"] <- \"M\"\n",
    "patients$GENDER[patients$GENDER == \"Female\"] <- \"F\"\n",
    "patients$GENDER[patients$GENDER == \"female\"] <- \"F\"\n",
    "\n",
    "patients$ETHNICITY[patients$ETHNICITY == \"nonhispani\"] <- \"nonhispanic\"\n",
    "patients$ETHNICITY[patients$ETHNICITY == \"hispani\"] <- \"hispanic\"\n",
    "\n",
    "patients$MARITAL[patients$MARITAL == \"Fine\"] <- NA_character_\n",
    "patients$MARITAL[patients$MARITAL == \"male\"] <- NA_character_\n",
    "\n",
    "head(patients)"
   ]
  },
  {
   "cell_type": "code",
   "execution_count": 30,
   "id": "3588bb47",
   "metadata": {
    "vscode": {
     "languageId": "r"
    }
   },
   "outputs": [],
   "source": [
    "clean_column <- function(col_name, x) {\n",
    "  \n",
    "  if (col_name %in% c(\"BIRTHDATE\")) {\n",
    "    x <- as.Date(x, format = \"%m/%d/%y\")\n",
    "    x <- if_else(!is.na(x) & x > as.Date(\"2000-01-01\"),\n",
    "    x - years(100),\n",
    "    x)\n",
    "    return(x)\n",
    "    }\n",
    "  \n",
    "  return(x)\n",
    "}\n",
    "\n",
    "patients <- patients\n",
    "for (var in names(patients)) {\n",
    "  patients[[var]] <- clean_column(var, patients[[var]])\n",
    "}"
   ]
  },
  {
   "cell_type": "code",
   "execution_count": 31,
   "id": "c5fff9b5",
   "metadata": {
    "vscode": {
     "languageId": "r"
    }
   },
   "outputs": [
    {
     "data": {
      "text/html": [
       "<table class=\"dataframe\">\n",
       "<caption>A tibble: 100 × 11</caption>\n",
       "<thead>\n",
       "\t<tr><th scope=col>ID</th><th scope=col>BIRTHDATE</th><th scope=col>DEATHDATE</th><th scope=col>FIRST</th><th scope=col>LAST</th><th scope=col>CITY</th><th scope=col>STATE</th><th scope=col>MARITAL</th><th scope=col>RACE</th><th scope=col>ETHNICITY</th><th scope=col>GENDER</th></tr>\n",
       "\t<tr><th scope=col>&lt;chr&gt;</th><th scope=col>&lt;date&gt;</th><th scope=col>&lt;date&gt;</th><th scope=col>&lt;chr&gt;</th><th scope=col>&lt;chr&gt;</th><th scope=col>&lt;chr&gt;</th><th scope=col>&lt;chr&gt;</th><th scope=col>&lt;chr&gt;</th><th scope=col>&lt;chr&gt;</th><th scope=col>&lt;chr&gt;</th><th scope=col>&lt;chr&gt;</th></tr>\n",
       "</thead>\n",
       "<tbody>\n",
       "\t<tr><td>5605b66b-e92d-c16c-1b83-b8bf7040d51f</td><td>1977-03-19</td><td>NA</td><td>Nikita   </td><td>Erdman     </td><td>Quincy    </td><td>Massachusetts</td><td>M </td><td>white </td><td>nonhispanic</td><td>F</td></tr>\n",
       "\t<tr><td>6e5ae27c-8038-7988-e2c0-25a103f01bfa</td><td>1940-02-19</td><td>NA</td><td>Zane     </td><td>Hodkiewicz </td><td>Boston    </td><td>Massachusetts</td><td>M </td><td>white </td><td>nonhispanic</td><td>M</td></tr>\n",
       "\t<tr><td>8123d076-0886-9007-e956-d5864aa121a7</td><td>1958-06-04</td><td>NA</td><td>Quinn    </td><td>Marquardt  </td><td>Quincy    </td><td>Massachusetts</td><td>M </td><td>white </td><td>nonhispanic</td><td>M</td></tr>\n",
       "\t<tr><td>770518e4-6133-648e-60c9-071eb2f0e2ce</td><td>1928-12-25</td><td>2017-09-29</td><td>Abel     </td><td>Smitham    </td><td>Boston    </td><td>Massachusetts</td><td>M </td><td>white </td><td>hispanic   </td><td>M</td></tr>\n",
       "\t<tr><td>f96addf5-81b9-0aab-7855-d208d3d352c5</td><td>1928-12-25</td><td>2014-02-23</td><td>Edwin    </td><td>Labadie    </td><td>Boston    </td><td>Massachusetts</td><td>M </td><td>white </td><td>hispanic   </td><td>M</td></tr>\n",
       "\t<tr><td>8e9650d1-788a-78f9-4a28-d08f7f95354a</td><td>1928-12-25</td><td>NA</td><td>Frankie  </td><td>Oberbrunner</td><td>Boston    </td><td>Massachusetts</td><td>M </td><td>white </td><td>hispanic   </td><td>M</td></tr>\n",
       "\t<tr><td>183df435-4190-060e-8f8e-bf63c572b266</td><td>1957-11-08</td><td>NA</td><td>Eilene   </td><td>Walsh      </td><td>Cambridge </td><td>Massachusetts</td><td>M </td><td>asian </td><td>nonhispanic</td><td>F</td></tr>\n",
       "\t<tr><td>720560d4-51da-c38c-ee90-c15935278df1</td><td>1972-06-27</td><td>NA</td><td>Lowell   </td><td>Price      </td><td>Quincy    </td><td>Massachusetts</td><td>M </td><td>white </td><td>nonhispanic</td><td>M</td></tr>\n",
       "\t<tr><td>217851b0-5f47-d376-18b9-0fe4ba77207e</td><td>1954-03-06</td><td>NA</td><td>Adrian   </td><td>Gleason    </td><td>Boston    </td><td>Massachusetts</td><td>S </td><td>black </td><td>hispanic   </td><td>M</td></tr>\n",
       "\t<tr><td>ff331e5c-ab16-e218-f39a-63e11de1ed75</td><td>1927-07-10</td><td>NA</td><td>Eugene   </td><td>Abernathy  </td><td>Boston    </td><td>Massachusetts</td><td>M </td><td>native</td><td>hispanic   </td><td>M</td></tr>\n",
       "\t<tr><td>affa7bf1-f4fc-d3f7-747c-db8f32d105cf</td><td>1933-05-08</td><td>NA</td><td>Jay      </td><td>Wisozk     </td><td>Boston    </td><td>Massachusetts</td><td>M </td><td>white </td><td>nonhispanic</td><td>M</td></tr>\n",
       "\t<tr><td>becb15c3-a135-8fb2-ea09-583043922a3a</td><td>1948-05-30</td><td>NA</td><td>Stephanie</td><td>Douglas    </td><td>Boston    </td><td>Massachusetts</td><td>M </td><td>white </td><td>nonhispanic</td><td>F</td></tr>\n",
       "\t<tr><td>a8ceba15-ef47-da92-253d-185853ff6c34</td><td>1971-10-27</td><td>2021-03-26</td><td>Helene   </td><td>Kilback    </td><td>Boston    </td><td>Massachusetts</td><td>M </td><td>white </td><td>hispanic   </td><td>F</td></tr>\n",
       "\t<tr><td>0e02b297-527d-b5ea-30e5-690c82541243</td><td>1983-04-11</td><td>NA</td><td>Maria    </td><td>Waelchi    </td><td>Somerville</td><td>Massachusetts</td><td>M </td><td>black </td><td>nonhispanic</td><td>M</td></tr>\n",
       "\t<tr><td>f2203fd5-1a2c-60cd-cae0-1416658880b6</td><td>1939-09-21</td><td>NA</td><td>Edra     </td><td>Wehner     </td><td>Boston    </td><td>Massachusetts</td><td>NA</td><td>white </td><td>nonhispanic</td><td>F</td></tr>\n",
       "\t<tr><td>4d55540d-c43d-e6e8-5364-ec2509df31e3</td><td>1964-10-15</td><td>NA</td><td>Mickie   </td><td>Champlin   </td><td>Boston    </td><td>Massachusetts</td><td>M </td><td>white </td><td>nonhispanic</td><td>F</td></tr>\n",
       "\t<tr><td>07e7f8a0-1bfd-3af8-2bd0-29f1dbe9633c</td><td>1923-03-16</td><td>NA</td><td>Norah    </td><td>Feeney     </td><td>Boston    </td><td>Massachusetts</td><td>S </td><td>white </td><td>nonhispanic</td><td>F</td></tr>\n",
       "\t<tr><td>6746a7c0-1335-90e8-5006-04378f138f46</td><td>1979-06-16</td><td>NA</td><td>Edgardo  </td><td>Okuneva    </td><td>Revere    </td><td>Massachusetts</td><td>S </td><td>black </td><td>nonhispanic</td><td>M</td></tr>\n",
       "\t<tr><td>733678d5-4ba7-d464-4eda-b849e137a42c</td><td>1981-02-17</td><td>NA</td><td>Allen    </td><td>Schumm     </td><td>Quincy    </td><td>Massachusetts</td><td>M </td><td>white </td><td>nonhispanic</td><td>M</td></tr>\n",
       "\t<tr><td>5bd6c434-6f51-6e53-4d0f-8d3889f377da</td><td>1931-12-18</td><td>NA</td><td>Celia    </td><td>Carter     </td><td>Boston    </td><td>Massachusetts</td><td>NA</td><td>asian </td><td>nonhispanic</td><td>F</td></tr>\n",
       "\t<tr><td>e019d0db-35d0-9bee-c8d9-76036a7f618a</td><td>1932-06-14</td><td>NA</td><td>Ninfa    </td><td>Parker     </td><td>Boston    </td><td>Massachusetts</td><td>S </td><td>black </td><td>nonhispanic</td><td>F</td></tr>\n",
       "\t<tr><td>c249fd8d-38fa-e836-dc53-f04364e988e9</td><td>1933-12-09</td><td>NA</td><td>Paris    </td><td>Welch      </td><td>Quincy    </td><td>Massachusetts</td><td>M </td><td>white </td><td>nonhispanic</td><td>M</td></tr>\n",
       "\t<tr><td>19fa4e8b-62d9-0c8e-a046-33976641084b</td><td>1975-02-22</td><td>NA</td><td>Sheba    </td><td>Miller     </td><td>Quincy    </td><td>Massachusetts</td><td>M </td><td>asiann</td><td>nonhispanic</td><td>F</td></tr>\n",
       "\t<tr><td>9a942ecb-92a7-4bd2-444c-f99ceebe25d0</td><td>1931-12-04</td><td>NA</td><td>Keisha   </td><td>Wolf       </td><td>Cohasset  </td><td>Massachusetts</td><td>M </td><td>white </td><td>nonhispanic</td><td>F</td></tr>\n",
       "\t<tr><td>f06ef2bf-a35c-b6d6-44db-149397b5bd26</td><td>1981-08-05</td><td>NA</td><td>Forrest  </td><td>Lubowitz   </td><td>Cambridge </td><td>Massachusetts</td><td>M </td><td>white </td><td>nonhispanic</td><td>M</td></tr>\n",
       "\t<tr><td>2aa3ac2a-88c6-3253-547d-6d8ed69790a3</td><td>1933-09-12</td><td>NA</td><td>Williams </td><td>Harris     </td><td>Everett   </td><td>Massachusetts</td><td>M </td><td>black </td><td>nonhispanic</td><td>M</td></tr>\n",
       "\t<tr><td>6e34dcee-3c9e-8d2c-fe3e-6280c888fc9f</td><td>1937-10-09</td><td>NA</td><td>Kathern  </td><td>Bernhard   </td><td>Boston    </td><td>Massachusetts</td><td>M </td><td>white </td><td>nonhispanic</td><td>F</td></tr>\n",
       "\t<tr><td>d9022f6b-bae7-3d48-2f27-a3a8ad65f328</td><td>1959-12-02</td><td>NA</td><td>Dallas   </td><td>Labadie    </td><td>Everett   </td><td>Massachusetts</td><td>S </td><td>black </td><td>nonhispanic</td><td>M</td></tr>\n",
       "\t<tr><td>bff05694-377c-4ee3-63af-131a07997d94</td><td>1932-03-08</td><td>NA</td><td>Josette  </td><td>Hermiston  </td><td>Boston    </td><td>Massachusetts</td><td>M </td><td>black </td><td>nonhispanic</td><td>F</td></tr>\n",
       "\t<tr><td>e3a022ff-f2e0-87b2-a704-68ee3a715c17</td><td>1942-06-16</td><td>NA</td><td>Orville  </td><td>Corwin     </td><td>Boston    </td><td>Massachusetts</td><td>M </td><td>black </td><td>nonhispanic</td><td>M</td></tr>\n",
       "\t<tr><td>⋮</td><td>⋮</td><td>⋮</td><td>⋮</td><td>⋮</td><td>⋮</td><td>⋮</td><td>⋮</td><td>⋮</td><td>⋮</td><td>⋮</td></tr>\n",
       "\t<tr><td>712e95dd-f313-39c7-1fc9-8463c15c105f</td><td>1922-05-31</td><td>2013-08-29</td><td>Benito      </td><td>Zavala     </td><td>Boston   </td><td>Massachusetts</td><td>S</td><td>white   </td><td>hispanic   </td><td>M</td></tr>\n",
       "\t<tr><td>512ea0ee-ef07-fd6c-4cba-8318dc996075</td><td>1969-02-10</td><td>NA</td><td>Ira         </td><td>Lowe       </td><td>Quincy   </td><td>Massachusetts</td><td>M</td><td>white   </td><td>nonhispanic</td><td>M</td></tr>\n",
       "\t<tr><td>da7825b5-255a-ebeb-b93a-06fb3081e2bb</td><td>1935-10-01</td><td>NA</td><td>Pablo       </td><td>Gamez      </td><td>Boston   </td><td>Massachusetts</td><td>M</td><td>white   </td><td>hispanic   </td><td>M</td></tr>\n",
       "\t<tr><td>d985cd4b-b1db-dfe8-4b07-66bc9b840ea0</td><td>1931-03-27</td><td>NA</td><td>Dottie      </td><td>Bogan      </td><td>Newton   </td><td>Massachusetts</td><td>M</td><td>white   </td><td>nonhispanic</td><td>F</td></tr>\n",
       "\t<tr><td>ef045053-7be8-48a5-935e-1115da877558</td><td>1931-10-21</td><td>2020-01-31</td><td>Rocio       </td><td>Metz       </td><td>Boston   </td><td>Massachusetts</td><td>M</td><td>white   </td><td>hispanic   </td><td>F</td></tr>\n",
       "\t<tr><td>74cdca0e-2569-c4bd-c985-8feb258ea72a</td><td>1964-09-16</td><td>NA</td><td>Jude        </td><td>Hills      </td><td>Weymouth </td><td>Massachusetts</td><td>M</td><td>white   </td><td>nonhispanic</td><td>F</td></tr>\n",
       "\t<tr><td>1f982a4d-c162-88d5-415b-fc4cab367c1b</td><td>1925-06-01</td><td>2017-04-12</td><td>Cindi       </td><td>Torp       </td><td>Weymouth </td><td>Massachusetts</td><td>M</td><td>white   </td><td>hispanic   </td><td>F</td></tr>\n",
       "\t<tr><td>0c5abaaf-01be-55ac-a808-3afc6407fe0b</td><td>1935-04-13</td><td>NA</td><td>Beryl       </td><td>Roob       </td><td>Medford  </td><td>Massachusetts</td><td>M</td><td>white   </td><td>nonhispanic</td><td>F</td></tr>\n",
       "\t<tr><td>d24a4830-99cd-5eb4-7a38-1e1db54d1b86</td><td>1925-06-01</td><td>NA</td><td>Sophia      </td><td>Marvin     </td><td>Weymouth </td><td>Massachusetts</td><td>S</td><td>white   </td><td>hispanic   </td><td>F</td></tr>\n",
       "\t<tr><td>7bde0c43-9a52-1c09-09ec-6d601f253542</td><td>1953-11-23</td><td>NA</td><td>Chauncey    </td><td>Jacobi     </td><td>Boston   </td><td>Massachusetts</td><td>S</td><td>asian   </td><td>nonhispanic</td><td>M</td></tr>\n",
       "\t<tr><td>2719fc7b-15c7-b325-5cb9-958e47ee72a0</td><td>1963-02-10</td><td>NA</td><td>Delbert     </td><td>Effertz    </td><td>Boston   </td><td>Massachusetts</td><td>S</td><td>white   </td><td>nonhispanic</td><td>M</td></tr>\n",
       "\t<tr><td>8947b128-12be-4a4a-5e08-6f60059a3341</td><td>1958-03-21</td><td>NA</td><td>James       </td><td>Oberbrunner</td><td>Boston   </td><td>Massachusetts</td><td>S</td><td>white   </td><td>nonhispanic</td><td>M</td></tr>\n",
       "\t<tr><td>5225f1fe-4646-8467-3a32-306b2512d0e2</td><td>1985-03-22</td><td>NA</td><td>Claude      </td><td>Batz       </td><td>Boston   </td><td>Massachusetts</td><td>M</td><td>white   </td><td>nonhispanic</td><td>M</td></tr>\n",
       "\t<tr><td>9b6a7d3e-3cf2-3c4a-029e-bc7f3d15ca20</td><td>1931-08-26</td><td>NA</td><td>Teodoro     </td><td>Heredia    </td><td>Boston   </td><td>Massachusetts</td><td>M</td><td>black   </td><td>hispanic   </td><td>M</td></tr>\n",
       "\t<tr><td>c53839c6-8871-a6ff-df1d-9e3d89c4d000</td><td>1952-08-31</td><td>2021-05-15</td><td>Myles       </td><td>Kling      </td><td>Medford  </td><td>Massachusetts</td><td>M</td><td>white   </td><td>nonhispanic</td><td>M</td></tr>\n",
       "\t<tr><td>b0d73413-9b99-241f-dea2-f82f4e63cf32</td><td>1941-06-19</td><td>NA</td><td>Sun         </td><td>Keebler    </td><td>Chelsea  </td><td>Massachusetts</td><td>S</td><td>white   </td><td>nonhispanic</td><td>F</td></tr>\n",
       "\t<tr><td>c0ce7000-bcff-c39c-705f-a81a147b3dfe</td><td>1947-08-18</td><td>NA</td><td>Kymberly    </td><td>Roob       </td><td>Weymouth </td><td>Massachusetts</td><td>M</td><td>white   </td><td>nonhispanic</td><td>F</td></tr>\n",
       "\t<tr><td>2f6c035b-a11d-9373-89af-0cb2195592d2</td><td>1977-04-05</td><td>NA</td><td>Demetra     </td><td>Sawayn     </td><td>Quincy   </td><td>Massachusetts</td><td>S</td><td>white   </td><td>nonhispanic</td><td>F</td></tr>\n",
       "\t<tr><td>e051f8a9-b93e-e32c-5b27-948e919f5590</td><td>1950-06-15</td><td>NA</td><td>Cornell     </td><td>Fadel      </td><td>Chelsea  </td><td>Massachusetts</td><td>M</td><td>black   </td><td>hispanic   </td><td>M</td></tr>\n",
       "\t<tr><td>83d1e9b6-facd-e50f-6efb-2bdf2bc80145</td><td>1930-04-25</td><td>2016-04-09</td><td>Clemente    </td><td>Vergara    </td><td>Boston   </td><td>Massachusetts</td><td>S</td><td>white   </td><td>hispanic   </td><td>M</td></tr>\n",
       "\t<tr><td>6e8e0498-187a-d038-c7af-716b12e70455</td><td>1971-07-05</td><td>NA</td><td>Carla       </td><td>Urrutia    </td><td>Boston   </td><td>Massachusetts</td><td>S</td><td>black   </td><td>hispanic   </td><td>F</td></tr>\n",
       "\t<tr><td>8e6b0a8e-a11d-c938-9bf8-499d8378db12</td><td>1930-04-25</td><td>2021-05-04</td><td>Jos√© Mar√≠a</td><td>Delgadillo </td><td>Boston   </td><td>Massachusetts</td><td>M</td><td>white   </td><td>hispanic   </td><td>M</td></tr>\n",
       "\t<tr><td>4c1a0408-1189-83df-4ae5-8d6311b97aea</td><td>1970-04-16</td><td>NA</td><td>Lucina      </td><td>Wiegand    </td><td>Boston   </td><td>Massachusetts</td><td>S</td><td>white   </td><td>nonhispanic</td><td>F</td></tr>\n",
       "\t<tr><td>30de7fd4-ffab-b738-ba5b-cb630dad3d5c</td><td>1924-04-13</td><td>NA</td><td>Margert     </td><td>Pagac      </td><td>Boston   </td><td>Massachusetts</td><td>M</td><td>white   </td><td>nonhispanic</td><td>F</td></tr>\n",
       "\t<tr><td>09e300d4-71f6-d2c2-88ea-27b607513e96</td><td>1953-10-25</td><td>NA</td><td>Lakisha     </td><td>Rolfson    </td><td>Boston   </td><td>Massachusetts</td><td>M</td><td>white   </td><td>nonhispanic</td><td>F</td></tr>\n",
       "\t<tr><td>a920948a-7a64-e642-44b8-605ebcef09b1</td><td>1932-03-06</td><td>NA</td><td>Javier      </td><td>Ruiz       </td><td>Boston   </td><td>Massachusetts</td><td>M</td><td>white   </td><td>hispanic   </td><td>M</td></tr>\n",
       "\t<tr><td>28fb4473-1424-1fda-aa52-105bd7abaec3</td><td>1954-10-04</td><td>NA</td><td>Delinda     </td><td>Waelchi    </td><td>Cambridge</td><td>Massachusetts</td><td>S</td><td>white   </td><td>nonhispanic</td><td>F</td></tr>\n",
       "\t<tr><td>2147f600-50e5-d6c8-ae1e-930dc97e0664</td><td>1940-07-06</td><td>NA</td><td>Carter      </td><td>Welch      </td><td>Boston   </td><td>Massachusetts</td><td>M</td><td>hawaiian</td><td>nonhispanic</td><td>M</td></tr>\n",
       "\t<tr><td>1685befc-4c9e-a69f-d65f-952abe34c74c</td><td>1974-04-21</td><td>NA</td><td>Luigi       </td><td>Satterfield</td><td>Boston   </td><td>Massachusetts</td><td>M</td><td>white   </td><td>hispanic   </td><td>M</td></tr>\n",
       "\t<tr><td>11844ff2-5918-bb2f-5b7d-65aa702f0cd8</td><td>1968-10-08</td><td>NA</td><td>Izetta      </td><td>Farrell    </td><td>Boston   </td><td>Massachusetts</td><td>M</td><td>white   </td><td>nonhispanic</td><td>F</td></tr>\n",
       "</tbody>\n",
       "</table>\n"
      ],
      "text/latex": [
       "A tibble: 100 × 11\n",
       "\\begin{tabular}{lllllllllll}\n",
       " ID & BIRTHDATE & DEATHDATE & FIRST & LAST & CITY & STATE & MARITAL & RACE & ETHNICITY & GENDER\\\\\n",
       " <chr> & <date> & <date> & <chr> & <chr> & <chr> & <chr> & <chr> & <chr> & <chr> & <chr>\\\\\n",
       "\\hline\n",
       "\t 5605b66b-e92d-c16c-1b83-b8bf7040d51f & 1977-03-19 & NA & Nikita    & Erdman      & Quincy     & Massachusetts & M  & white  & nonhispanic & F\\\\\n",
       "\t 6e5ae27c-8038-7988-e2c0-25a103f01bfa & 1940-02-19 & NA & Zane      & Hodkiewicz  & Boston     & Massachusetts & M  & white  & nonhispanic & M\\\\\n",
       "\t 8123d076-0886-9007-e956-d5864aa121a7 & 1958-06-04 & NA & Quinn     & Marquardt   & Quincy     & Massachusetts & M  & white  & nonhispanic & M\\\\\n",
       "\t 770518e4-6133-648e-60c9-071eb2f0e2ce & 1928-12-25 & 2017-09-29 & Abel      & Smitham     & Boston     & Massachusetts & M  & white  & hispanic    & M\\\\\n",
       "\t f96addf5-81b9-0aab-7855-d208d3d352c5 & 1928-12-25 & 2014-02-23 & Edwin     & Labadie     & Boston     & Massachusetts & M  & white  & hispanic    & M\\\\\n",
       "\t 8e9650d1-788a-78f9-4a28-d08f7f95354a & 1928-12-25 & NA & Frankie   & Oberbrunner & Boston     & Massachusetts & M  & white  & hispanic    & M\\\\\n",
       "\t 183df435-4190-060e-8f8e-bf63c572b266 & 1957-11-08 & NA & Eilene    & Walsh       & Cambridge  & Massachusetts & M  & asian  & nonhispanic & F\\\\\n",
       "\t 720560d4-51da-c38c-ee90-c15935278df1 & 1972-06-27 & NA & Lowell    & Price       & Quincy     & Massachusetts & M  & white  & nonhispanic & M\\\\\n",
       "\t 217851b0-5f47-d376-18b9-0fe4ba77207e & 1954-03-06 & NA & Adrian    & Gleason     & Boston     & Massachusetts & S  & black  & hispanic    & M\\\\\n",
       "\t ff331e5c-ab16-e218-f39a-63e11de1ed75 & 1927-07-10 & NA & Eugene    & Abernathy   & Boston     & Massachusetts & M  & native & hispanic    & M\\\\\n",
       "\t affa7bf1-f4fc-d3f7-747c-db8f32d105cf & 1933-05-08 & NA & Jay       & Wisozk      & Boston     & Massachusetts & M  & white  & nonhispanic & M\\\\\n",
       "\t becb15c3-a135-8fb2-ea09-583043922a3a & 1948-05-30 & NA & Stephanie & Douglas     & Boston     & Massachusetts & M  & white  & nonhispanic & F\\\\\n",
       "\t a8ceba15-ef47-da92-253d-185853ff6c34 & 1971-10-27 & 2021-03-26 & Helene    & Kilback     & Boston     & Massachusetts & M  & white  & hispanic    & F\\\\\n",
       "\t 0e02b297-527d-b5ea-30e5-690c82541243 & 1983-04-11 & NA & Maria     & Waelchi     & Somerville & Massachusetts & M  & black  & nonhispanic & M\\\\\n",
       "\t f2203fd5-1a2c-60cd-cae0-1416658880b6 & 1939-09-21 & NA & Edra      & Wehner      & Boston     & Massachusetts & NA & white  & nonhispanic & F\\\\\n",
       "\t 4d55540d-c43d-e6e8-5364-ec2509df31e3 & 1964-10-15 & NA & Mickie    & Champlin    & Boston     & Massachusetts & M  & white  & nonhispanic & F\\\\\n",
       "\t 07e7f8a0-1bfd-3af8-2bd0-29f1dbe9633c & 1923-03-16 & NA & Norah     & Feeney      & Boston     & Massachusetts & S  & white  & nonhispanic & F\\\\\n",
       "\t 6746a7c0-1335-90e8-5006-04378f138f46 & 1979-06-16 & NA & Edgardo   & Okuneva     & Revere     & Massachusetts & S  & black  & nonhispanic & M\\\\\n",
       "\t 733678d5-4ba7-d464-4eda-b849e137a42c & 1981-02-17 & NA & Allen     & Schumm      & Quincy     & Massachusetts & M  & white  & nonhispanic & M\\\\\n",
       "\t 5bd6c434-6f51-6e53-4d0f-8d3889f377da & 1931-12-18 & NA & Celia     & Carter      & Boston     & Massachusetts & NA & asian  & nonhispanic & F\\\\\n",
       "\t e019d0db-35d0-9bee-c8d9-76036a7f618a & 1932-06-14 & NA & Ninfa     & Parker      & Boston     & Massachusetts & S  & black  & nonhispanic & F\\\\\n",
       "\t c249fd8d-38fa-e836-dc53-f04364e988e9 & 1933-12-09 & NA & Paris     & Welch       & Quincy     & Massachusetts & M  & white  & nonhispanic & M\\\\\n",
       "\t 19fa4e8b-62d9-0c8e-a046-33976641084b & 1975-02-22 & NA & Sheba     & Miller      & Quincy     & Massachusetts & M  & asiann & nonhispanic & F\\\\\n",
       "\t 9a942ecb-92a7-4bd2-444c-f99ceebe25d0 & 1931-12-04 & NA & Keisha    & Wolf        & Cohasset   & Massachusetts & M  & white  & nonhispanic & F\\\\\n",
       "\t f06ef2bf-a35c-b6d6-44db-149397b5bd26 & 1981-08-05 & NA & Forrest   & Lubowitz    & Cambridge  & Massachusetts & M  & white  & nonhispanic & M\\\\\n",
       "\t 2aa3ac2a-88c6-3253-547d-6d8ed69790a3 & 1933-09-12 & NA & Williams  & Harris      & Everett    & Massachusetts & M  & black  & nonhispanic & M\\\\\n",
       "\t 6e34dcee-3c9e-8d2c-fe3e-6280c888fc9f & 1937-10-09 & NA & Kathern   & Bernhard    & Boston     & Massachusetts & M  & white  & nonhispanic & F\\\\\n",
       "\t d9022f6b-bae7-3d48-2f27-a3a8ad65f328 & 1959-12-02 & NA & Dallas    & Labadie     & Everett    & Massachusetts & S  & black  & nonhispanic & M\\\\\n",
       "\t bff05694-377c-4ee3-63af-131a07997d94 & 1932-03-08 & NA & Josette   & Hermiston   & Boston     & Massachusetts & M  & black  & nonhispanic & F\\\\\n",
       "\t e3a022ff-f2e0-87b2-a704-68ee3a715c17 & 1942-06-16 & NA & Orville   & Corwin      & Boston     & Massachusetts & M  & black  & nonhispanic & M\\\\\n",
       "\t ⋮ & ⋮ & ⋮ & ⋮ & ⋮ & ⋮ & ⋮ & ⋮ & ⋮ & ⋮ & ⋮\\\\\n",
       "\t 712e95dd-f313-39c7-1fc9-8463c15c105f & 1922-05-31 & 2013-08-29 & Benito       & Zavala      & Boston    & Massachusetts & S & white    & hispanic    & M\\\\\n",
       "\t 512ea0ee-ef07-fd6c-4cba-8318dc996075 & 1969-02-10 & NA & Ira          & Lowe        & Quincy    & Massachusetts & M & white    & nonhispanic & M\\\\\n",
       "\t da7825b5-255a-ebeb-b93a-06fb3081e2bb & 1935-10-01 & NA & Pablo        & Gamez       & Boston    & Massachusetts & M & white    & hispanic    & M\\\\\n",
       "\t d985cd4b-b1db-dfe8-4b07-66bc9b840ea0 & 1931-03-27 & NA & Dottie       & Bogan       & Newton    & Massachusetts & M & white    & nonhispanic & F\\\\\n",
       "\t ef045053-7be8-48a5-935e-1115da877558 & 1931-10-21 & 2020-01-31 & Rocio        & Metz        & Boston    & Massachusetts & M & white    & hispanic    & F\\\\\n",
       "\t 74cdca0e-2569-c4bd-c985-8feb258ea72a & 1964-09-16 & NA & Jude         & Hills       & Weymouth  & Massachusetts & M & white    & nonhispanic & F\\\\\n",
       "\t 1f982a4d-c162-88d5-415b-fc4cab367c1b & 1925-06-01 & 2017-04-12 & Cindi        & Torp        & Weymouth  & Massachusetts & M & white    & hispanic    & F\\\\\n",
       "\t 0c5abaaf-01be-55ac-a808-3afc6407fe0b & 1935-04-13 & NA & Beryl        & Roob        & Medford   & Massachusetts & M & white    & nonhispanic & F\\\\\n",
       "\t d24a4830-99cd-5eb4-7a38-1e1db54d1b86 & 1925-06-01 & NA & Sophia       & Marvin      & Weymouth  & Massachusetts & S & white    & hispanic    & F\\\\\n",
       "\t 7bde0c43-9a52-1c09-09ec-6d601f253542 & 1953-11-23 & NA & Chauncey     & Jacobi      & Boston    & Massachusetts & S & asian    & nonhispanic & M\\\\\n",
       "\t 2719fc7b-15c7-b325-5cb9-958e47ee72a0 & 1963-02-10 & NA & Delbert      & Effertz     & Boston    & Massachusetts & S & white    & nonhispanic & M\\\\\n",
       "\t 8947b128-12be-4a4a-5e08-6f60059a3341 & 1958-03-21 & NA & James        & Oberbrunner & Boston    & Massachusetts & S & white    & nonhispanic & M\\\\\n",
       "\t 5225f1fe-4646-8467-3a32-306b2512d0e2 & 1985-03-22 & NA & Claude       & Batz        & Boston    & Massachusetts & M & white    & nonhispanic & M\\\\\n",
       "\t 9b6a7d3e-3cf2-3c4a-029e-bc7f3d15ca20 & 1931-08-26 & NA & Teodoro      & Heredia     & Boston    & Massachusetts & M & black    & hispanic    & M\\\\\n",
       "\t c53839c6-8871-a6ff-df1d-9e3d89c4d000 & 1952-08-31 & 2021-05-15 & Myles        & Kling       & Medford   & Massachusetts & M & white    & nonhispanic & M\\\\\n",
       "\t b0d73413-9b99-241f-dea2-f82f4e63cf32 & 1941-06-19 & NA & Sun          & Keebler     & Chelsea   & Massachusetts & S & white    & nonhispanic & F\\\\\n",
       "\t c0ce7000-bcff-c39c-705f-a81a147b3dfe & 1947-08-18 & NA & Kymberly     & Roob        & Weymouth  & Massachusetts & M & white    & nonhispanic & F\\\\\n",
       "\t 2f6c035b-a11d-9373-89af-0cb2195592d2 & 1977-04-05 & NA & Demetra      & Sawayn      & Quincy    & Massachusetts & S & white    & nonhispanic & F\\\\\n",
       "\t e051f8a9-b93e-e32c-5b27-948e919f5590 & 1950-06-15 & NA & Cornell      & Fadel       & Chelsea   & Massachusetts & M & black    & hispanic    & M\\\\\n",
       "\t 83d1e9b6-facd-e50f-6efb-2bdf2bc80145 & 1930-04-25 & 2016-04-09 & Clemente     & Vergara     & Boston    & Massachusetts & S & white    & hispanic    & M\\\\\n",
       "\t 6e8e0498-187a-d038-c7af-716b12e70455 & 1971-07-05 & NA & Carla        & Urrutia     & Boston    & Massachusetts & S & black    & hispanic    & F\\\\\n",
       "\t 8e6b0a8e-a11d-c938-9bf8-499d8378db12 & 1930-04-25 & 2021-05-04 & Jos√© Mar√≠a & Delgadillo  & Boston    & Massachusetts & M & white    & hispanic    & M\\\\\n",
       "\t 4c1a0408-1189-83df-4ae5-8d6311b97aea & 1970-04-16 & NA & Lucina       & Wiegand     & Boston    & Massachusetts & S & white    & nonhispanic & F\\\\\n",
       "\t 30de7fd4-ffab-b738-ba5b-cb630dad3d5c & 1924-04-13 & NA & Margert      & Pagac       & Boston    & Massachusetts & M & white    & nonhispanic & F\\\\\n",
       "\t 09e300d4-71f6-d2c2-88ea-27b607513e96 & 1953-10-25 & NA & Lakisha      & Rolfson     & Boston    & Massachusetts & M & white    & nonhispanic & F\\\\\n",
       "\t a920948a-7a64-e642-44b8-605ebcef09b1 & 1932-03-06 & NA & Javier       & Ruiz        & Boston    & Massachusetts & M & white    & hispanic    & M\\\\\n",
       "\t 28fb4473-1424-1fda-aa52-105bd7abaec3 & 1954-10-04 & NA & Delinda      & Waelchi     & Cambridge & Massachusetts & S & white    & nonhispanic & F\\\\\n",
       "\t 2147f600-50e5-d6c8-ae1e-930dc97e0664 & 1940-07-06 & NA & Carter       & Welch       & Boston    & Massachusetts & M & hawaiian & nonhispanic & M\\\\\n",
       "\t 1685befc-4c9e-a69f-d65f-952abe34c74c & 1974-04-21 & NA & Luigi        & Satterfield & Boston    & Massachusetts & M & white    & hispanic    & M\\\\\n",
       "\t 11844ff2-5918-bb2f-5b7d-65aa702f0cd8 & 1968-10-08 & NA & Izetta       & Farrell     & Boston    & Massachusetts & M & white    & nonhispanic & F\\\\\n",
       "\\end{tabular}\n"
      ],
      "text/markdown": [
       "\n",
       "A tibble: 100 × 11\n",
       "\n",
       "| ID &lt;chr&gt; | BIRTHDATE &lt;date&gt; | DEATHDATE &lt;date&gt; | FIRST &lt;chr&gt; | LAST &lt;chr&gt; | CITY &lt;chr&gt; | STATE &lt;chr&gt; | MARITAL &lt;chr&gt; | RACE &lt;chr&gt; | ETHNICITY &lt;chr&gt; | GENDER &lt;chr&gt; |\n",
       "|---|---|---|---|---|---|---|---|---|---|---|\n",
       "| 5605b66b-e92d-c16c-1b83-b8bf7040d51f | 1977-03-19 | NA | Nikita    | Erdman      | Quincy     | Massachusetts | M  | white  | nonhispanic | F |\n",
       "| 6e5ae27c-8038-7988-e2c0-25a103f01bfa | 1940-02-19 | NA | Zane      | Hodkiewicz  | Boston     | Massachusetts | M  | white  | nonhispanic | M |\n",
       "| 8123d076-0886-9007-e956-d5864aa121a7 | 1958-06-04 | NA | Quinn     | Marquardt   | Quincy     | Massachusetts | M  | white  | nonhispanic | M |\n",
       "| 770518e4-6133-648e-60c9-071eb2f0e2ce | 1928-12-25 | 2017-09-29 | Abel      | Smitham     | Boston     | Massachusetts | M  | white  | hispanic    | M |\n",
       "| f96addf5-81b9-0aab-7855-d208d3d352c5 | 1928-12-25 | 2014-02-23 | Edwin     | Labadie     | Boston     | Massachusetts | M  | white  | hispanic    | M |\n",
       "| 8e9650d1-788a-78f9-4a28-d08f7f95354a | 1928-12-25 | NA | Frankie   | Oberbrunner | Boston     | Massachusetts | M  | white  | hispanic    | M |\n",
       "| 183df435-4190-060e-8f8e-bf63c572b266 | 1957-11-08 | NA | Eilene    | Walsh       | Cambridge  | Massachusetts | M  | asian  | nonhispanic | F |\n",
       "| 720560d4-51da-c38c-ee90-c15935278df1 | 1972-06-27 | NA | Lowell    | Price       | Quincy     | Massachusetts | M  | white  | nonhispanic | M |\n",
       "| 217851b0-5f47-d376-18b9-0fe4ba77207e | 1954-03-06 | NA | Adrian    | Gleason     | Boston     | Massachusetts | S  | black  | hispanic    | M |\n",
       "| ff331e5c-ab16-e218-f39a-63e11de1ed75 | 1927-07-10 | NA | Eugene    | Abernathy   | Boston     | Massachusetts | M  | native | hispanic    | M |\n",
       "| affa7bf1-f4fc-d3f7-747c-db8f32d105cf | 1933-05-08 | NA | Jay       | Wisozk      | Boston     | Massachusetts | M  | white  | nonhispanic | M |\n",
       "| becb15c3-a135-8fb2-ea09-583043922a3a | 1948-05-30 | NA | Stephanie | Douglas     | Boston     | Massachusetts | M  | white  | nonhispanic | F |\n",
       "| a8ceba15-ef47-da92-253d-185853ff6c34 | 1971-10-27 | 2021-03-26 | Helene    | Kilback     | Boston     | Massachusetts | M  | white  | hispanic    | F |\n",
       "| 0e02b297-527d-b5ea-30e5-690c82541243 | 1983-04-11 | NA | Maria     | Waelchi     | Somerville | Massachusetts | M  | black  | nonhispanic | M |\n",
       "| f2203fd5-1a2c-60cd-cae0-1416658880b6 | 1939-09-21 | NA | Edra      | Wehner      | Boston     | Massachusetts | NA | white  | nonhispanic | F |\n",
       "| 4d55540d-c43d-e6e8-5364-ec2509df31e3 | 1964-10-15 | NA | Mickie    | Champlin    | Boston     | Massachusetts | M  | white  | nonhispanic | F |\n",
       "| 07e7f8a0-1bfd-3af8-2bd0-29f1dbe9633c | 1923-03-16 | NA | Norah     | Feeney      | Boston     | Massachusetts | S  | white  | nonhispanic | F |\n",
       "| 6746a7c0-1335-90e8-5006-04378f138f46 | 1979-06-16 | NA | Edgardo   | Okuneva     | Revere     | Massachusetts | S  | black  | nonhispanic | M |\n",
       "| 733678d5-4ba7-d464-4eda-b849e137a42c | 1981-02-17 | NA | Allen     | Schumm      | Quincy     | Massachusetts | M  | white  | nonhispanic | M |\n",
       "| 5bd6c434-6f51-6e53-4d0f-8d3889f377da | 1931-12-18 | NA | Celia     | Carter      | Boston     | Massachusetts | NA | asian  | nonhispanic | F |\n",
       "| e019d0db-35d0-9bee-c8d9-76036a7f618a | 1932-06-14 | NA | Ninfa     | Parker      | Boston     | Massachusetts | S  | black  | nonhispanic | F |\n",
       "| c249fd8d-38fa-e836-dc53-f04364e988e9 | 1933-12-09 | NA | Paris     | Welch       | Quincy     | Massachusetts | M  | white  | nonhispanic | M |\n",
       "| 19fa4e8b-62d9-0c8e-a046-33976641084b | 1975-02-22 | NA | Sheba     | Miller      | Quincy     | Massachusetts | M  | asiann | nonhispanic | F |\n",
       "| 9a942ecb-92a7-4bd2-444c-f99ceebe25d0 | 1931-12-04 | NA | Keisha    | Wolf        | Cohasset   | Massachusetts | M  | white  | nonhispanic | F |\n",
       "| f06ef2bf-a35c-b6d6-44db-149397b5bd26 | 1981-08-05 | NA | Forrest   | Lubowitz    | Cambridge  | Massachusetts | M  | white  | nonhispanic | M |\n",
       "| 2aa3ac2a-88c6-3253-547d-6d8ed69790a3 | 1933-09-12 | NA | Williams  | Harris      | Everett    | Massachusetts | M  | black  | nonhispanic | M |\n",
       "| 6e34dcee-3c9e-8d2c-fe3e-6280c888fc9f | 1937-10-09 | NA | Kathern   | Bernhard    | Boston     | Massachusetts | M  | white  | nonhispanic | F |\n",
       "| d9022f6b-bae7-3d48-2f27-a3a8ad65f328 | 1959-12-02 | NA | Dallas    | Labadie     | Everett    | Massachusetts | S  | black  | nonhispanic | M |\n",
       "| bff05694-377c-4ee3-63af-131a07997d94 | 1932-03-08 | NA | Josette   | Hermiston   | Boston     | Massachusetts | M  | black  | nonhispanic | F |\n",
       "| e3a022ff-f2e0-87b2-a704-68ee3a715c17 | 1942-06-16 | NA | Orville   | Corwin      | Boston     | Massachusetts | M  | black  | nonhispanic | M |\n",
       "| ⋮ | ⋮ | ⋮ | ⋮ | ⋮ | ⋮ | ⋮ | ⋮ | ⋮ | ⋮ | ⋮ |\n",
       "| 712e95dd-f313-39c7-1fc9-8463c15c105f | 1922-05-31 | 2013-08-29 | Benito       | Zavala      | Boston    | Massachusetts | S | white    | hispanic    | M |\n",
       "| 512ea0ee-ef07-fd6c-4cba-8318dc996075 | 1969-02-10 | NA | Ira          | Lowe        | Quincy    | Massachusetts | M | white    | nonhispanic | M |\n",
       "| da7825b5-255a-ebeb-b93a-06fb3081e2bb | 1935-10-01 | NA | Pablo        | Gamez       | Boston    | Massachusetts | M | white    | hispanic    | M |\n",
       "| d985cd4b-b1db-dfe8-4b07-66bc9b840ea0 | 1931-03-27 | NA | Dottie       | Bogan       | Newton    | Massachusetts | M | white    | nonhispanic | F |\n",
       "| ef045053-7be8-48a5-935e-1115da877558 | 1931-10-21 | 2020-01-31 | Rocio        | Metz        | Boston    | Massachusetts | M | white    | hispanic    | F |\n",
       "| 74cdca0e-2569-c4bd-c985-8feb258ea72a | 1964-09-16 | NA | Jude         | Hills       | Weymouth  | Massachusetts | M | white    | nonhispanic | F |\n",
       "| 1f982a4d-c162-88d5-415b-fc4cab367c1b | 1925-06-01 | 2017-04-12 | Cindi        | Torp        | Weymouth  | Massachusetts | M | white    | hispanic    | F |\n",
       "| 0c5abaaf-01be-55ac-a808-3afc6407fe0b | 1935-04-13 | NA | Beryl        | Roob        | Medford   | Massachusetts | M | white    | nonhispanic | F |\n",
       "| d24a4830-99cd-5eb4-7a38-1e1db54d1b86 | 1925-06-01 | NA | Sophia       | Marvin      | Weymouth  | Massachusetts | S | white    | hispanic    | F |\n",
       "| 7bde0c43-9a52-1c09-09ec-6d601f253542 | 1953-11-23 | NA | Chauncey     | Jacobi      | Boston    | Massachusetts | S | asian    | nonhispanic | M |\n",
       "| 2719fc7b-15c7-b325-5cb9-958e47ee72a0 | 1963-02-10 | NA | Delbert      | Effertz     | Boston    | Massachusetts | S | white    | nonhispanic | M |\n",
       "| 8947b128-12be-4a4a-5e08-6f60059a3341 | 1958-03-21 | NA | James        | Oberbrunner | Boston    | Massachusetts | S | white    | nonhispanic | M |\n",
       "| 5225f1fe-4646-8467-3a32-306b2512d0e2 | 1985-03-22 | NA | Claude       | Batz        | Boston    | Massachusetts | M | white    | nonhispanic | M |\n",
       "| 9b6a7d3e-3cf2-3c4a-029e-bc7f3d15ca20 | 1931-08-26 | NA | Teodoro      | Heredia     | Boston    | Massachusetts | M | black    | hispanic    | M |\n",
       "| c53839c6-8871-a6ff-df1d-9e3d89c4d000 | 1952-08-31 | 2021-05-15 | Myles        | Kling       | Medford   | Massachusetts | M | white    | nonhispanic | M |\n",
       "| b0d73413-9b99-241f-dea2-f82f4e63cf32 | 1941-06-19 | NA | Sun          | Keebler     | Chelsea   | Massachusetts | S | white    | nonhispanic | F |\n",
       "| c0ce7000-bcff-c39c-705f-a81a147b3dfe | 1947-08-18 | NA | Kymberly     | Roob        | Weymouth  | Massachusetts | M | white    | nonhispanic | F |\n",
       "| 2f6c035b-a11d-9373-89af-0cb2195592d2 | 1977-04-05 | NA | Demetra      | Sawayn      | Quincy    | Massachusetts | S | white    | nonhispanic | F |\n",
       "| e051f8a9-b93e-e32c-5b27-948e919f5590 | 1950-06-15 | NA | Cornell      | Fadel       | Chelsea   | Massachusetts | M | black    | hispanic    | M |\n",
       "| 83d1e9b6-facd-e50f-6efb-2bdf2bc80145 | 1930-04-25 | 2016-04-09 | Clemente     | Vergara     | Boston    | Massachusetts | S | white    | hispanic    | M |\n",
       "| 6e8e0498-187a-d038-c7af-716b12e70455 | 1971-07-05 | NA | Carla        | Urrutia     | Boston    | Massachusetts | S | black    | hispanic    | F |\n",
       "| 8e6b0a8e-a11d-c938-9bf8-499d8378db12 | 1930-04-25 | 2021-05-04 | Jos√© Mar√≠a | Delgadillo  | Boston    | Massachusetts | M | white    | hispanic    | M |\n",
       "| 4c1a0408-1189-83df-4ae5-8d6311b97aea | 1970-04-16 | NA | Lucina       | Wiegand     | Boston    | Massachusetts | S | white    | nonhispanic | F |\n",
       "| 30de7fd4-ffab-b738-ba5b-cb630dad3d5c | 1924-04-13 | NA | Margert      | Pagac       | Boston    | Massachusetts | M | white    | nonhispanic | F |\n",
       "| 09e300d4-71f6-d2c2-88ea-27b607513e96 | 1953-10-25 | NA | Lakisha      | Rolfson     | Boston    | Massachusetts | M | white    | nonhispanic | F |\n",
       "| a920948a-7a64-e642-44b8-605ebcef09b1 | 1932-03-06 | NA | Javier       | Ruiz        | Boston    | Massachusetts | M | white    | hispanic    | M |\n",
       "| 28fb4473-1424-1fda-aa52-105bd7abaec3 | 1954-10-04 | NA | Delinda      | Waelchi     | Cambridge | Massachusetts | S | white    | nonhispanic | F |\n",
       "| 2147f600-50e5-d6c8-ae1e-930dc97e0664 | 1940-07-06 | NA | Carter       | Welch       | Boston    | Massachusetts | M | hawaiian | nonhispanic | M |\n",
       "| 1685befc-4c9e-a69f-d65f-952abe34c74c | 1974-04-21 | NA | Luigi        | Satterfield | Boston    | Massachusetts | M | white    | hispanic    | M |\n",
       "| 11844ff2-5918-bb2f-5b7d-65aa702f0cd8 | 1968-10-08 | NA | Izetta       | Farrell     | Boston    | Massachusetts | M | white    | nonhispanic | F |\n",
       "\n"
      ],
      "text/plain": [
       "    ID                                   BIRTHDATE  DEATHDATE  FIRST       \n",
       "1   5605b66b-e92d-c16c-1b83-b8bf7040d51f 1977-03-19 <NA>       Nikita      \n",
       "2   6e5ae27c-8038-7988-e2c0-25a103f01bfa 1940-02-19 <NA>       Zane        \n",
       "3   8123d076-0886-9007-e956-d5864aa121a7 1958-06-04 <NA>       Quinn       \n",
       "4   770518e4-6133-648e-60c9-071eb2f0e2ce 1928-12-25 2017-09-29 Abel        \n",
       "5   f96addf5-81b9-0aab-7855-d208d3d352c5 1928-12-25 2014-02-23 Edwin       \n",
       "6   8e9650d1-788a-78f9-4a28-d08f7f95354a 1928-12-25 <NA>       Frankie     \n",
       "7   183df435-4190-060e-8f8e-bf63c572b266 1957-11-08 <NA>       Eilene      \n",
       "8   720560d4-51da-c38c-ee90-c15935278df1 1972-06-27 <NA>       Lowell      \n",
       "9   217851b0-5f47-d376-18b9-0fe4ba77207e 1954-03-06 <NA>       Adrian      \n",
       "10  ff331e5c-ab16-e218-f39a-63e11de1ed75 1927-07-10 <NA>       Eugene      \n",
       "11  affa7bf1-f4fc-d3f7-747c-db8f32d105cf 1933-05-08 <NA>       Jay         \n",
       "12  becb15c3-a135-8fb2-ea09-583043922a3a 1948-05-30 <NA>       Stephanie   \n",
       "13  a8ceba15-ef47-da92-253d-185853ff6c34 1971-10-27 2021-03-26 Helene      \n",
       "14  0e02b297-527d-b5ea-30e5-690c82541243 1983-04-11 <NA>       Maria       \n",
       "15  f2203fd5-1a2c-60cd-cae0-1416658880b6 1939-09-21 <NA>       Edra        \n",
       "16  4d55540d-c43d-e6e8-5364-ec2509df31e3 1964-10-15 <NA>       Mickie      \n",
       "17  07e7f8a0-1bfd-3af8-2bd0-29f1dbe9633c 1923-03-16 <NA>       Norah       \n",
       "18  6746a7c0-1335-90e8-5006-04378f138f46 1979-06-16 <NA>       Edgardo     \n",
       "19  733678d5-4ba7-d464-4eda-b849e137a42c 1981-02-17 <NA>       Allen       \n",
       "20  5bd6c434-6f51-6e53-4d0f-8d3889f377da 1931-12-18 <NA>       Celia       \n",
       "21  e019d0db-35d0-9bee-c8d9-76036a7f618a 1932-06-14 <NA>       Ninfa       \n",
       "22  c249fd8d-38fa-e836-dc53-f04364e988e9 1933-12-09 <NA>       Paris       \n",
       "23  19fa4e8b-62d9-0c8e-a046-33976641084b 1975-02-22 <NA>       Sheba       \n",
       "24  9a942ecb-92a7-4bd2-444c-f99ceebe25d0 1931-12-04 <NA>       Keisha      \n",
       "25  f06ef2bf-a35c-b6d6-44db-149397b5bd26 1981-08-05 <NA>       Forrest     \n",
       "26  2aa3ac2a-88c6-3253-547d-6d8ed69790a3 1933-09-12 <NA>       Williams    \n",
       "27  6e34dcee-3c9e-8d2c-fe3e-6280c888fc9f 1937-10-09 <NA>       Kathern     \n",
       "28  d9022f6b-bae7-3d48-2f27-a3a8ad65f328 1959-12-02 <NA>       Dallas      \n",
       "29  bff05694-377c-4ee3-63af-131a07997d94 1932-03-08 <NA>       Josette     \n",
       "30  e3a022ff-f2e0-87b2-a704-68ee3a715c17 1942-06-16 <NA>       Orville     \n",
       "⋮   ⋮                                    ⋮          ⋮          ⋮           \n",
       "71  712e95dd-f313-39c7-1fc9-8463c15c105f 1922-05-31 2013-08-29 Benito      \n",
       "72  512ea0ee-ef07-fd6c-4cba-8318dc996075 1969-02-10 <NA>       Ira         \n",
       "73  da7825b5-255a-ebeb-b93a-06fb3081e2bb 1935-10-01 <NA>       Pablo       \n",
       "74  d985cd4b-b1db-dfe8-4b07-66bc9b840ea0 1931-03-27 <NA>       Dottie      \n",
       "75  ef045053-7be8-48a5-935e-1115da877558 1931-10-21 2020-01-31 Rocio       \n",
       "76  74cdca0e-2569-c4bd-c985-8feb258ea72a 1964-09-16 <NA>       Jude        \n",
       "77  1f982a4d-c162-88d5-415b-fc4cab367c1b 1925-06-01 2017-04-12 Cindi       \n",
       "78  0c5abaaf-01be-55ac-a808-3afc6407fe0b 1935-04-13 <NA>       Beryl       \n",
       "79  d24a4830-99cd-5eb4-7a38-1e1db54d1b86 1925-06-01 <NA>       Sophia      \n",
       "80  7bde0c43-9a52-1c09-09ec-6d601f253542 1953-11-23 <NA>       Chauncey    \n",
       "81  2719fc7b-15c7-b325-5cb9-958e47ee72a0 1963-02-10 <NA>       Delbert     \n",
       "82  8947b128-12be-4a4a-5e08-6f60059a3341 1958-03-21 <NA>       James       \n",
       "83  5225f1fe-4646-8467-3a32-306b2512d0e2 1985-03-22 <NA>       Claude      \n",
       "84  9b6a7d3e-3cf2-3c4a-029e-bc7f3d15ca20 1931-08-26 <NA>       Teodoro     \n",
       "85  c53839c6-8871-a6ff-df1d-9e3d89c4d000 1952-08-31 2021-05-15 Myles       \n",
       "86  b0d73413-9b99-241f-dea2-f82f4e63cf32 1941-06-19 <NA>       Sun         \n",
       "87  c0ce7000-bcff-c39c-705f-a81a147b3dfe 1947-08-18 <NA>       Kymberly    \n",
       "88  2f6c035b-a11d-9373-89af-0cb2195592d2 1977-04-05 <NA>       Demetra     \n",
       "89  e051f8a9-b93e-e32c-5b27-948e919f5590 1950-06-15 <NA>       Cornell     \n",
       "90  83d1e9b6-facd-e50f-6efb-2bdf2bc80145 1930-04-25 2016-04-09 Clemente    \n",
       "91  6e8e0498-187a-d038-c7af-716b12e70455 1971-07-05 <NA>       Carla       \n",
       "92  8e6b0a8e-a11d-c938-9bf8-499d8378db12 1930-04-25 2021-05-04 Jos√© Mar√≠a\n",
       "93  4c1a0408-1189-83df-4ae5-8d6311b97aea 1970-04-16 <NA>       Lucina      \n",
       "94  30de7fd4-ffab-b738-ba5b-cb630dad3d5c 1924-04-13 <NA>       Margert     \n",
       "95  09e300d4-71f6-d2c2-88ea-27b607513e96 1953-10-25 <NA>       Lakisha     \n",
       "96  a920948a-7a64-e642-44b8-605ebcef09b1 1932-03-06 <NA>       Javier      \n",
       "97  28fb4473-1424-1fda-aa52-105bd7abaec3 1954-10-04 <NA>       Delinda     \n",
       "98  2147f600-50e5-d6c8-ae1e-930dc97e0664 1940-07-06 <NA>       Carter      \n",
       "99  1685befc-4c9e-a69f-d65f-952abe34c74c 1974-04-21 <NA>       Luigi       \n",
       "100 11844ff2-5918-bb2f-5b7d-65aa702f0cd8 1968-10-08 <NA>       Izetta      \n",
       "    LAST        CITY       STATE         MARITAL RACE     ETHNICITY   GENDER\n",
       "1   Erdman      Quincy     Massachusetts M       white    nonhispanic F     \n",
       "2   Hodkiewicz  Boston     Massachusetts M       white    nonhispanic M     \n",
       "3   Marquardt   Quincy     Massachusetts M       white    nonhispanic M     \n",
       "4   Smitham     Boston     Massachusetts M       white    hispanic    M     \n",
       "5   Labadie     Boston     Massachusetts M       white    hispanic    M     \n",
       "6   Oberbrunner Boston     Massachusetts M       white    hispanic    M     \n",
       "7   Walsh       Cambridge  Massachusetts M       asian    nonhispanic F     \n",
       "8   Price       Quincy     Massachusetts M       white    nonhispanic M     \n",
       "9   Gleason     Boston     Massachusetts S       black    hispanic    M     \n",
       "10  Abernathy   Boston     Massachusetts M       native   hispanic    M     \n",
       "11  Wisozk      Boston     Massachusetts M       white    nonhispanic M     \n",
       "12  Douglas     Boston     Massachusetts M       white    nonhispanic F     \n",
       "13  Kilback     Boston     Massachusetts M       white    hispanic    F     \n",
       "14  Waelchi     Somerville Massachusetts M       black    nonhispanic M     \n",
       "15  Wehner      Boston     Massachusetts NA      white    nonhispanic F     \n",
       "16  Champlin    Boston     Massachusetts M       white    nonhispanic F     \n",
       "17  Feeney      Boston     Massachusetts S       white    nonhispanic F     \n",
       "18  Okuneva     Revere     Massachusetts S       black    nonhispanic M     \n",
       "19  Schumm      Quincy     Massachusetts M       white    nonhispanic M     \n",
       "20  Carter      Boston     Massachusetts NA      asian    nonhispanic F     \n",
       "21  Parker      Boston     Massachusetts S       black    nonhispanic F     \n",
       "22  Welch       Quincy     Massachusetts M       white    nonhispanic M     \n",
       "23  Miller      Quincy     Massachusetts M       asiann   nonhispanic F     \n",
       "24  Wolf        Cohasset   Massachusetts M       white    nonhispanic F     \n",
       "25  Lubowitz    Cambridge  Massachusetts M       white    nonhispanic M     \n",
       "26  Harris      Everett    Massachusetts M       black    nonhispanic M     \n",
       "27  Bernhard    Boston     Massachusetts M       white    nonhispanic F     \n",
       "28  Labadie     Everett    Massachusetts S       black    nonhispanic M     \n",
       "29  Hermiston   Boston     Massachusetts M       black    nonhispanic F     \n",
       "30  Corwin      Boston     Massachusetts M       black    nonhispanic M     \n",
       "⋮   ⋮           ⋮          ⋮             ⋮       ⋮        ⋮           ⋮     \n",
       "71  Zavala      Boston     Massachusetts S       white    hispanic    M     \n",
       "72  Lowe        Quincy     Massachusetts M       white    nonhispanic M     \n",
       "73  Gamez       Boston     Massachusetts M       white    hispanic    M     \n",
       "74  Bogan       Newton     Massachusetts M       white    nonhispanic F     \n",
       "75  Metz        Boston     Massachusetts M       white    hispanic    F     \n",
       "76  Hills       Weymouth   Massachusetts M       white    nonhispanic F     \n",
       "77  Torp        Weymouth   Massachusetts M       white    hispanic    F     \n",
       "78  Roob        Medford    Massachusetts M       white    nonhispanic F     \n",
       "79  Marvin      Weymouth   Massachusetts S       white    hispanic    F     \n",
       "80  Jacobi      Boston     Massachusetts S       asian    nonhispanic M     \n",
       "81  Effertz     Boston     Massachusetts S       white    nonhispanic M     \n",
       "82  Oberbrunner Boston     Massachusetts S       white    nonhispanic M     \n",
       "83  Batz        Boston     Massachusetts M       white    nonhispanic M     \n",
       "84  Heredia     Boston     Massachusetts M       black    hispanic    M     \n",
       "85  Kling       Medford    Massachusetts M       white    nonhispanic M     \n",
       "86  Keebler     Chelsea    Massachusetts S       white    nonhispanic F     \n",
       "87  Roob        Weymouth   Massachusetts M       white    nonhispanic F     \n",
       "88  Sawayn      Quincy     Massachusetts S       white    nonhispanic F     \n",
       "89  Fadel       Chelsea    Massachusetts M       black    hispanic    M     \n",
       "90  Vergara     Boston     Massachusetts S       white    hispanic    M     \n",
       "91  Urrutia     Boston     Massachusetts S       black    hispanic    F     \n",
       "92  Delgadillo  Boston     Massachusetts M       white    hispanic    M     \n",
       "93  Wiegand     Boston     Massachusetts S       white    nonhispanic F     \n",
       "94  Pagac       Boston     Massachusetts M       white    nonhispanic F     \n",
       "95  Rolfson     Boston     Massachusetts M       white    nonhispanic F     \n",
       "96  Ruiz        Boston     Massachusetts M       white    hispanic    M     \n",
       "97  Waelchi     Cambridge  Massachusetts S       white    nonhispanic F     \n",
       "98  Welch       Boston     Massachusetts M       hawaiian nonhispanic M     \n",
       "99  Satterfield Boston     Massachusetts M       white    hispanic    M     \n",
       "100 Farrell     Boston     Massachusetts M       white    nonhispanic F     "
      ]
     },
     "metadata": {},
     "output_type": "display_data"
    }
   ],
   "source": [
    "head(patients, n=100)"
   ]
  },
  {
   "cell_type": "code",
   "execution_count": 32,
   "id": "e03c7fa3",
   "metadata": {
    "vscode": {
     "languageId": "r"
    }
   },
   "outputs": [
    {
     "name": "stdout",
     "output_type": "stream",
     "text": [
      "### Cleaned counts for BIRTHDATE\n",
      "[1] \"1925-11-17: 4\\n1927-04-22: 4\\n1929-01-28: 4\\n1929-05-15: 4\\n1936-01-12: 4\\n1925-08-10: 3\\n1925-11-16: 3\\n1926-08-07: 3\\n1927-02-05: 3\\n1928-11-04: 3\\n1928-12-25: 3\\n1930-11-03: 3\\n1933-08-24: 3\\n1922-05-31: 2\\n1923-09-22: 2\\n1925-01-15: 2\\n1925-02-09: 2\\n1925-05-10: 2\\n1925-06-01: 2\\n1925-11-20: 2\\n1926-07-14: 2\\n1926-12-27: 2\\n1927-06-04: 2\\n1927-09-08: 2\\n1927-10-16: 2\\n1929-06-30: 2\\n1929-10-14: 2\\n1930-04-25: 2\\n1930-12-14: 2\\n1931-02-27: 2\\n1931-05-04: 2\\n1932-09-12: 2\\n1932-11-06: 2\\n1933-05-23: 2\\n1933-08-13: 2\\n1933-09-02: 2\\n1934-10-28: 2\\n1935-02-15: 2\\n1935-04-16: 2\\n1935-06-25: 2\\n1936-02-07: 2\\n1936-06-11: 2\\n1936-06-26: 2\\n1936-11-08: 2\\n1937-09-04: 2\\n1938-02-26: 2\\n1939-07-05: 2\\n1939-09-23: 2\\n1941-12-18: 2\\n1942-05-18: 2\\n1942-06-18: 2\\n1942-08-03: 2\\n1946-01-09: 2\\n1946-08-05: 2\\n1948-03-05: 2\\n1950-12-23: 2\\n1951-03-01: 2\\n1951-05-03: 2\\n1952-04-01: 2\\n1952-11-02: 2\\n1954-01-14: 2\\n1954-08-26: 2\\n1957-01-19: 2\\n1958-06-29: 2\\n1960-09-13: 2\\n1963-09-24: 2\\n1964-01-05: 2\\n1964-07-01: 2\\n1966-11-09: 2\\n1972-04-25: 2\\n1973-10-28: 2\\n1973-11-17: 2\\n1976-12-11: 2\\n1977-01-10: 2\\n1982-08-09: 2\\n1984-06-14: 2\\n1922-03-24: 1\\n1922-03-30: 1\\n1922-04-13: 1\\n1922-04-15: 1\\n1922-06-18: 1\\n1922-08-12: 1\\n1922-10-09: 1\\n1922-10-13: 1\\n1922-12-06: 1\\n1922-12-15: 1\\n1923-01-03: 1\\n1923-01-13: 1\\n1923-01-18: 1\\n1923-01-30: 1\\n1923-02-01: 1\\n1923-02-14: 1\\n1923-02-19: 1\\n1923-03-12: 1\\n1923-03-16: 1\\n1923-04-11: 1\\n1923-05-21: 1\\n1923-06-21: 1\\n1923-07-24: 1\\n1923-08-08: 1\\n1923-09-07: 1\\n1923-09-25: 1\\n1923-09-26: 1\\n1923-10-03: 1\\n1923-10-06: 1\\n1923-11-10: 1\\n1923-12-07: 1\\n1924-01-08: 1\\n1924-01-13: 1\\n1924-01-23: 1\\n1924-02-23: 1\\n1924-03-15: 1\\n1924-04-13: 1\\n1924-06-11: 1\\n1924-06-21: 1\\n1924-06-30: 1\\n1924-07-19: 1\\n1924-07-23: 1\\n1924-08-31: 1\\n1924-09-17: 1\\n1924-10-07: 1\\n1924-10-25: 1\\n1924-11-19: 1\\n1924-12-08: 1\\n1924-12-13: 1\\n1924-12-18: 1\\n1925-01-28: 1\\n1925-03-11: 1\\n1925-05-04: 1\\n1925-08-12: 1\\n1926-05-28: 1\\n1926-07-11: 1\\n1926-07-19: 1\\n1926-08-05: 1\\n1926-08-24: 1\\n1926-08-27: 1\\n1926-09-17: 1\\n1926-09-27: 1\\n1926-10-18: 1\\n1926-11-10: 1\\n1926-11-18: 1\\n1926-11-20: 1\\n1926-11-23: 1\\n1927-02-04: 1\\n1927-03-03: 1\\n1927-03-05: 1\\n1927-04-06: 1\\n1927-04-16: 1\\n1927-04-20: 1\\n1927-04-27: 1\\n1927-05-14: 1\\n1927-07-10: 1\\n1927-09-12: 1\\n1927-11-04: 1\\n1927-11-06: 1\\n1927-12-28: 1\\n1928-01-04: 1\\n1928-01-12: 1\\n1928-01-19: 1\\n1928-02-25: 1\\n1928-03-03: 1\\n1928-03-18: 1\\n1928-03-20: 1\\n1928-03-22: 1\\n1928-03-28: 1\\n1928-04-09: 1\\n1928-05-14: 1\\n1928-07-03: 1\\n1928-07-25: 1\\n1928-08-25: 1\\n1928-08-26: 1\\n1928-09-24: 1\\n1928-11-23: 1\\n1929-01-06: 1\\n1929-01-19: 1\\n1929-02-25: 1\\n1929-04-01: 1\\n1929-06-02: 1\\n1929-06-10: 1\\n1929-07-05: 1\\n1929-07-07: 1\\n1929-08-23: 1\\n1929-08-28: 1\\n1929-09-18: 1\\n1929-09-30: 1\\n1929-10-25: 1\\n1929-10-29: 1\\n1929-12-30: 1\\n1930-01-15: 1\\n1930-02-09: 1\\n1930-03-06: 1\\n1930-05-20: 1\\n1930-05-24: 1\\n1930-07-24: 1\\n1930-08-17: 1\\n1930-09-07: 1\\n1930-09-20: 1\\n1930-10-12: 1\\n1930-10-14: 1\\n1930-10-31: 1\\n1931-01-01: 1\\n1931-01-12: 1\\n1931-01-28: 1\\n1931-02-10: 1\\n1931-02-12: 1\\n1931-03-27: 1\\n1931-04-10: 1\\n1931-04-21: 1\\n1931-06-01: 1\\n1931-06-22: 1\\n1931-07-05: 1\\n1931-08-26: 1\\n1931-09-05: 1\\n1931-10-21: 1\\n1931-12-04: 1\\n1931-12-13: 1\\n1931-12-15: 1\\n1931-12-18: 1\\n1931-12-28: 1\\n1932-01-16: 1\\n1932-03-06: 1\\n1932-03-08: 1\\n1932-03-23: 1\\n1932-03-31: 1\\n1932-05-25: 1\\n1932-06-14: 1\\n1932-06-17: 1\\n1932-07-11: 1\\n1932-07-15: 1\\n1932-09-03: 1\\n1932-09-07: 1\\n1932-09-17: 1\\n1932-10-14: 1\\n1932-10-24: 1\\n1932-10-27: 1\\n1932-11-22: 1\\n1933-01-07: 1\\n1933-01-31: 1\\n1933-03-27: 1\\n1933-05-08: 1\\n1933-05-10: 1\\n1933-05-15: 1\\n1933-07-01: 1\\n1933-07-14: 1\\n1933-09-12: 1\\n1933-10-28: 1\\n1933-11-04: 1\\n1933-11-25: 1\\n1933-12-09: 1\\n1933-12-16: 1\\n1934-01-05: 1\\n1934-03-27: 1\\n1934-06-06: 1\\n1934-06-09: 1\\n1934-07-15: 1\\n1934-10-07: 1\\n1934-12-24: 1\\n1935-01-16: 1\\n1935-01-20: 1\\n1935-01-21: 1\\n1935-02-03: 1\\n1935-02-20: 1\\n1935-03-04: 1\\n1935-03-11: 1\\n1935-03-29: 1\\n1935-04-13: 1\\n1935-05-18: 1\\n1935-06-14: 1\\n1935-06-17: 1\\n1935-07-05: 1\\n1935-08-09: 1\\n1935-09-12: 1\\n1935-09-25: 1\\n1935-10-01: 1\\n1935-10-10: 1\\n1935-10-16: 1\\n1935-11-03: 1\\n1935-11-10: 1\\n1936-02-18: 1\\n1936-04-01: 1\\n1936-05-25: 1\\n1936-07-21: 1\\n1936-10-27: 1\\n1936-11-01: 1\\n1937-01-05: 1\\n1937-03-02: 1\\n1937-03-05: 1\\n1937-03-27: 1\\n1937-08-25: 1\\n1937-10-09: 1\\n1937-12-25: 1\\n1937-12-30: 1\\n1938-01-02: 1\\n1938-03-26: 1\\n1938-04-24: 1\\n1938-07-05: 1\\n1938-07-14: 1\\n1938-07-21: 1\\n1938-08-31: 1\\n1938-10-05: 1\\n1938-10-17: 1\\n1938-11-24: 1\\n1939-03-15: 1\\n1939-04-02: 1\\n1939-05-07: 1\\n1939-05-16: 1\\n1939-06-02: 1\\n1939-09-08: 1\\n1939-09-21: 1\\n1939-09-28: 1\\n1939-10-18: 1\\n1939-10-24: 1\\n1939-10-30: 1\\n1939-11-04: 1\\n1940-01-01: 1\\n1940-02-14: 1\\n1940-02-19: 1\\n1940-02-20: 1\\n1940-03-28: 1\\n1940-04-01: 1\\n1940-04-10: 1\\n1940-05-13: 1\\n1940-06-04: 1\\n1940-07-06: 1\\n1940-07-23: 1\\n1940-09-11: 1\\n1940-10-13: 1\\n1940-10-16: 1\\n1940-10-27: 1\\n1940-10-31: 1\\n1941-02-02: 1\\n1941-02-18: 1\\n1941-02-20: 1\\n1941-02-27: 1\\n1941-03-18: 1\\n1941-04-01: 1\\n1941-04-07: 1\\n1941-04-25: 1\\n1941-04-28: 1\\n1941-05-09: 1\\n1941-05-10: 1\\n1941-06-19: 1\\n1941-08-04: 1\\n1941-08-31: 1\\n1941-09-27: 1\\n1941-11-10: 1\\n1941-11-28: 1\\n1941-12-08: 1\\n1941-12-20: 1\\n1942-04-06: 1\\n1942-06-01: 1\\n1942-06-11: 1\\n1942-06-16: 1\\n1942-07-27: 1\\n1942-08-27: 1\\n1942-11-09: 1\\n1943-04-13: 1\\n1943-04-18: 1\\n1943-05-27: 1\\n1943-07-03: 1\\n1943-07-28: 1\\n1943-09-12: 1\\n1943-09-14: 1\\n1943-09-30: 1\\n1943-10-04: 1\\n1943-11-24: 1\\n1943-12-12: 1\\n1944-01-21: 1\\n1944-02-21: 1\\n1944-03-08: 1\\n1944-04-14: 1\\n1944-06-22: 1\\n1944-07-22: 1\\n1944-08-10: 1\\n1944-09-12: 1\\n1944-10-01: 1\\n1944-10-16: 1\\n1944-11-14: 1\\n1945-03-04: 1\\n1945-03-24: 1\\n1945-04-25: 1\\n1945-04-28: 1\\n1945-06-22: 1\\n1945-07-31: 1\\n1945-08-26: 1\\n1945-09-03: 1\\n1945-09-10: 1\\n1945-10-15: 1\\n1945-11-12: 1\\n1945-12-06: 1\\n1945-12-13: 1\\n1945-12-27: 1\\n1946-01-13: 1\\n1946-01-16: 1\\n1946-02-01: 1\\n1946-03-06: 1\\n1946-03-14: 1\\n1946-04-02: 1\\n1946-04-25: 1\\n1946-05-16: 1\\n1946-06-06: 1\\n1946-06-22: 1\\n1946-08-21: 1\\n1946-09-12: 1\\n1947-01-02: 1\\n1947-02-04: 1\\n1947-02-07: 1\\n1947-03-30: 1\\n1947-04-25: 1\\n1947-05-13: 1\\n1947-05-22: 1\\n1947-07-07: 1\\n1947-08-09: 1\\n1947-08-18: 1\\n1947-10-17: 1\\n1947-11-03: 1\\n1947-11-11: 1\\n1947-11-25: 1\\n1947-12-10: 1\\n1948-02-28: 1\\n1948-03-28: 1\\n1948-04-05: 1\\n1948-05-30: 1\\n1948-08-21: 1\\n1948-11-10: 1\\n1948-12-17: 1\\n1949-02-16: 1\\n1949-02-27: 1\\n1949-04-10: 1\\n1949-04-23: 1\\n1949-09-12: 1\\n1950-02-16: 1\\n1950-04-05: 1\\n1950-04-14: 1\\n1950-04-29: 1\\n1950-06-15: 1\\n1950-07-28: 1\\n1950-08-19: 1\\n1950-11-19: 1\\n1950-12-26: 1\\n1951-03-24: 1\\n1951-03-31: 1\\n1951-04-04: 1\\n1951-04-12: 1\\n1951-06-04: 1\\n1951-06-11: 1\\n1951-06-24: 1\\n1951-09-18: 1\\n1951-09-24: 1\\n1951-11-22: 1\\n1952-01-15: 1\\n1952-01-23: 1\\n1952-02-22: 1\\n1952-02-25: 1\\n1952-04-05: 1\\n1952-05-17: 1\\n1952-06-28: 1\\n1952-06-30: 1\\n1952-08-31: 1\\n1952-09-11: 1\\n1952-10-31: 1\\n1952-11-10: 1\\n1952-11-12: 1\\n1952-12-06: 1\\n1952-12-08: 1\\n1953-03-14: 1\\n1953-03-18: 1\\n1953-04-04: 1\\n1953-04-17: 1\\n1953-04-21: 1\\n1953-05-03: 1\\n1953-06-06: 1\\n1953-10-13: 1\\n1953-10-25: 1\\n1953-11-09: 1\\n1953-11-12: 1\\n1953-11-23: 1\\n1953-12-04: 1\\n1953-12-25: 1\\n1953-12-27: 1\\n1954-02-03: 1\\n1954-03-06: 1\\n1954-03-27: 1\\n1954-04-14: 1\\n1954-05-01: 1\\n1954-07-17: 1\\n1954-07-23: 1\\n1954-09-25: 1\\n1954-10-04: 1\\n1954-10-16: 1\\n1955-01-05: 1\\n1955-01-26: 1\\n1955-04-10: 1\\n1955-04-13: 1\\n1955-09-04: 1\\n1955-10-09: 1\\n1955-10-11: 1\\n1955-12-04: 1\\n1955-12-13: 1\\n1956-01-19: 1\\n1956-01-30: 1\\n1956-02-12: 1\\n1956-03-13: 1\\n1956-03-18: 1\\n1956-07-05: 1\\n1956-07-09: 1\\n1956-07-18: 1\\n1956-10-26: 1\\n1956-12-28: 1\\n1956-12-29: 1\\n1957-01-14: 1\\n1957-03-17: 1\\n1957-06-28: 1\\n1957-07-21: 1\\n1957-08-21: 1\\n1957-10-14: 1\\n1957-11-08: 1\\n1957-11-15: 1\\n1957-12-27: 1\\n1958-02-16: 1\\n1958-03-21: 1\\n1958-03-25: 1\\n1958-04-07: 1\\n1958-05-08: 1\\n1958-06-04: 1\\n1958-07-13: 1\\n1958-08-03: 1\\n1958-08-29: 1\\n1958-11-10: 1\\n1958-11-12: 1\\n1959-01-12: 1\\n1959-02-14: 1\\n1959-02-24: 1\\n1959-03-04: 1\\n1959-05-13: 1\\n1959-06-08: 1\\n1959-06-14: 1\\n1959-07-04: 1\\n1959-07-28: 1\\n1959-10-10: 1\\n1959-11-09: 1\\n1959-11-15: 1\\n1959-11-24: 1\\n1959-11-28: 1\\n1959-12-02: 1\\n1960-01-18: 1\\n1960-02-20: 1\\n1960-03-17: 1\\n1960-03-19: 1\\n1960-03-25: 1\\n1960-06-18: 1\\n1960-07-26: 1\\n1960-08-20: 1\\n1960-10-11: 1\\n1960-10-23: 1\\n1960-11-16: 1\\n1960-12-19: 1\\n1961-01-04: 1\\n1961-03-03: 1\\n1961-03-28: 1\\n1961-03-30: 1\\n1961-06-05: 1\\n1961-06-17: 1\\n1961-07-07: 1\\n1961-08-06: 1\\n1961-10-28: 1\\n1962-02-12: 1\\n1962-02-17: 1\\n1962-06-09: 1\\n1962-08-08: 1\\n1962-11-25: 1\\n1962-12-05: 1\\n1962-12-11: 1\\n1963-01-20: 1\\n1963-02-10: 1\\n1963-03-09: 1\\n1963-05-01: 1\\n1963-05-08: 1\\n1963-08-15: 1\\n1963-08-27: 1\\n1963-11-20: 1\\n1964-03-15: 1\\n1964-04-12: 1\\n1964-04-22: 1\\n1964-04-23: 1\\n1964-04-24: 1\\n1964-05-05: 1\\n1964-06-01: 1\\n1964-06-15: 1\\n1964-07-19: 1\\n1964-07-26: 1\\n1964-07-28: 1\\n1964-08-21: 1\\n1964-09-16: 1\\n1964-10-06: 1\\n1964-10-15: 1\\n1965-02-25: 1\\n1965-04-22: 1\\n1965-05-07: 1\\n1965-05-15: 1\\n1965-08-19: 1\\n1965-09-12: 1\\n1965-12-08: 1\\n1966-01-05: 1\\n1966-04-01: 1\\n1966-04-04: 1\\n1966-04-08: 1\\n1966-04-18: 1\\n1966-06-01: 1\\n1966-08-18: 1\\n1966-09-23: 1\\n1966-09-25: 1\\n1966-10-20: 1\\n1966-11-11: 1\\n1966-11-21: 1\\n1966-11-29: 1\\n1966-12-08: 1\\n1966-12-30: 1\\n1966-12-31: 1\\n1967-02-02: 1\\n1967-03-24: 1\\n1967-04-03: 1\\n1967-05-02: 1\\n1967-05-08: 1\\n1967-06-14: 1\\n1967-07-21: 1\\n1967-08-20: 1\\n1967-09-06: 1\\n1967-10-22: 1\\n1967-11-21: 1\\n1968-01-08: 1\\n1968-01-27: 1\\n1968-05-16: 1\\n1968-05-21: 1\\n1968-07-17: 1\\n1968-08-05: 1\\n1968-09-15: 1\\n1968-10-08: 1\\n1969-01-11: 1\\n1969-01-26: 1\\n1969-02-10: 1\\n1969-02-14: 1\\n1969-02-17: 1\\n1969-03-21: 1\\n1969-05-06: 1\\n1969-05-15: 1\\n1969-07-12: 1\\n1969-11-20: 1\\n1969-12-27: 1\\n1969-12-30: 1\\n1970-04-08: 1\\n1970-04-16: 1\\n1970-06-03: 1\\n1970-09-08: 1\\n1970-09-17: 1\\n1970-11-26: 1\\n1970-12-02: 1\\n1971-01-26: 1\\n1971-01-30: 1\\n1971-03-31: 1\\n1971-05-10: 1\\n1971-05-16: 1\\n1971-06-19: 1\\n1971-07-05: 1\\n1971-07-08: 1\\n1971-08-19: 1\\n1971-08-26: 1\\n1971-10-27: 1\\n1971-11-06: 1\\n1972-01-15: 1\\n1972-01-25: 1\\n1972-04-15: 1\\n1972-06-10: 1\\n1972-06-27: 1\\n1972-06-29: 1\\n1972-07-30: 1\\n1972-10-24: 1\\n1973-01-06: 1\\n1973-01-24: 1\\n1973-02-16: 1\\n1973-02-26: 1\\n1973-03-12: 1\\n1973-04-19: 1\\n1973-05-16: 1\\n1973-05-25: 1\\n1973-06-12: 1\\n1973-08-28: 1\\n1973-09-01: 1\\n1973-09-09: 1\\n1974-01-20: 1\\n1974-01-30: 1\\n1974-04-21: 1\\n1974-04-22: 1\\n1974-04-27: 1\\n1974-05-12: 1\\n1974-06-19: 1\\n1974-07-09: 1\\n1974-07-15: 1\\n1974-07-29: 1\\n1974-10-03: 1\\n1974-12-06: 1\\n1974-12-22: 1\\n1975-01-24: 1\\n1975-02-05: 1\\n1975-02-22: 1\\n1975-03-13: 1\\n1975-04-29: 1\\n1975-05-07: 1\\n1975-05-20: 1\\n1975-05-31: 1\\n1975-06-27: 1\\n1975-07-27: 1\\n1975-09-12: 1\\n1975-09-19: 1\\n1975-11-14: 1\\n1975-12-06: 1\\n1975-12-30: 1\\n1976-01-07: 1\\n1976-01-22: 1\\n1976-02-27: 1\\n1976-04-04: 1\\n1976-04-10: 1\\n1976-05-18: 1\\n1976-05-26: 1\\n1976-08-01: 1\\n1976-08-18: 1\\n1976-09-02: 1\\n1976-10-13: 1\\n1976-10-18: 1\\n1976-10-31: 1\\n1976-12-01: 1\\n1977-01-02: 1\\n1977-01-30: 1\\n1977-02-05: 1\\n1977-02-08: 1\\n1977-03-19: 1\\n1977-04-05: 1\\n1977-04-19: 1\\n1977-04-29: 1\\n1977-05-16: 1\\n1977-05-28: 1\\n1977-06-29: 1\\n1977-07-23: 1\\n1977-07-31: 1\\n1977-10-04: 1\\n1978-01-04: 1\\n1978-04-06: 1\\n1978-05-27: 1\\n1978-06-08: 1\\n1978-08-04: 1\\n1978-10-03: 1\\n1978-12-15: 1\\n1978-12-17: 1\\n1979-01-31: 1\\n1979-05-07: 1\\n1979-06-16: 1\\n1979-06-24: 1\\n1979-07-14: 1\\n1979-08-29: 1\\n1979-09-17: 1\\n1979-09-20: 1\\n1979-09-22: 1\\n1979-10-28: 1\\n1979-12-25: 1\\n1979-12-29: 1\\n1980-01-05: 1\\n1980-02-11: 1\\n1980-02-28: 1\\n1980-03-08: 1\\n1980-03-14: 1\\n1980-04-01: 1\\n1980-08-10: 1\\n1980-09-23: 1\\n1980-11-12: 1\\n1980-11-16: 1\\n1980-11-19: 1\\n1980-11-29: 1\\n1980-12-24: 1\\n1981-01-24: 1\\n1981-02-17: 1\\n1981-04-09: 1\\n1981-05-22: 1\\n1981-06-09: 1\\n1981-08-03: 1\\n1981-08-05: 1\\n1981-09-26: 1\\n1981-10-08: 1\\n1981-10-26: 1\\n1981-10-29: 1\\n1982-03-02: 1\\n1982-04-11: 1\\n1982-06-08: 1\\n1982-08-19: 1\\n1982-08-31: 1\\n1982-09-10: 1\\n1982-10-19: 1\\n1982-12-16: 1\\n1983-03-18: 1\\n1983-04-11: 1\\n1983-07-29: 1\\n1983-10-19: 1\\n1983-11-01: 1\\n1983-11-02: 1\\n1984-01-27: 1\\n1984-03-22: 1\\n1984-05-28: 1\\n1984-07-16: 1\\n1984-07-24: 1\\n1984-10-05: 1\\n1984-10-29: 1\\n1984-11-13: 1\\n1984-12-11: 1\\n1984-12-28: 1\\n1985-01-10: 1\\n1985-01-17: 1\\n1985-02-12: 1\\n1985-02-27: 1\\n1985-03-05: 1\\n1985-03-22: 1\\n1985-09-12: 1\\n1985-09-16: 1\\n1985-12-19: 1\\n1985-12-28: 1\\n1986-01-02: 1\\n1986-02-23: 1\\n1986-03-21: 1\\n1986-03-31: 1\\n1986-04-22: 1\\n1986-08-13: 1\\n1986-11-14: 1\\n1986-11-15: 1\\n1986-12-25: 1\\n1987-03-04: 1\\n1987-05-13: 1\\n1987-05-18: 1\\n1987-07-03: 1\\n1987-09-19: 1\\n1987-10-23: 1\\n1987-10-26: 1\\n1987-11-23: 1\\n1987-11-24: 1\\n1988-04-02: 1\\n1988-04-13: 1\\n1988-05-02: 1\\n1988-05-19: 1\\n1988-07-10: 1\\n1988-08-17: 1\\n1988-09-12: 1\\n1988-09-17: 1\\n1988-10-05: 1\\n1988-11-13: 1\\n1988-12-08: 1\\n1989-02-15: 1\\n1989-03-16: 1\\n1989-07-14: 1\\n1990-01-06: 1\\n1990-01-18: 1\\n1990-02-05: 1\\n1990-02-06: 1\\n1990-03-15: 1\\n1990-04-17: 1\\n1990-04-26: 1\\n1990-05-21: 1\\n1990-07-05: 1\\n1990-08-07: 1\\n1990-09-22: 1\\n1990-10-26: 1\\n1990-12-12: 1\\n1990-12-13: 1\\n1991-01-05: 1\\n1991-02-24: 1\\n1991-04-09: 1\\n1991-04-21: 1\\n1991-05-01: 1\\n1991-06-22: 1\\n1991-08-03: 1\\n1991-09-23: 1\\n1991-10-01: 1\\n1991-10-04: 1\\n1991-11-27: 1\"\n",
      "\n",
      "\n",
      "### Cleaned counts for DEATHDATE\n",
      "[1] \"2012-01-26: 2\\n2014-10-19: 2\\n2016-01-31: 2\\n2017-09-29: 2\\n2019-07-31: 2\\n2021-01-05: 2\\n2011-02-03: 1\\n2011-02-17: 1\\n2011-07-12: 1\\n2011-10-10: 1\\n2011-11-29: 1\\n2011-12-08: 1\\n2012-01-22: 1\\n2012-02-02: 1\\n2012-03-08: 1\\n2012-05-01: 1\\n2012-05-15: 1\\n2012-07-03: 1\\n2012-07-11: 1\\n2012-09-29: 1\\n2012-10-17: 1\\n2012-11-22: 1\\n2012-12-09: 1\\n2012-12-23: 1\\n2012-12-29: 1\\n2013-04-29: 1\\n2013-05-14: 1\\n2013-06-02: 1\\n2013-06-10: 1\\n2013-06-26: 1\\n2013-07-04: 1\\n2013-07-25: 1\\n2013-08-29: 1\\n2013-10-27: 1\\n2013-11-12: 1\\n2013-11-28: 1\\n2013-12-11: 1\\n2014-01-13: 1\\n2014-01-14: 1\\n2014-02-11: 1\\n2014-02-13: 1\\n2014-02-14: 1\\n2014-02-23: 1\\n2014-04-21: 1\\n2014-07-19: 1\\n2014-07-29: 1\\n2014-11-10: 1\\n2014-11-16: 1\\n2014-11-27: 1\\n2014-12-21: 1\\n2015-02-02: 1\\n2015-02-19: 1\\n2015-03-31: 1\\n2015-04-30: 1\\n2015-05-05: 1\\n2015-07-29: 1\\n2016-01-02: 1\\n2016-04-04: 1\\n2016-04-09: 1\\n2016-04-22: 1\\n2016-07-17: 1\\n2016-08-31: 1\\n2016-10-03: 1\\n2016-10-06: 1\\n2016-10-21: 1\\n2016-11-06: 1\\n2016-12-17: 1\\n2016-12-30: 1\\n2017-01-19: 1\\n2017-02-04: 1\\n2017-02-13: 1\\n2017-03-01: 1\\n2017-04-03: 1\\n2017-04-10: 1\\n2017-04-12: 1\\n2017-04-27: 1\\n2017-07-16: 1\\n2017-07-25: 1\\n2017-08-07: 1\\n2017-09-07: 1\\n2017-09-19: 1\\n2017-09-20: 1\\n2017-12-16: 1\\n2018-02-18: 1\\n2018-03-06: 1\\n2018-03-29: 1\\n2018-04-06: 1\\n2018-04-08: 1\\n2018-05-01: 1\\n2018-05-04: 1\\n2018-05-05: 1\\n2018-05-16: 1\\n2018-05-24: 1\\n2018-05-27: 1\\n2018-06-05: 1\\n2018-06-24: 1\\n2018-07-14: 1\\n2018-07-21: 1\\n2018-08-17: 1\\n2018-09-25: 1\\n2018-10-05: 1\\n2018-10-31: 1\\n2018-12-17: 1\\n2018-12-28: 1\\n2019-02-06: 1\\n2019-02-12: 1\\n2019-03-17: 1\\n2019-03-18: 1\\n2019-03-22: 1\\n2019-03-26: 1\\n2019-05-21: 1\\n2019-05-31: 1\\n2019-08-22: 1\\n2019-08-28: 1\\n2019-09-23: 1\\n2019-10-06: 1\\n2019-10-28: 1\\n2019-11-08: 1\\n2019-11-25: 1\\n2019-11-30: 1\\n2020-01-31: 1\\n2020-04-25: 1\\n2020-05-06: 1\\n2020-06-02: 1\\n2020-07-09: 1\\n2020-08-02: 1\\n2020-08-29: 1\\n2020-10-15: 1\\n2020-10-27: 1\\n2020-11-15: 1\\n2020-11-28: 1\\n2020-12-07: 1\\n2020-12-09: 1\\n2021-01-02: 1\\n2021-01-04: 1\\n2021-01-13: 1\\n2021-01-19: 1\\n2021-01-22: 1\\n2021-01-27: 1\\n2021-03-08: 1\\n2021-03-11: 1\\n2021-03-26: 1\\n2021-05-01: 1\\n2021-05-04: 1\\n2021-05-15: 1\\n2021-10-17: 1\\n2021-12-26: 1\\n2022-01-27: 1\"\n",
      "\n",
      "\n",
      "### Cleaned counts for CITY\n",
      "[1] \"Boston: 541\\nQuincy: 80\\nCambridge: 45\\nRevere: 42\\nChelsea: 39\\nWeymouth: 37\\nSomerville: 25\\nHingham: 22\\nWinthrop: 22\\nBrookline: 17\\nEverett: 16\\nHull: 15\\nMedford: 13\\nBraintree: 10\\nCohasset: 10\\nMalden: 8\\nScituate: 8\\nNewton: 6\\nStoneham: 5\\nNorth Scituate: 3\\nReading: 2\\nBelmont: 1\\nLynnfield: 1\\nMelrose: 1\\nMilton: 1\\nNorwell: 1\\nWaltham: 1\\nWatertown: 1\\nWinchester: 1\"\n",
      "\n",
      "\n",
      "### Cleaned counts for STATE\n",
      "[1] \"Massachusetts: 974\"\n",
      "\n",
      "\n",
      "### Cleaned counts for MARITAL\n",
      "[1] \"M: 782\\nS: 189\"\n",
      "\n",
      "\n",
      "### Cleaned counts for RACE\n",
      "[1] \"white: 680\\nblack: 163\\nasian: 90\\nother: 16\\nhawaiian: 13\\nnative: 11\\nasiann: 1\"\n",
      "\n",
      "\n",
      "### Cleaned counts for ETHNICITY\n",
      "[1] \"nonhispanic: 783\\nhispanic: 191\"\n",
      "\n",
      "\n",
      "### Cleaned counts for GENDER\n",
      "[1] \"M: 494\\nF: 480\"\n",
      "\n",
      "\n",
      "\n",
      "### BIRTHDATE range:\n",
      "[1] \"1922-03-24\" \"1991-11-27\"\n",
      "\n",
      "### DEATHDATE range:\n",
      "[1] \"2011-02-03\" \"2022-01-27\"\n"
     ]
    }
   ],
   "source": [
    "\n",
    "for (col in categorical){\n",
    "    cat(paste0(\"### Cleaned counts for \", col, \"\\n\"))\n",
    "    counts <- sort(table(patients[[col]]), decreasing = TRUE)\n",
    "    output <- paste(names(counts), counts, sep = \": \", collapse = \"\\n\")\n",
    "    mdpre(output)\n",
    "    cat(\"\\n\\n\")\n",
    "    \n",
    "}\n",
    "cat(\"\\n### BIRTHDATE range:\\n\")\n",
    "mdpre(range(patients$BIRTHDATE, na.rm = TRUE))\n",
    "\n",
    "cat(\"\\n### DEATHDATE range:\\n\")\n",
    "mdpre(range(patients$DEATHDATE, na.rm = TRUE))"
   ]
  },
  {
   "cell_type": "markdown",
   "id": "7a7c73e4",
   "metadata": {},
   "source": [
    "### Question 11\n",
    "Make a histogram of the ages of patients by gender. "
   ]
  },
  {
   "cell_type": "code",
   "execution_count": 33,
   "id": "9e711974",
   "metadata": {
    "vscode": {
     "languageId": "r"
    }
   },
   "outputs": [
    {
     "data": {
      "image/png": "[encoded data removed]",
      "text/plain": [
       "plot without title"
      ]
     },
     "metadata": {
      "image/png": {
       "height": 420,
       "width": 420
      }
     },
     "output_type": "display_data"
    }
   ],
   "source": [
    "patients$age <- ifelse(\n",
    "  is.na(patients$DEATHDATE),\n",
    "  as.integer(floor(interval(patients$BIRTHDATE, today()) / years(1))),\n",
    "  as.integer(floor(interval(patients$BIRTHDATE, patients$DEATHDATE) / years(1)))\n",
    ")\n",
    "\n",
    "ggplot(patients, aes(x = age, fill = GENDER)) +\n",
    "  geom_histogram(position = \"dodge\", alpha = 0.6, bins = 10) +\n",
    "  labs(title = \"Histogram of Patient Ages by Gender\",\n",
    "       x = \"Age\",\n",
    "       y = \"Count\")"
   ]
  },
  {
   "cell_type": "markdown",
   "id": "2bc62384",
   "metadata": {},
   "source": [
    "### Question 12\n",
    "Make a scatterplot of birthdate by martial status."
   ]
  },
  {
   "cell_type": "code",
   "execution_count": 34,
   "id": "0356d6f1",
   "metadata": {
    "vscode": {
     "languageId": "r"
    }
   },
   "outputs": [
    {
     "data": {
      "image/png": "[encoded data removed]",
      "text/plain": [
       "plot without title"
      ]
     },
     "metadata": {
      "image/png": {
       "height": 420,
       "width": 420
      }
     },
     "output_type": "display_data"
    }
   ],
   "source": [
    "ggplot(patients, aes(x = BIRTHDATE, y = MARITAL, color=MARITAL)) +\n",
    "    geom_jitter(alpha = 0.7, width = 1, height = 0.2) +\n",
    "    labs(title = \"Scatterplot of Patient Birthdates by Marital Status\",\n",
    "       x = \"Birthdate\",\n",
    "       y = \"Count\")"
   ]
  }
 ],
 "metadata": {
  "kernelspec": {
   "display_name": "R",
   "language": "R",
   "name": "ir"
  },
  "language_info": {
   "codemirror_mode": "r",
   "file_extension": ".r",
   "mimetype": "text/x-r-source",
   "name": "R",
   "pygments_lexer": "r",
   "version": "4.5.1"
  }
 },
 "nbformat": 4,
 "nbformat_minor": 5
}
