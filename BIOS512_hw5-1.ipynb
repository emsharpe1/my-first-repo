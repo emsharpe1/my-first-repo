{
 "cells": [
  {
   "cell_type": "markdown",
   "id": "a9fffe83-2e65-45b4-a7ae-eba928112210",
   "metadata": {},
   "source": [
    "# Homework 5\n",
    "This homework requires `wine.csv`, and the `tidyverse` and `Rtsne` packages. Install them if you haven't already!  \n",
    "See the following link for how to add new packages to Binder: https://github.com/rjenki/BIOS512?tab=readme-ov-file#adding-packages-to-installr-later.   \n",
    "**For readability and easier processing, please make each question part a different code chunk.**"
   ]
  },
  {
   "cell_type": "code",
   "execution_count": null,
   "id": "8cf42c8f-5d46-455a-85bd-2df6a53141d3",
   "metadata": {
    "vscode": {
     "languageId": "r"
    }
   },
   "outputs": [
    {
     "name": "stderr",
     "output_type": "stream",
     "text": [
      "── \u001b[1mAttaching core tidyverse packages\u001b[22m ──────────────────────── tidyverse 2.0.0 ──\n",
      "\u001b[32m✔\u001b[39m \u001b[34mdplyr    \u001b[39m 1.1.4     \u001b[32m✔\u001b[39m \u001b[34mreadr    \u001b[39m 2.1.5\n",
      "\u001b[32m✔\u001b[39m \u001b[34mforcats  \u001b[39m 1.0.0     \u001b[32m✔\u001b[39m \u001b[34mstringr  \u001b[39m 1.5.1\n",
      "\u001b[32m✔\u001b[39m \u001b[34mggplot2  \u001b[39m 3.5.2     \u001b[32m✔\u001b[39m \u001b[34mtibble   \u001b[39m 3.3.0\n",
      "\u001b[32m✔\u001b[39m \u001b[34mlubridate\u001b[39m 1.9.4     \u001b[32m✔\u001b[39m \u001b[34mtidyr    \u001b[39m 1.3.1\n",
      "\u001b[32m✔\u001b[39m \u001b[34mpurrr    \u001b[39m 1.1.0     \n",
      "── \u001b[1mConflicts\u001b[22m ────────────────────────────────────────── tidyverse_conflicts() ──\n",
      "\u001b[31m✖\u001b[39m \u001b[34mdplyr\u001b[39m::\u001b[32mfilter()\u001b[39m masks \u001b[34mstats\u001b[39m::filter()\n",
      "\u001b[31m✖\u001b[39m \u001b[34mdplyr\u001b[39m::\u001b[32mlag()\u001b[39m    masks \u001b[34mstats\u001b[39m::lag()\n",
      "\u001b[36mℹ\u001b[39m Use the conflicted package (\u001b[3m\u001b[34m<http://conflicted.r-lib.org/>\u001b[39m\u001b[23m) to force all conflicts to become errors\n"
     ]
    },
    {
     "name": "stdout",
     "output_type": "stream",
     "text": [
      "package 'Rtsne' successfully unpacked and MD5 sums checked\n",
      "\n",
      "The downloaded binary packages are in\n",
      "\tC:\\Users\\Ella Sharpe\\AppData\\Local\\Temp\\RtmpK2ZIjE\\downloaded_packages\n"
     ]
    }
   ],
   "source": [
    "library(tidyverse)\n",
    "dir.create(\"~/Rlibs\", showWarnings = FALSE)\n",
    "install.packages(\"bit\", lib = \"~/Rlibs\")\n",
    "install.packages(\"Rtsne\", lib = \"~/Rlibs\", dependencies = TRUE)\n",
    "install.packages(\"Rcpp\", lib = \"~/Rlibs\")\n",
    "install.packages(\"vroom\", lib = \"~/Rlibs\")\n",
    "install.packages(\"labeling\", lib = \"~/Rlibs\")\n",
    "install.packages(\"farver\", lib = \"~/Rlibs\")\n",
    ".libPaths(\"~/Rlibs\")\n",
    "library(Rtsne)\n",
    "library(vroom)\n",
    "library(labeling)\n",
    "library(farver)"
   ]
  },
  {
   "cell_type": "markdown",
   "id": "02234287-abef-4f5e-8045-b97a1c684af7",
   "metadata": {},
   "source": [
    "## Question 1  \n",
    "\n",
    "#### a) Import your data.  \n",
    "#### b) Check out the columns present using one of R's data frame summary.  \n",
    "#### c) Get summary statistics on the numeric variables.  "
   ]
  },
  {
   "cell_type": "code",
   "execution_count": 4,
   "id": "de8f994f",
   "metadata": {
    "vscode": {
     "languageId": "r"
    }
   },
   "outputs": [
    {
     "name": "stderr",
     "output_type": "stream",
     "text": [
      "\u001b[1mRows: \u001b[22m\u001b[34m178\u001b[39m \u001b[1mColumns: \u001b[22m\u001b[34m14\u001b[39m\n",
      "\u001b[36m──\u001b[39m \u001b[1mColumn specification\u001b[22m \u001b[36m────────────────────────────────────────────────────────\u001b[39m\n",
      "\u001b[1mDelimiter:\u001b[22m \",\"\n",
      "\u001b[32mdbl\u001b[39m (14): Alcohol, Malicacid, Ash, Alcalinity_of_ash, Magnesium, Total_pheno...\n",
      "\n",
      "\u001b[36mℹ\u001b[39m Use `spec()` to retrieve the full column specification for this data.\n",
      "\u001b[36mℹ\u001b[39m Specify the column types or set `show_col_types = FALSE` to quiet this message.\n"
     ]
    },
    {
     "name": "stdout",
     "output_type": "stream",
     "text": [
      "Rows: 178\n",
      "Columns: 14\n",
      "$ Alcohol                        \u001b[3m\u001b[90m<dbl>\u001b[39m\u001b[23m 14.23\u001b[90m, \u001b[39m13.20\u001b[90m, \u001b[39m13.16\u001b[90m, \u001b[39m14.37\u001b[90m, \u001b[39m13.24\u001b[90m, \u001b[39m14.2…\n",
      "$ Malicacid                      \u001b[3m\u001b[90m<dbl>\u001b[39m\u001b[23m 1.71\u001b[90m, \u001b[39m1.78\u001b[90m, \u001b[39m2.36\u001b[90m, \u001b[39m1.95\u001b[90m, \u001b[39m2.59\u001b[90m, \u001b[39m1.76\u001b[90m, \u001b[39m1.8…\n",
      "$ Ash                            \u001b[3m\u001b[90m<dbl>\u001b[39m\u001b[23m 2.43\u001b[90m, \u001b[39m2.14\u001b[90m, \u001b[39m2.67\u001b[90m, \u001b[39m2.50\u001b[90m, \u001b[39m2.87\u001b[90m, \u001b[39m2.45\u001b[90m, \u001b[39m2.4…\n",
      "$ Alcalinity_of_ash              \u001b[3m\u001b[90m<dbl>\u001b[39m\u001b[23m 15.6\u001b[90m, \u001b[39m11.2\u001b[90m, \u001b[39m18.6\u001b[90m, \u001b[39m16.8\u001b[90m, \u001b[39m21.0\u001b[90m, \u001b[39m15.2\u001b[90m, \u001b[39m14.…\n",
      "$ Magnesium                      \u001b[3m\u001b[90m<dbl>\u001b[39m\u001b[23m 127\u001b[90m, \u001b[39m100\u001b[90m, \u001b[39m101\u001b[90m, \u001b[39m113\u001b[90m, \u001b[39m118\u001b[90m, \u001b[39m112\u001b[90m, \u001b[39m96\u001b[90m, \u001b[39m121\u001b[90m, \u001b[39m…\n",
      "$ Total_phenols                  \u001b[3m\u001b[90m<dbl>\u001b[39m\u001b[23m 2.80\u001b[90m, \u001b[39m2.65\u001b[90m, \u001b[39m2.80\u001b[90m, \u001b[39m3.85\u001b[90m, \u001b[39m2.80\u001b[90m, \u001b[39m3.27\u001b[90m, \u001b[39m2.5…\n",
      "$ Flavanoids                     \u001b[3m\u001b[90m<dbl>\u001b[39m\u001b[23m 3.06\u001b[90m, \u001b[39m2.76\u001b[90m, \u001b[39m3.24\u001b[90m, \u001b[39m3.49\u001b[90m, \u001b[39m2.69\u001b[90m, \u001b[39m3.39\u001b[90m, \u001b[39m2.5…\n",
      "$ Nonflavanoid_phenols           \u001b[3m\u001b[90m<dbl>\u001b[39m\u001b[23m 0.28\u001b[90m, \u001b[39m0.26\u001b[90m, \u001b[39m0.30\u001b[90m, \u001b[39m0.24\u001b[90m, \u001b[39m0.39\u001b[90m, \u001b[39m0.34\u001b[90m, \u001b[39m0.3…\n",
      "$ Proanthocyanins                \u001b[3m\u001b[90m<dbl>\u001b[39m\u001b[23m 2.29\u001b[90m, \u001b[39m1.28\u001b[90m, \u001b[39m2.81\u001b[90m, \u001b[39m2.18\u001b[90m, \u001b[39m1.82\u001b[90m, \u001b[39m1.97\u001b[90m, \u001b[39m1.9…\n",
      "$ Color_intensity                \u001b[3m\u001b[90m<dbl>\u001b[39m\u001b[23m 5.64\u001b[90m, \u001b[39m4.38\u001b[90m, \u001b[39m5.68\u001b[90m, \u001b[39m7.80\u001b[90m, \u001b[39m4.32\u001b[90m, \u001b[39m6.75\u001b[90m, \u001b[39m5.2…\n",
      "$ Hue                            \u001b[3m\u001b[90m<dbl>\u001b[39m\u001b[23m 1.04\u001b[90m, \u001b[39m1.05\u001b[90m, \u001b[39m1.03\u001b[90m, \u001b[39m0.86\u001b[90m, \u001b[39m1.04\u001b[90m, \u001b[39m1.05\u001b[90m, \u001b[39m1.0…\n",
      "$ `0D280_0D315_of_diluted_wines` \u001b[3m\u001b[90m<dbl>\u001b[39m\u001b[23m 3.92\u001b[90m, \u001b[39m3.40\u001b[90m, \u001b[39m3.17\u001b[90m, \u001b[39m3.45\u001b[90m, \u001b[39m2.93\u001b[90m, \u001b[39m2.85\u001b[90m, \u001b[39m3.5…\n",
      "$ Proline                        \u001b[3m\u001b[90m<dbl>\u001b[39m\u001b[23m 1065\u001b[90m, \u001b[39m1050\u001b[90m, \u001b[39m1185\u001b[90m, \u001b[39m1480\u001b[90m, \u001b[39m735\u001b[90m, \u001b[39m1450\u001b[90m, \u001b[39m1290…\n",
      "$ class                          \u001b[3m\u001b[90m<dbl>\u001b[39m\u001b[23m 1\u001b[90m, \u001b[39m1\u001b[90m, \u001b[39m1\u001b[90m, \u001b[39m1\u001b[90m, \u001b[39m1\u001b[90m, \u001b[39m1\u001b[90m, \u001b[39m1\u001b[90m, \u001b[39m1\u001b[90m, \u001b[39m1\u001b[90m, \u001b[39m1\u001b[90m, \u001b[39m1\u001b[90m, \u001b[39m1\u001b[90m, \u001b[39m1\u001b[90m, \u001b[39m…\n"
     ]
    },
    {
     "data": {
      "text/plain": [
       "    Alcohol        Malicacid          Ash        Alcalinity_of_ash\n",
       " Min.   :11.03   Min.   :0.740   Min.   :1.360   Min.   :10.60    \n",
       " 1st Qu.:12.36   1st Qu.:1.603   1st Qu.:2.210   1st Qu.:17.20    \n",
       " Median :13.05   Median :1.865   Median :2.360   Median :19.50    \n",
       " Mean   :13.00   Mean   :2.336   Mean   :2.367   Mean   :19.49    \n",
       " 3rd Qu.:13.68   3rd Qu.:3.083   3rd Qu.:2.558   3rd Qu.:21.50    \n",
       " Max.   :14.83   Max.   :5.800   Max.   :3.230   Max.   :30.00    \n",
       "   Magnesium      Total_phenols     Flavanoids    Nonflavanoid_phenols\n",
       " Min.   : 70.00   Min.   :0.980   Min.   :0.340   Min.   :0.1300      \n",
       " 1st Qu.: 88.00   1st Qu.:1.742   1st Qu.:1.205   1st Qu.:0.2700      \n",
       " Median : 98.00   Median :2.355   Median :2.135   Median :0.3400      \n",
       " Mean   : 99.74   Mean   :2.295   Mean   :2.029   Mean   :0.3619      \n",
       " 3rd Qu.:107.00   3rd Qu.:2.800   3rd Qu.:2.875   3rd Qu.:0.4375      \n",
       " Max.   :162.00   Max.   :3.880   Max.   :5.080   Max.   :0.6600      \n",
       " Proanthocyanins Color_intensity       Hue         0D280_0D315_of_diluted_wines\n",
       " Min.   :0.410   Min.   : 1.280   Min.   :0.4800   Min.   :1.270               \n",
       " 1st Qu.:1.250   1st Qu.: 3.220   1st Qu.:0.7825   1st Qu.:1.938               \n",
       " Median :1.555   Median : 4.690   Median :0.9650   Median :2.780               \n",
       " Mean   :1.591   Mean   : 5.058   Mean   :0.9574   Mean   :2.612               \n",
       " 3rd Qu.:1.950   3rd Qu.: 6.200   3rd Qu.:1.1200   3rd Qu.:3.170               \n",
       " Max.   :3.580   Max.   :13.000   Max.   :1.7100   Max.   :4.000               \n",
       "    Proline           class      \n",
       " Min.   : 278.0   Min.   :1.000  \n",
       " 1st Qu.: 500.5   1st Qu.:1.000  \n",
       " Median : 673.5   Median :2.000  \n",
       " Mean   : 746.9   Mean   :1.938  \n",
       " 3rd Qu.: 985.0   3rd Qu.:3.000  \n",
       " Max.   :1680.0   Max.   :3.000  "
      ]
     },
     "metadata": {},
     "output_type": "display_data"
    }
   ],
   "source": [
    "wine <- read_csv(\"wine.csv\")\n",
    "glimpse(wine)\n",
    "summary(wine)"
   ]
  },
  {
   "cell_type": "markdown",
   "id": "8b014e07-ef4f-40f4-89f0-723538811150",
   "metadata": {},
   "source": [
    "## Question 2\n",
    "\n",
    "#### a) Scale and center your data  \n",
    "*Hint:* Use a `mutate()` statement across all columns **except class** with `function(x) as.numeric(scale(x))`.\n",
    "\n",
    "#### b) Based on what you saw in the summary statistic table from the imported data, why would scaling and centering this data be helpful before we perform PCA?\n"
   ]
  },
  {
   "cell_type": "code",
   "execution_count": 5,
   "id": "4bb79b88",
   "metadata": {
    "vscode": {
     "languageId": "r"
    }
   },
   "outputs": [],
   "source": [
    "scaled <-wine %>%\n",
    "mutate(across(.cols=-class, .fns=~as.numeric(scale(.))))"
   ]
  },
  {
   "cell_type": "markdown",
   "id": "882395b5",
   "metadata": {},
   "source": [
    "Scaling and centering this data might be helpful before performing PCA because PCA displays multiple dimensions of data on the same graph, so it is more meaningful and easy to interpret when the data is on approximately the same numerical scale. Furthermore, scaling and centering the data would be helpful to determine which principal components to use because it is easier to compare proportion of variance. "
   ]
  },
  {
   "cell_type": "markdown",
   "id": "087a7186-b2e5-42a1-bfab-ee2945878553",
   "metadata": {},
   "source": [
    "## Question 3\n",
    "\n",
    "#### a) Perform PCA"
   ]
  },
  {
   "cell_type": "code",
   "execution_count": 13,
   "id": "ddfa7491",
   "metadata": {
    "vscode": {
     "languageId": "r"
    }
   },
   "outputs": [
    {
     "data": {
      "text/plain": [
       "Standard deviations (1, .., p=14):\n",
       " [1] 2.2797841 1.5802028 1.2025279 0.9608805 0.9317684 0.8131917 0.7435811\n",
       " [8] 0.5910663 0.5401830 0.5078404 0.4752135 0.4108322 0.3424757 0.2085970\n",
       "\n",
       "Rotation (n x k) = (14 x 14):\n",
       "                                      PC1          PC2           PC3\n",
       "Alcohol                      -0.139554110 -0.483986584 -0.2073937774\n",
       "Malicacid                     0.231278771 -0.224052306  0.0888801156\n",
       "Ash                          -0.000758731 -0.315929724  0.6261495205\n",
       "Alcalinity_of_ash             0.230293094  0.011263089  0.6120248225\n",
       "Magnesium                    -0.131041028 -0.300236426  0.1308963493\n",
       "Total_phenols                -0.372792367 -0.066404359  0.1463803150\n",
       "Flavanoids                   -0.403237284  0.002017377  0.1508538950\n",
       "Nonflavanoid_phenols          0.278847444 -0.027604752  0.1701277248\n",
       "Proanthocyanins              -0.291925075 -0.040561908  0.1497147503\n",
       "Color_intensity               0.089426322 -0.529856997 -0.1372817801\n",
       "Hue                          -0.284731497  0.278364629  0.0852872184\n",
       "0D280_0D315_of_diluted_wines -0.360649938  0.163368199  0.1661269358\n",
       "Proline                      -0.276412439 -0.365661893 -0.1267097530\n",
       "class                         0.311023528 -0.004816634  0.0009623389\n",
       "                                     PC4         PC5         PC6         PC7\n",
       "Alcohol                      -0.05202454  0.26128775  0.16536102  0.08109663\n",
       "Malicacid                     0.50792619  0.09224016  0.58008658 -0.38986636\n",
       "Ash                          -0.23483910  0.12056093  0.12592437  0.16145692\n",
       "Alcalinity_of_ash             0.06750549 -0.05695664 -0.09534441  0.27494282\n",
       "Magnesium                    -0.25528136 -0.75961835  0.10479264 -0.32783323\n",
       "Total_phenols                 0.19504272  0.14215523 -0.12544691  0.03482640\n",
       "Flavanoids                    0.14885364  0.10784345 -0.04674972  0.06557152\n",
       "Nonflavanoid_phenols         -0.27078415  0.47058669 -0.25340042 -0.60671679\n",
       "Proanthocyanins               0.43527140 -0.12361143 -0.49254225 -0.40687583\n",
       "Color_intensity               0.06919472  0.05497895 -0.42598886  0.19989161\n",
       "Hue                          -0.43609564  0.09789420  0.05092636 -0.20509280\n",
       "0D280_0D315_of_diluted_wines  0.17104798  0.12525099  0.23652420  0.06766169\n",
       "Proline                      -0.24708206  0.12092559  0.08811233 -0.06157391\n",
       "class                         0.07855492 -0.13013349 -0.16651338  0.05230843\n",
       "                                     PC8         PC9        PC10        PC11\n",
       "Alcohol                       0.41085968 -0.48056233  0.26657031 -0.22307817\n",
       "Malicacid                     0.07811783  0.03061612 -0.32214644  0.07118746\n",
       "Ash                          -0.17151142  0.28629906 -0.08144576 -0.49601658\n",
       "Alcalinity_of_ash             0.42011625 -0.15910053  0.11386621  0.47628860\n",
       "Magnesium                    -0.15219546 -0.26275246  0.10095846  0.07123668\n",
       "Total_phenols                -0.38223991 -0.35387300 -0.32340394  0.29983404\n",
       "Flavanoids                   -0.18072307 -0.07250367 -0.15083796 -0.02996008\n",
       "Nonflavanoid_phenols         -0.23206171 -0.17571862  0.23033372  0.12026342\n",
       "Proanthocyanins               0.35471193  0.24105395  0.12403042 -0.23448023\n",
       "Color_intensity              -0.03762399 -0.06894372 -0.24930845  0.02389587\n",
       "Hue                           0.46353836 -0.15796696 -0.52369102 -0.05686876\n",
       "0D280_0D315_of_diluted_wines -0.07290702 -0.10633712  0.48422273  0.05957373\n",
       "Proline                       0.11513687  0.56477893  0.04337797  0.54723350\n",
       "class                         0.05213407 -0.11111693 -0.16380096  0.01223112\n",
       "                                     PC12        PC13         PC14\n",
       "Alcohol                      -0.265240813  0.02620159 -0.082231639\n",
       "Malicacid                     0.120491970 -0.04853550  0.025647729\n",
       "Ash                          -0.047383556  0.17320790 -0.014819695\n",
       "Alcalinity_of_ash            -0.058460009 -0.15775842  0.099229101\n",
       "Magnesium                     0.061706989 -0.05861093 -0.013969977\n",
       "Total_phenols                -0.302432020  0.41707864  0.169545891\n",
       "Flavanoids                   -0.046369111 -0.71106740 -0.452804254\n",
       "Nonflavanoid_phenols          0.042506815 -0.08908413 -0.058790535\n",
       "Proanthocyanins              -0.094480759  0.11423370  0.039562012\n",
       "Color_intensity               0.601198625 -0.08479641  0.160155281\n",
       "Hue                           0.258510911  0.07486809  0.002671832\n",
       "0D280_0D315_of_diluted_wines  0.605927477  0.26100059 -0.142352226\n",
       "Proline                      -0.076130488  0.09446606 -0.195721573\n",
       "class                         0.009908058  0.38501464 -0.811967997"
      ]
     },
     "metadata": {},
     "output_type": "display_data"
    },
    {
     "data": {
      "text/plain": [
       "Importance of components:\n",
       "                          PC1    PC2    PC3     PC4     PC5     PC6     PC7\n",
       "Standard deviation     2.2798 1.5802 1.2025 0.96088 0.93177 0.81319 0.74358\n",
       "Proportion of Variance 0.3821 0.1836 0.1063 0.06789 0.06383 0.04862 0.04065\n",
       "Cumulative Proportion  0.3821 0.5657 0.6721 0.73995 0.80378 0.85241 0.89306\n",
       "                           PC8     PC9    PC10   PC11    PC12    PC13   PC14\n",
       "Standard deviation     0.59107 0.54018 0.50784 0.4752 0.41083 0.34248 0.2086\n",
       "Proportion of Variance 0.02569 0.02145 0.01896 0.0166 0.01241 0.00862 0.0032\n",
       "Cumulative Proportion  0.91875 0.94020 0.95916 0.9758 0.98818 0.99680 1.0000"
      ]
     },
     "metadata": {},
     "output_type": "display_data"
    }
   ],
   "source": [
    "wine_PCA<- prcomp(scaled)\n",
    "wine_PCA\n",
    "summary(prcomp(scaled))"
   ]
  },
  {
   "cell_type": "markdown",
   "id": "1468d46c",
   "metadata": {},
   "source": [
    "#### b) How much of the total variance is explained by PC1? PC2? What function do we use to see that information?"
   ]
  },
  {
   "cell_type": "markdown",
   "id": "bc8679e3",
   "metadata": {},
   "source": [
    "PC1 explains 38.21% of variance in the dataset. PC2 explains 18.36% of variance in the dataset. We use summary()of the PCA to see this information. "
   ]
  },
  {
   "cell_type": "markdown",
   "id": "c153451d",
   "metadata": {},
   "source": [
    "#### c) Why are we doing PCA first?"
   ]
  },
  {
   "cell_type": "markdown",
   "id": "c982a1d2",
   "metadata": {},
   "source": [
    "We are doing PCA first because it allows us to choose which dimensions provide the most meaningful structure for the visualization. It is an effective way to preprocess the data. "
   ]
  },
  {
   "cell_type": "markdown",
   "id": "f1f97c8b",
   "metadata": {},
   "source": [
    "#### d) What is the rotation matrix? Print it explicitly.  \n",
    "*Hint:* Check the notes for a simple way to do this!"
   ]
  },
  {
   "cell_type": "code",
   "execution_count": 14,
   "id": "dd479ae8",
   "metadata": {
    "vscode": {
     "languageId": "r"
    }
   },
   "outputs": [
    {
     "data": {
      "text/html": [
       "<table class=\"dataframe\">\n",
       "<caption>A matrix: 14 × 14 of type dbl</caption>\n",
       "<thead>\n",
       "\t<tr><th></th><th scope=col>Alcohol</th><th scope=col>Malicacid</th><th scope=col>Ash</th><th scope=col>Alcalinity_of_ash</th><th scope=col>Magnesium</th><th scope=col>Total_phenols</th><th scope=col>Flavanoids</th><th scope=col>Nonflavanoid_phenols</th><th scope=col>Proanthocyanins</th><th scope=col>Color_intensity</th><th scope=col>Hue</th><th scope=col>0D280_0D315_of_diluted_wines</th><th scope=col>Proline</th><th scope=col>class</th></tr>\n",
       "</thead>\n",
       "<tbody>\n",
       "\t<tr><th scope=row>PC1</th><td>-0.13955411</td><td> 0.23127877</td><td>-0.000758731</td><td> 0.23029309</td><td>-0.13104103</td><td>-0.37279237</td><td>-0.403237284</td><td> 0.27884744</td><td>-0.29192508</td><td> 0.08942632</td><td>-0.284731497</td><td>-0.36064994</td><td>-0.27641244</td><td> 0.3110235281</td></tr>\n",
       "\t<tr><th scope=row>PC2</th><td>-0.48398658</td><td>-0.22405231</td><td>-0.315929724</td><td> 0.01126309</td><td>-0.30023643</td><td>-0.06640436</td><td> 0.002017377</td><td>-0.02760475</td><td>-0.04056191</td><td>-0.52985700</td><td> 0.278364629</td><td> 0.16336820</td><td>-0.36566189</td><td>-0.0048166342</td></tr>\n",
       "\t<tr><th scope=row>PC3</th><td>-0.20739378</td><td> 0.08888012</td><td> 0.626149520</td><td> 0.61202482</td><td> 0.13089635</td><td> 0.14638031</td><td> 0.150853895</td><td> 0.17012772</td><td> 0.14971475</td><td>-0.13728178</td><td> 0.085287218</td><td> 0.16612694</td><td>-0.12670975</td><td> 0.0009623389</td></tr>\n",
       "\t<tr><th scope=row>PC4</th><td>-0.05202454</td><td> 0.50792619</td><td>-0.234839101</td><td> 0.06750549</td><td>-0.25528136</td><td> 0.19504272</td><td> 0.148853644</td><td>-0.27078415</td><td> 0.43527140</td><td> 0.06919472</td><td>-0.436095641</td><td> 0.17104798</td><td>-0.24708206</td><td> 0.0785549229</td></tr>\n",
       "\t<tr><th scope=row>PC5</th><td> 0.26128775</td><td> 0.09224016</td><td> 0.120560926</td><td>-0.05695664</td><td>-0.75961835</td><td> 0.14215523</td><td> 0.107843453</td><td> 0.47058669</td><td>-0.12361143</td><td> 0.05497895</td><td> 0.097894204</td><td> 0.12525099</td><td> 0.12092559</td><td>-0.1301334861</td></tr>\n",
       "\t<tr><th scope=row>PC6</th><td> 0.16536102</td><td> 0.58008658</td><td> 0.125924371</td><td>-0.09534441</td><td> 0.10479264</td><td>-0.12544691</td><td>-0.046749718</td><td>-0.25340042</td><td>-0.49254225</td><td>-0.42598886</td><td> 0.050926361</td><td> 0.23652420</td><td> 0.08811233</td><td>-0.1665133820</td></tr>\n",
       "\t<tr><th scope=row>PC7</th><td> 0.08109663</td><td>-0.38986636</td><td> 0.161456922</td><td> 0.27494282</td><td>-0.32783323</td><td> 0.03482640</td><td> 0.065571524</td><td>-0.60671679</td><td>-0.40687583</td><td> 0.19989161</td><td>-0.205092801</td><td> 0.06766169</td><td>-0.06157391</td><td> 0.0523084349</td></tr>\n",
       "\t<tr><th scope=row>PC8</th><td> 0.41085968</td><td> 0.07811783</td><td>-0.171511416</td><td> 0.42011625</td><td>-0.15219546</td><td>-0.38223991</td><td>-0.180723075</td><td>-0.23206171</td><td> 0.35471193</td><td>-0.03762399</td><td> 0.463538356</td><td>-0.07290702</td><td> 0.11513687</td><td> 0.0521340698</td></tr>\n",
       "\t<tr><th scope=row>PC9</th><td>-0.48056233</td><td> 0.03061612</td><td> 0.286299064</td><td>-0.15910053</td><td>-0.26275246</td><td>-0.35387300</td><td>-0.072503670</td><td>-0.17571862</td><td> 0.24105395</td><td>-0.06894372</td><td>-0.157966956</td><td>-0.10633712</td><td> 0.56477893</td><td>-0.1111169252</td></tr>\n",
       "\t<tr><th scope=row>PC10</th><td> 0.26657031</td><td>-0.32214644</td><td>-0.081445765</td><td> 0.11386621</td><td> 0.10095846</td><td>-0.32340394</td><td>-0.150837960</td><td> 0.23033372</td><td> 0.12403042</td><td>-0.24930845</td><td>-0.523691016</td><td> 0.48422273</td><td> 0.04337797</td><td>-0.1638009613</td></tr>\n",
       "\t<tr><th scope=row>PC11</th><td>-0.22307817</td><td> 0.07118746</td><td>-0.496016585</td><td> 0.47628860</td><td> 0.07123668</td><td> 0.29983404</td><td>-0.029960079</td><td> 0.12026342</td><td>-0.23448023</td><td> 0.02389587</td><td>-0.056868755</td><td> 0.05957373</td><td> 0.54723350</td><td> 0.0122311224</td></tr>\n",
       "\t<tr><th scope=row>PC12</th><td>-0.26524081</td><td> 0.12049197</td><td>-0.047383556</td><td>-0.05846001</td><td> 0.06170699</td><td>-0.30243202</td><td>-0.046369111</td><td> 0.04250682</td><td>-0.09448076</td><td> 0.60119862</td><td> 0.258510911</td><td> 0.60592748</td><td>-0.07613049</td><td> 0.0099080583</td></tr>\n",
       "\t<tr><th scope=row>PC13</th><td> 0.02620159</td><td>-0.04853550</td><td> 0.173207902</td><td>-0.15775842</td><td>-0.05861093</td><td> 0.41707864</td><td>-0.711067403</td><td>-0.08908413</td><td> 0.11423370</td><td>-0.08479641</td><td> 0.074868093</td><td> 0.26100059</td><td> 0.09446606</td><td> 0.3850146413</td></tr>\n",
       "\t<tr><th scope=row>PC14</th><td>-0.08223164</td><td> 0.02564773</td><td>-0.014819695</td><td> 0.09922910</td><td>-0.01396998</td><td> 0.16954589</td><td>-0.452804254</td><td>-0.05879054</td><td> 0.03956201</td><td> 0.16015528</td><td> 0.002671832</td><td>-0.14235223</td><td>-0.19572157</td><td>-0.8119679974</td></tr>\n",
       "</tbody>\n",
       "</table>\n"
      ],
      "text/latex": [
       "A matrix: 14 × 14 of type dbl\n",
       "\\begin{tabular}{r|llllllllllllll}\n",
       "  & Alcohol & Malicacid & Ash & Alcalinity\\_of\\_ash & Magnesium & Total\\_phenols & Flavanoids & Nonflavanoid\\_phenols & Proanthocyanins & Color\\_intensity & Hue & 0D280\\_0D315\\_of\\_diluted\\_wines & Proline & class\\\\\n",
       "\\hline\n",
       "\tPC1 & -0.13955411 &  0.23127877 & -0.000758731 &  0.23029309 & -0.13104103 & -0.37279237 & -0.403237284 &  0.27884744 & -0.29192508 &  0.08942632 & -0.284731497 & -0.36064994 & -0.27641244 &  0.3110235281\\\\\n",
       "\tPC2 & -0.48398658 & -0.22405231 & -0.315929724 &  0.01126309 & -0.30023643 & -0.06640436 &  0.002017377 & -0.02760475 & -0.04056191 & -0.52985700 &  0.278364629 &  0.16336820 & -0.36566189 & -0.0048166342\\\\\n",
       "\tPC3 & -0.20739378 &  0.08888012 &  0.626149520 &  0.61202482 &  0.13089635 &  0.14638031 &  0.150853895 &  0.17012772 &  0.14971475 & -0.13728178 &  0.085287218 &  0.16612694 & -0.12670975 &  0.0009623389\\\\\n",
       "\tPC4 & -0.05202454 &  0.50792619 & -0.234839101 &  0.06750549 & -0.25528136 &  0.19504272 &  0.148853644 & -0.27078415 &  0.43527140 &  0.06919472 & -0.436095641 &  0.17104798 & -0.24708206 &  0.0785549229\\\\\n",
       "\tPC5 &  0.26128775 &  0.09224016 &  0.120560926 & -0.05695664 & -0.75961835 &  0.14215523 &  0.107843453 &  0.47058669 & -0.12361143 &  0.05497895 &  0.097894204 &  0.12525099 &  0.12092559 & -0.1301334861\\\\\n",
       "\tPC6 &  0.16536102 &  0.58008658 &  0.125924371 & -0.09534441 &  0.10479264 & -0.12544691 & -0.046749718 & -0.25340042 & -0.49254225 & -0.42598886 &  0.050926361 &  0.23652420 &  0.08811233 & -0.1665133820\\\\\n",
       "\tPC7 &  0.08109663 & -0.38986636 &  0.161456922 &  0.27494282 & -0.32783323 &  0.03482640 &  0.065571524 & -0.60671679 & -0.40687583 &  0.19989161 & -0.205092801 &  0.06766169 & -0.06157391 &  0.0523084349\\\\\n",
       "\tPC8 &  0.41085968 &  0.07811783 & -0.171511416 &  0.42011625 & -0.15219546 & -0.38223991 & -0.180723075 & -0.23206171 &  0.35471193 & -0.03762399 &  0.463538356 & -0.07290702 &  0.11513687 &  0.0521340698\\\\\n",
       "\tPC9 & -0.48056233 &  0.03061612 &  0.286299064 & -0.15910053 & -0.26275246 & -0.35387300 & -0.072503670 & -0.17571862 &  0.24105395 & -0.06894372 & -0.157966956 & -0.10633712 &  0.56477893 & -0.1111169252\\\\\n",
       "\tPC10 &  0.26657031 & -0.32214644 & -0.081445765 &  0.11386621 &  0.10095846 & -0.32340394 & -0.150837960 &  0.23033372 &  0.12403042 & -0.24930845 & -0.523691016 &  0.48422273 &  0.04337797 & -0.1638009613\\\\\n",
       "\tPC11 & -0.22307817 &  0.07118746 & -0.496016585 &  0.47628860 &  0.07123668 &  0.29983404 & -0.029960079 &  0.12026342 & -0.23448023 &  0.02389587 & -0.056868755 &  0.05957373 &  0.54723350 &  0.0122311224\\\\\n",
       "\tPC12 & -0.26524081 &  0.12049197 & -0.047383556 & -0.05846001 &  0.06170699 & -0.30243202 & -0.046369111 &  0.04250682 & -0.09448076 &  0.60119862 &  0.258510911 &  0.60592748 & -0.07613049 &  0.0099080583\\\\\n",
       "\tPC13 &  0.02620159 & -0.04853550 &  0.173207902 & -0.15775842 & -0.05861093 &  0.41707864 & -0.711067403 & -0.08908413 &  0.11423370 & -0.08479641 &  0.074868093 &  0.26100059 &  0.09446606 &  0.3850146413\\\\\n",
       "\tPC14 & -0.08223164 &  0.02564773 & -0.014819695 &  0.09922910 & -0.01396998 &  0.16954589 & -0.452804254 & -0.05879054 &  0.03956201 &  0.16015528 &  0.002671832 & -0.14235223 & -0.19572157 & -0.8119679974\\\\\n",
       "\\end{tabular}\n"
      ],
      "text/markdown": [
       "\n",
       "A matrix: 14 × 14 of type dbl\n",
       "\n",
       "| <!--/--> | Alcohol | Malicacid | Ash | Alcalinity_of_ash | Magnesium | Total_phenols | Flavanoids | Nonflavanoid_phenols | Proanthocyanins | Color_intensity | Hue | 0D280_0D315_of_diluted_wines | Proline | class |\n",
       "|---|---|---|---|---|---|---|---|---|---|---|---|---|---|---|\n",
       "| PC1 | -0.13955411 |  0.23127877 | -0.000758731 |  0.23029309 | -0.13104103 | -0.37279237 | -0.403237284 |  0.27884744 | -0.29192508 |  0.08942632 | -0.284731497 | -0.36064994 | -0.27641244 |  0.3110235281 |\n",
       "| PC2 | -0.48398658 | -0.22405231 | -0.315929724 |  0.01126309 | -0.30023643 | -0.06640436 |  0.002017377 | -0.02760475 | -0.04056191 | -0.52985700 |  0.278364629 |  0.16336820 | -0.36566189 | -0.0048166342 |\n",
       "| PC3 | -0.20739378 |  0.08888012 |  0.626149520 |  0.61202482 |  0.13089635 |  0.14638031 |  0.150853895 |  0.17012772 |  0.14971475 | -0.13728178 |  0.085287218 |  0.16612694 | -0.12670975 |  0.0009623389 |\n",
       "| PC4 | -0.05202454 |  0.50792619 | -0.234839101 |  0.06750549 | -0.25528136 |  0.19504272 |  0.148853644 | -0.27078415 |  0.43527140 |  0.06919472 | -0.436095641 |  0.17104798 | -0.24708206 |  0.0785549229 |\n",
       "| PC5 |  0.26128775 |  0.09224016 |  0.120560926 | -0.05695664 | -0.75961835 |  0.14215523 |  0.107843453 |  0.47058669 | -0.12361143 |  0.05497895 |  0.097894204 |  0.12525099 |  0.12092559 | -0.1301334861 |\n",
       "| PC6 |  0.16536102 |  0.58008658 |  0.125924371 | -0.09534441 |  0.10479264 | -0.12544691 | -0.046749718 | -0.25340042 | -0.49254225 | -0.42598886 |  0.050926361 |  0.23652420 |  0.08811233 | -0.1665133820 |\n",
       "| PC7 |  0.08109663 | -0.38986636 |  0.161456922 |  0.27494282 | -0.32783323 |  0.03482640 |  0.065571524 | -0.60671679 | -0.40687583 |  0.19989161 | -0.205092801 |  0.06766169 | -0.06157391 |  0.0523084349 |\n",
       "| PC8 |  0.41085968 |  0.07811783 | -0.171511416 |  0.42011625 | -0.15219546 | -0.38223991 | -0.180723075 | -0.23206171 |  0.35471193 | -0.03762399 |  0.463538356 | -0.07290702 |  0.11513687 |  0.0521340698 |\n",
       "| PC9 | -0.48056233 |  0.03061612 |  0.286299064 | -0.15910053 | -0.26275246 | -0.35387300 | -0.072503670 | -0.17571862 |  0.24105395 | -0.06894372 | -0.157966956 | -0.10633712 |  0.56477893 | -0.1111169252 |\n",
       "| PC10 |  0.26657031 | -0.32214644 | -0.081445765 |  0.11386621 |  0.10095846 | -0.32340394 | -0.150837960 |  0.23033372 |  0.12403042 | -0.24930845 | -0.523691016 |  0.48422273 |  0.04337797 | -0.1638009613 |\n",
       "| PC11 | -0.22307817 |  0.07118746 | -0.496016585 |  0.47628860 |  0.07123668 |  0.29983404 | -0.029960079 |  0.12026342 | -0.23448023 |  0.02389587 | -0.056868755 |  0.05957373 |  0.54723350 |  0.0122311224 |\n",
       "| PC12 | -0.26524081 |  0.12049197 | -0.047383556 | -0.05846001 |  0.06170699 | -0.30243202 | -0.046369111 |  0.04250682 | -0.09448076 |  0.60119862 |  0.258510911 |  0.60592748 | -0.07613049 |  0.0099080583 |\n",
       "| PC13 |  0.02620159 | -0.04853550 |  0.173207902 | -0.15775842 | -0.05861093 |  0.41707864 | -0.711067403 | -0.08908413 |  0.11423370 | -0.08479641 |  0.074868093 |  0.26100059 |  0.09446606 |  0.3850146413 |\n",
       "| PC14 | -0.08223164 |  0.02564773 | -0.014819695 |  0.09922910 | -0.01396998 |  0.16954589 | -0.452804254 | -0.05879054 |  0.03956201 |  0.16015528 |  0.002671832 | -0.14235223 | -0.19572157 | -0.8119679974 |\n",
       "\n"
      ],
      "text/plain": [
       "     Alcohol     Malicacid   Ash          Alcalinity_of_ash Magnesium  \n",
       "PC1  -0.13955411  0.23127877 -0.000758731  0.23029309       -0.13104103\n",
       "PC2  -0.48398658 -0.22405231 -0.315929724  0.01126309       -0.30023643\n",
       "PC3  -0.20739378  0.08888012  0.626149520  0.61202482        0.13089635\n",
       "PC4  -0.05202454  0.50792619 -0.234839101  0.06750549       -0.25528136\n",
       "PC5   0.26128775  0.09224016  0.120560926 -0.05695664       -0.75961835\n",
       "PC6   0.16536102  0.58008658  0.125924371 -0.09534441        0.10479264\n",
       "PC7   0.08109663 -0.38986636  0.161456922  0.27494282       -0.32783323\n",
       "PC8   0.41085968  0.07811783 -0.171511416  0.42011625       -0.15219546\n",
       "PC9  -0.48056233  0.03061612  0.286299064 -0.15910053       -0.26275246\n",
       "PC10  0.26657031 -0.32214644 -0.081445765  0.11386621        0.10095846\n",
       "PC11 -0.22307817  0.07118746 -0.496016585  0.47628860        0.07123668\n",
       "PC12 -0.26524081  0.12049197 -0.047383556 -0.05846001        0.06170699\n",
       "PC13  0.02620159 -0.04853550  0.173207902 -0.15775842       -0.05861093\n",
       "PC14 -0.08223164  0.02564773 -0.014819695  0.09922910       -0.01396998\n",
       "     Total_phenols Flavanoids   Nonflavanoid_phenols Proanthocyanins\n",
       "PC1  -0.37279237   -0.403237284  0.27884744          -0.29192508    \n",
       "PC2  -0.06640436    0.002017377 -0.02760475          -0.04056191    \n",
       "PC3   0.14638031    0.150853895  0.17012772           0.14971475    \n",
       "PC4   0.19504272    0.148853644 -0.27078415           0.43527140    \n",
       "PC5   0.14215523    0.107843453  0.47058669          -0.12361143    \n",
       "PC6  -0.12544691   -0.046749718 -0.25340042          -0.49254225    \n",
       "PC7   0.03482640    0.065571524 -0.60671679          -0.40687583    \n",
       "PC8  -0.38223991   -0.180723075 -0.23206171           0.35471193    \n",
       "PC9  -0.35387300   -0.072503670 -0.17571862           0.24105395    \n",
       "PC10 -0.32340394   -0.150837960  0.23033372           0.12403042    \n",
       "PC11  0.29983404   -0.029960079  0.12026342          -0.23448023    \n",
       "PC12 -0.30243202   -0.046369111  0.04250682          -0.09448076    \n",
       "PC13  0.41707864   -0.711067403 -0.08908413           0.11423370    \n",
       "PC14  0.16954589   -0.452804254 -0.05879054           0.03956201    \n",
       "     Color_intensity Hue          0D280_0D315_of_diluted_wines Proline    \n",
       "PC1   0.08942632     -0.284731497 -0.36064994                  -0.27641244\n",
       "PC2  -0.52985700      0.278364629  0.16336820                  -0.36566189\n",
       "PC3  -0.13728178      0.085287218  0.16612694                  -0.12670975\n",
       "PC4   0.06919472     -0.436095641  0.17104798                  -0.24708206\n",
       "PC5   0.05497895      0.097894204  0.12525099                   0.12092559\n",
       "PC6  -0.42598886      0.050926361  0.23652420                   0.08811233\n",
       "PC7   0.19989161     -0.205092801  0.06766169                  -0.06157391\n",
       "PC8  -0.03762399      0.463538356 -0.07290702                   0.11513687\n",
       "PC9  -0.06894372     -0.157966956 -0.10633712                   0.56477893\n",
       "PC10 -0.24930845     -0.523691016  0.48422273                   0.04337797\n",
       "PC11  0.02389587     -0.056868755  0.05957373                   0.54723350\n",
       "PC12  0.60119862      0.258510911  0.60592748                  -0.07613049\n",
       "PC13 -0.08479641      0.074868093  0.26100059                   0.09446606\n",
       "PC14  0.16015528      0.002671832 -0.14235223                  -0.19572157\n",
       "     class        \n",
       "PC1   0.3110235281\n",
       "PC2  -0.0048166342\n",
       "PC3   0.0009623389\n",
       "PC4   0.0785549229\n",
       "PC5  -0.1301334861\n",
       "PC6  -0.1665133820\n",
       "PC7   0.0523084349\n",
       "PC8   0.0521340698\n",
       "PC9  -0.1111169252\n",
       "PC10 -0.1638009613\n",
       "PC11  0.0122311224\n",
       "PC12  0.0099080583\n",
       "PC13  0.3850146413\n",
       "PC14 -0.8119679974"
      ]
     },
     "metadata": {},
     "output_type": "display_data"
    }
   ],
   "source": [
    "rotation<- solve(wine_PCA$rotation)\n",
    "rotation"
   ]
  },
  {
   "cell_type": "markdown",
   "id": "0b402dc2",
   "metadata": {},
   "source": [
    "#### e) Plot PC1 vs. PC2, using the wine class as labels for coloring.  \n",
    "*Hint:* You'll first need a data set with only PC1 and PC2, then add back the class variable from your scaled data set with a `mutate()` statement. Then, you can use `color = factor(class)` in your `ggplot` statement."
   ]
  },
  {
   "cell_type": "code",
   "execution_count": 20,
   "id": "eae13a61",
   "metadata": {
    "vscode": {
     "languageId": "r"
    }
   },
   "outputs": [
    {
     "data": {
      "image/png": "[encoded data removed]",
      "text/plain": [
       "plot without title"
      ]
     },
     "metadata": {
      "image/png": {
       "height": 420,
       "width": 420
      }
     },
     "output_type": "display_data"
    }
   ],
   "source": [
    "pca_df <- as.data.frame(wine_PCA$x) %>%\n",
    "  select(PC1, PC2) %>%\n",
    "  mutate(class = scaled$class)\n",
    "\n",
    "ggplot(pca_df, aes(x = PC1, y = PC2, color = factor(class))) +\n",
    "  geom_point(size = 2) +\n",
    "  labs(title = \"Wine PCA\",\n",
    "       x = \"Principal Component 1\",\n",
    "       y = \"Principal Component 2\",\n",
    "       color = \"Wine Class\")"
   ]
  },
  {
   "cell_type": "markdown",
   "id": "ce2c2798",
   "metadata": {},
   "source": [
    "#### f) What do you see after plotting PC1 vs. PC2? What does this mean in context of wine classes?"
   ]
  },
  {
   "cell_type": "markdown",
   "id": "68b63d0c",
   "metadata": {},
   "source": [
    "PC1 seems to distinguish the three wine classes, while PC2 only distinguishes between Class 2 and the other classes. This means that you could likely distinguish the class of the wine based solely on PC1, but you may only be able to narrow it down to 2 classes if you only had PC2. "
   ]
  },
  {
   "cell_type": "markdown",
   "id": "7febf2cb",
   "metadata": {},
   "source": [
    "#### g) Give an example of data where PCA would fail. You can describe the data or do a simulation.  \n",
    "*Hint:* Our notes have a few examples!"
   ]
  },
  {
   "cell_type": "markdown",
   "id": "733ffa35",
   "metadata": {},
   "source": [
    "PCA would fail in a situation where the data only had one interesting degree of variation. For example, if a data set only separated two colors, the color would be the only degree of variation. Therefore, there would be no PC2 that could be used as an identifier for the data points and no second axis for the PCA. "
   ]
  },
  {
   "cell_type": "markdown",
   "id": "a2091946",
   "metadata": {},
   "source": [
    "#### h) Explain the difference between vector space and manifold, and how these terms apply to what we did/will do with T-SNE.\n"
   ]
  },
  {
   "cell_type": "markdown",
   "id": "e5931828",
   "metadata": {},
   "source": [
    "Vector space is a flat linear space where you can add and scale vectors. Manifold is like a vector space, but it can have an additional dimension. T-SNE assumes that the vectors lie in a manifold with more dimensions, so it tries to account for that in its display of data. "
   ]
  },
  {
   "cell_type": "markdown",
   "id": "ec52868c-a2a4-412a-a621-bbe2d4d5020e",
   "metadata": {},
   "source": [
    "## Question 4\n",
    "#### a) Perform T-SNE\n",
    "Set `seed = 123`.  \n",
    "*Hint:* Subset your PCA results to PC1–PC10, add the class variable back in, remove duplicates, then perform T-SNE."
   ]
  },
  {
   "cell_type": "code",
   "execution_count": 23,
   "id": "408ee5bf",
   "metadata": {
    "vscode": {
     "languageId": "r"
    }
   },
   "outputs": [],
   "source": [
    "tsne_data <- as.data.frame(wine_PCA$x) %>%\n",
    "  select(PC1:PC10) %>%\n",
    "  mutate(class = scaled$class) %>%\n",
    "  distinct()\n",
    "\n",
    "set.seed(123)\n",
    "\n",
    "tsne<-Rtsne(tsne_data, dims = 2, perplexity = 30, verbose = FALSE, check_duplicates = FALSE)"
   ]
  },
  {
   "cell_type": "markdown",
   "id": "a1c10bd6",
   "metadata": {},
   "source": [
    "#### b) Plot the results in 2D\n",
    "*Hint:* Convert your T-SNE results to a tibble and add back the class variable from your scaled data set using a `mutate()` statement. Then, you can use `color = factor(class)` in your `ggplot` statement."
   ]
  },
  {
   "cell_type": "code",
   "execution_count": 27,
   "id": "1fdee918",
   "metadata": {
    "vscode": {
     "languageId": "r"
    }
   },
   "outputs": [
    {
     "data": {
      "image/png": "[encoded data removed]",
      "text/plain": [
       "plot without title"
      ]
     },
     "metadata": {
      "image/png": {
       "height": 420,
       "width": 420
      }
     },
     "output_type": "display_data"
    }
   ],
   "source": [
    "tsne_tibble <- as_tibble(tsne$Y) %>%\n",
    "  rename(Dim1 = V1, Dim2 = V2) %>%\n",
    "  mutate(class = tsne_data$class)\n",
    "\n",
    "ggplot(tsne_tibble, aes(x = Dim1, y = Dim2, color = factor(class))) +\n",
    "  geom_point(size = 2) +\n",
    "  labs(title = \"T-SNE Plot (2D)\",\n",
    "       x = \"T-SNE Dimension 1\",\n",
    "       y = \"T-SNE Dimension 2\",\n",
    "       color = \"Wine Class\")"
   ]
  },
  {
   "cell_type": "markdown",
   "id": "9a475cdb",
   "metadata": {},
   "source": [
    "#### c) Why didn't we stop at PCA?"
   ]
  },
  {
   "cell_type": "markdown",
   "id": "edcd8912",
   "metadata": {},
   "source": [
    "We didn't stop at PCA because PCA is not as effective for making visualizations. T-SNE can also unfold the data more so that the data is separated more clearly. "
   ]
  },
  {
   "cell_type": "markdown",
   "id": "14b03861",
   "metadata": {},
   "source": [
    "#### d) What other types of data does this workflow make sense for?\n",
    "\n"
   ]
  },
  {
   "cell_type": "markdown",
   "id": "5d5ffbde",
   "metadata": {},
   "source": [
    "This workflow would make sense for any dataset with data that falls into categories which can be identified using a variety of other numerical factors. "
   ]
  }
 ],
 "metadata": {
  "kernelspec": {
   "display_name": "R",
   "language": "R",
   "name": "ir"
  },
  "language_info": {
   "codemirror_mode": "r",
   "file_extension": ".r",
   "mimetype": "text/x-r-source",
   "name": "R",
   "pygments_lexer": "r",
   "version": "4.5.1"
  }
 },
 "nbformat": 4,
 "nbformat_minor": 5
}
